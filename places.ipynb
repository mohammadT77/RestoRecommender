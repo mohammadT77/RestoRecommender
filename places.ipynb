{
 "cells": [
  {
   "cell_type": "code",
   "execution_count": 35,
   "metadata": {},
   "outputs": [
    {
     "name": "stdout",
     "output_type": "stream",
     "text": [
      "Requirement already satisfied: python-dotenv in ./venv/lib/python3.12/site-packages (1.0.1)\n"
     ]
    }
   ],
   "source": [
    "!pip install python-dotenv"
   ]
  },
  {
   "cell_type": "code",
   "execution_count": 3,
   "metadata": {},
   "outputs": [
    {
     "data": {
      "text/plain": [
       "True"
      ]
     },
     "execution_count": 3,
     "metadata": {},
     "output_type": "execute_result"
    }
   ],
   "source": [
    "import dotenv\n",
    "import os\n",
    "import json\n",
    "import requests\n",
    "import csv\n",
    "from itertools import chain\n",
    "from pprint import pprint\n",
    "\n",
    "dotenv.load_dotenv()"
   ]
  },
  {
   "cell_type": "markdown",
   "metadata": {},
   "source": [
    "An Example of a review object:\n",
    "\n",
    "```json\n",
    "{'authorAttribution': {'displayName': 'Henk Vyncke',\n",
    "                       'photoUri': 'https://lh3.googleusercontent.com/a-/ALV-UjWCd4R3VchPubvMkIA1_mlgDEPMEWrIbv9mprhaMZAbDjChvTtS=s128-c0x00000000-cc-rp-mo-ba4',\n",
    "                       'uri': 'https://www.google.com/maps/contrib/103733968569168024105/reviews'},\n",
    " 'name': 'places/ChIJpXSgrsDbfkcRzf_5kCMmrZI/reviews/ChdDSUhNMG9nS0VJQ0FnSUNUdnYyMnBBRRAB',\n",
    " 'originalText': {'languageCode': 'en',\n",
    "                  'text': 'Huge \"eating palace\" which is lacking the fine '\n",
    "                          'accents of the italian food although the service '\n",
    "                          'was top. I would recommend for lunch, less for '\n",
    "                          'dinner'},\n",
    " 'publishTime': '2024-05-15T09:37:18Z',\n",
    " 'rating': 4,\n",
    " 'relativePublishTimeDescription': 'in the last week',\n",
    " 'text': {'languageCode': 'en',\n",
    "          'text': 'Huge \"eating palace\" which is lacking the fine accents of '\n",
    "                  'the italian food although the service was top. I would '\n",
    "                  'recommend for lunch, less for dinner'}}\n",
    "```\n"
   ]
  },
  {
   "cell_type": "code",
   "execution_count": 16,
   "metadata": {},
   "outputs": [],
   "source": [
    "# ['*'] for all the details or from ['name', 'id', 'types', 'nationalPhoneNumber', 'internationalPhoneNumber', 'formattedAddress', 'addressComponents', 'plusCode', 'location', 'viewport', 'rating', 'googleMapsUri', 'websiteUri', 'regularOpeningHours', 'utcOffsetMinutes', 'adrFormatAddress', 'businessStatus', 'priceLevel', 'userRatingCount', 'iconMaskBaseUri', 'iconBackgroundColor', 'displayName', 'primaryTypeDisplayName', 'takeout', 'delivery', 'dineIn', 'curbsidePickup', 'servesBreakfast', 'servesLunch', 'servesDinner', 'servesBeer', 'servesWine', 'servesVegetarianFood', 'currentOpeningHours', 'primaryType', 'shortFormattedAddress', 'editorialSummary', 'reviews', 'photos', 'outdoorSeating', 'menuForChildren', 'servesDessert', 'servesCoffee', 'goodForChildren', 'restroom', 'goodForGroups', 'paymentOptions', 'parkingOptions', 'accessibilityOptions']\n",
    "PLACE_DETAILS_FIELDS = ('*')\n",
    "DATA_PATH = 'data/'\n",
    "PLACES_CSV_FIELDS = ('name', 'id', 'types', 'formattedAddress', 'rating', 'reviewsCount', 'location')\n",
    "REVIEWS_CSV_FIELDS = ('name', 'text.languageCode', 'text.text', 'rating')\n",
    "\n",
    "# create data folder if it doesn't exist\n",
    "if not os.path.exists(os.path.join(DATA_PATH,'places')):\n",
    "    os.makedirs(os.path.join(DATA_PATH,'places'))"
   ]
  },
  {
   "cell_type": "markdown",
   "metadata": {},
   "source": [
    "## Fetch places"
   ]
  },
  {
   "cell_type": "code",
   "execution_count": 13,
   "metadata": {},
   "outputs": [],
   "source": [
    "def fetch_places(data, fields: list = ['places.id']):\n",
    "    '''\n",
    "    this function fetches the places near a point\n",
    "    \n",
    "    data is a dict\n",
    "    fields is used to fetch the places, default is ['places.id']\n",
    "    \n",
    "    returns a dict\n",
    "    '''\n",
    "    headers = {\n",
    "            \"Content-Type\": \"application/json\",\n",
    "            \"X-Goog-Api-Key\": os.getenv(\"GMAPS_API_KEY\"),\n",
    "            \"X-Goog-FieldMask\": \",\".join(fields)\n",
    "    }\n",
    "    res = requests.post(\"https://places.googleapis.com/v1/places:searchNearby\", json=data, headers=headers)\n",
    "    if res.status_code == 200:\n",
    "        return res.json()\n",
    "    else:\n",
    "        raise Exception(f\"Error while fetching places with status {res.status_code}: {res.text}\")"
   ]
  },
  {
   "cell_type": "code",
   "execution_count": 27,
   "metadata": {},
   "outputs": [],
   "source": [
    "def fetch_place_details(place_id, fields: tuple = PLACE_DETAILS_FIELDS):\n",
    "    '''\n",
    "    this function fetches the details of a place\n",
    "\n",
    "    fields is used to fetch the place details, default is all\n",
    "\n",
    "    returns a dict\n",
    "    '''\n",
    "    headers = {\n",
    "            \"Content-Type\": \"application/json\",\n",
    "            \"X-Goog-Api-Key\": os.getenv(\"GMAPS_API_KEY\"),\n",
    "            \"X-Goog-FieldMask\": \",\".join(fields)\n",
    "    }\n",
    "    res = requests.get(\"https://places.googleapis.com/v1/places/\"+place_id, headers=headers)\n",
    "    if res.status_code == 200:\n",
    "        return res.json()\n",
    "    else:\n",
    "        raise Exception(f\"Error while fetching place details with status {res.status_code}: {res.text}\")"
   ]
  },
  {
   "cell_type": "code",
   "execution_count": 42,
   "metadata": {},
   "outputs": [],
   "source": [
    "def save_place(place, prefix=''):\n",
    "    '''\n",
    "    place is a dict\n",
    "    prefix is used to prefix the save path\n",
    "    name format: prefix+place['id']+'.json'\n",
    "    \n",
    "    Example:\n",
    "     - bar-ChIJ-y2_lD7afkcRfuWr-pW2IEU.json\n",
    "\n",
    "    returns the save path\n",
    "    '''\n",
    "    path = os.path.join(DATA_PATH, 'places', prefix+place['id']+'.json')\n",
    "    with open(path, 'w') as f:\n",
    "        json.dump(place, f)\n",
    "    return path"
   ]
  },
  {
   "cell_type": "code",
   "execution_count": 75,
   "metadata": {},
   "outputs": [],
   "source": [
    "def get_places(*place_params, detail_fields: tuple = PLACE_DETAILS_FIELDS, save_prefix='', update_existing=False):\n",
    "    '''\n",
    "    this function gets a variable number of place parameters, fetch all places nearby, iterate all of them, save and yield them\n",
    "\n",
    "    yield (place_id, place, save_path)\n",
    "\n",
    "    place is None if it already exists\n",
    "    place is an Exception if it failed to fetch\n",
    "    save_path is None if it already exists\n",
    "    save_path is an Exception if it failed to save\n",
    "\n",
    "    if update_existing is False, it will not yield anything if it already exists\n",
    "\n",
    "    save_prefix is used to prefix the save path\n",
    "\n",
    "    detail_fields is used to fetch the place details, default is all\n",
    "    '''\n",
    "    places_ids = []\n",
    "    for pparams in place_params:\n",
    "        places = fetch_places(pparams)\n",
    "        places_ids.extend(map(lambda p:p['id'], places['places']))\n",
    "    \n",
    "    places_ids = list(set(places_ids))  # remove duplicates\n",
    "    \n",
    "    for place_id in places_ids:\n",
    "        if not update_existing and os.path.exists(os.path.join(DATA_PATH, 'places', save_prefix+place_id+'.json')):\n",
    "            yield (place_id, None, None)\n",
    "            continue\n",
    "\n",
    "        try:\n",
    "            place = fetch_place_details(place_id, detail_fields)\n",
    "        except Exception as e:\n",
    "            yield (place_id, e, None)\n",
    "            continue\n",
    "\n",
    "        try:\n",
    "            save_path = save_place(place, save_prefix)\n",
    "            yield (place_id, place, save_path)\n",
    "        except Exception as e:\n",
    "            yield (place_id, place, e)\n"
   ]
  },
  {
   "cell_type": "code",
   "execution_count": 90,
   "metadata": {},
   "outputs": [
    {
     "name": "stdout",
     "output_type": "stream",
     "text": [
      "New places found: 0 / 78\n"
     ]
    }
   ],
   "source": [
    "# Some points in padova\n",
    "padova_points = [{\n",
    "        \"latitude\": 45.416668,\n",
    "        \"longitude\": 11.866667\n",
    "        },\n",
    "        {\n",
    "        \"latitude\": 45.4285770245207,\n",
    "        \"longitude\": 11.887496970211265\n",
    "        },\n",
    "        {\n",
    "        \"latitude\": 45.4061953606289, \n",
    "        \"longitude\": 11.877509545938512,\n",
    "        },\n",
    "        {\n",
    "        \"latitude\": 45.40928596604953, \n",
    "        \"longitude\": 11.910659904660807,\n",
    "        },\n",
    "        {\n",
    "        \"latitude\": 45.40498454875341, \n",
    "        \"longitude\": 11.856252843378272,\n",
    "        },\n",
    "        {\n",
    "        \"latitude\": 45.39238427909031, \n",
    "        \"longitude\": 11.859049123320446,\n",
    "        },\n",
    "        {\n",
    "        \"latitude\": 45.380370067550885,\n",
    "        \"longitude\": 11.883652085236182,\n",
    "        },\n",
    "        {\n",
    "        \"latitude\": 45.40928596604953, \n",
    "        \"longitude\": 11.910659904660807,\n",
    "        },\n",
    "        {\n",
    "        \"latitude\": 45.3842376759648, \n",
    "        \"longitude\": 11.84967310315375,\n",
    "        },\n",
    "    \n",
    "]\n",
    "\n",
    "restaurant_params = [\n",
    "    {\n",
    "        \"includedTypes\": [\"restaurant\"],\n",
    "        \"maxResultCount\": 20,\n",
    "        \"locationRestriction\": {\n",
    "            \"circle\": {\n",
    "                \"center\": p,\n",
    "                \"radius\": 8000\n",
    "            },\n",
    "        }\n",
    "    }\n",
    "    for p in padova_points\n",
    "]\n",
    "bar_params = [\n",
    "    {\n",
    "        \"includedTypes\": [\"bar\"],\n",
    "        \"maxResultCount\": 20,\n",
    "        \"locationRestriction\": {\n",
    "            \"circle\": {\n",
    "                \"center\": p,\n",
    "                \"radius\": 3000\n",
    "            },\n",
    "        }\n",
    "    }\n",
    "  for p in padova_points\n",
    "]\n",
    "\n",
    "\n",
    "restaurants = get_places(*restaurant_params, save_prefix='restaurant-')\n",
    "bars = get_places(*bar_params, save_prefix='bar-')\n",
    "\n",
    "total_ids = 0\n",
    "new_ids = 0\n",
    "for place_id, place, save_path in chain(restaurants, bars):\n",
    "    total_ids += 1\n",
    "\n",
    "    if place is None:\n",
    "        # it already exists\n",
    "        continue\n",
    "    if isinstance(place, Exception):\n",
    "        print(\"Error while fetching place details with id:\", place_id, \"error:\", place)\n",
    "        continue\n",
    "        \n",
    "    if isinstance(save_path, str):\n",
    "        print(\"New place found and saved with id:\", place_id, \"at\", save_path)\n",
    "        new_ids += 1\n",
    "    elif isinstance(save_path, Exception):\n",
    "        print(\"New place found with id:\", place_id, \"but COULD NOT SAVE IT, error:\", save_path)\n",
    "    else:\n",
    "        print(\"New place found with id:\", place_id, \"but COULD NOT SAVE IT\")\n",
    "    \n",
    "\n",
    "print(\"New places found:\", new_ids, \"/\", total_ids)\n",
    "        \n"
   ]
  },
  {
   "cell_type": "markdown",
   "metadata": {},
   "source": [
    "## Read Places and Reviews"
   ]
  },
  {
   "cell_type": "code",
   "execution_count": 7,
   "metadata": {},
   "outputs": [],
   "source": [
    "def read_places(prefix='', limit=None):\n",
    "    '''\n",
    "    This function reads all the places in the places folder\n",
    "    prefix is used to filter the files\n",
    "    limit is used to limit the number of files read\n",
    "\n",
    "    yield (file path, place_dict)\n",
    "\n",
    "    place_dict is None if it failed to load or doesn't start with prefix\n",
    "    place_dict is an Exception if it failed to load\n",
    "    '''\n",
    "    dirpath = os.path.join(DATA_PATH, 'places')\n",
    "    i = 0\n",
    "    for p in os.scandir(dirpath):\n",
    "        if not p.is_file() or not p.name.startswith(prefix):\n",
    "            yield (p.name, None)\n",
    "            continue\n",
    "        \n",
    "        i += 1\n",
    "        if limit is not None and i > limit:\n",
    "            break\n",
    "\n",
    "        with open(p.path) as f:\n",
    "            try:\n",
    "                yield (p.name, json.load(f))\n",
    "            except Exception as e:\n",
    "                yield (p.name, e)"
   ]
  },
  {
   "cell_type": "code",
   "execution_count": 8,
   "metadata": {},
   "outputs": [],
   "source": [
    "def read_reviews(places_iter, limit=None):\n",
    "    '''\n",
    "    This function reads all the reviews of the given places iterator\n",
    "    limit is used to limit the number of reviews read\n",
    "\n",
    "    yield (place_id, review_dict)\n",
    "    '''\n",
    "    i = 0\n",
    "    for path, place in places_iter:\n",
    "        for review in place['reviews']:\n",
    "            i += 1\n",
    "            if limit is not None and i > limit:\n",
    "                break\n",
    "            yield (place['id'], review)"
   ]
  },
  {
   "cell_type": "code",
   "execution_count": 20,
   "metadata": {},
   "outputs": [
    {
     "name": "stdout",
     "output_type": "stream",
     "text": [
      "Total number of reviews: 645\n"
     ]
    }
   ],
   "source": [
    "i = 0\n",
    "for r in read_reviews(read_places()):\n",
    "    # print(r)\n",
    "    i += 1\n",
    "print(\"Total number of reviews:\", i)"
   ]
  },
  {
   "cell_type": "markdown",
   "metadata": {},
   "source": [
    "### Save CSV datasets"
   ]
  },
  {
   "cell_type": "code",
   "execution_count": 21,
   "metadata": {},
   "outputs": [],
   "source": [
    "# Some utils\n",
    "\n",
    "# perform flatten before write csv, allows nested fields like: text.languageCode.\n",
    "# BUT, it makes reading the csv more difficult technically\n",
    "# TODO: reconsider this\n",
    "\n",
    "def flatten_dict(d, parent_key='', sep='.'):\n",
    "    '''\n",
    "    this function flattens a dictionary\n",
    "    '''\n",
    "    items = []\n",
    "    for k, v in d.items():\n",
    "        new_key = f'{parent_key}{sep}{k}' if parent_key else k\n",
    "        if isinstance(v, dict):\n",
    "            items.extend(flatten_dict(v, new_key, sep=sep).items())\n",
    "        else:\n",
    "            items.append((new_key, v))\n",
    "    return dict(items)\n",
    "\n",
    "def flatten_and_filter_dict(review, fields):\n",
    "    flat_review = flatten_dict(review)\n",
    "    return {field: flat_review.get(field, '') for field in fields}\n"
   ]
  },
  {
   "cell_type": "markdown",
   "metadata": {},
   "source": [
    "#### Save Places info"
   ]
  },
  {
   "cell_type": "code",
   "execution_count": 30,
   "metadata": {},
   "outputs": [],
   "source": [
    "def save_place_csv(places_iter, file_path=os.path.join(DATA_PATH, 'places.csv'), fields: tuple = PLACES_CSV_FIELDS):\n",
    "    with open(file_path, 'w') as f:\n",
    "        writer = csv.DictWriter(f, fieldnames=fields)\n",
    "        writer.writeheader()\n",
    "        for path, place in places_iter:\n",
    "            # print(flattened_place)\n",
    "            flattened_place = flatten_and_filter_dict(place, fields)\n",
    "            writer.writerow(flattened_place)\n",
    "    return file_path    \n"
   ]
  },
  {
   "cell_type": "markdown",
   "metadata": {},
   "source": [
    "#### Save Reviews"
   ]
  },
  {
   "cell_type": "code",
   "execution_count": 23,
   "metadata": {},
   "outputs": [],
   "source": [
    "def save_reviews_csv(reviews_iter, file_path=os.path.join(DATA_PATH, 'reviews.csv'), fields: tuple = REVIEWS_CSV_FIELDS):\n",
    "    '''\n",
    "    reviews_iter is an iterator of (place_id, review_dict)\n",
    "    file_path is the path to save the csv\n",
    "    fields is the fields to include in the csv\n",
    "    fields also include 'place_id'\n",
    "\n",
    "\n",
    "    returns the file path\n",
    "    '''\n",
    "    fields = ('place_id', *fields)\n",
    "    with open(file_path, 'w') as f:\n",
    "        writer = csv.DictWriter(f, fieldnames=fields)\n",
    "        writer.writeheader()\n",
    "        for place_id, review in reviews_iter:\n",
    "            review['place_id'] = place_id\n",
    "            flattened_review = flatten_and_filter_dict(review, fields)\n",
    "            writer.writerow(flattened_review)\n",
    "    return file_path"
   ]
  },
  {
   "cell_type": "code",
   "execution_count": 31,
   "metadata": {},
   "outputs": [
    {
     "data": {
      "text/plain": [
       "'data/reviews.csv'"
      ]
     },
     "execution_count": 31,
     "metadata": {},
     "output_type": "execute_result"
    }
   ],
   "source": [
    "places = list(read_places())\n",
    "\n",
    "save_place_csv(places)\n",
    "save_reviews_csv(read_reviews(places))"
   ]
  }
 ],
 "metadata": {
  "kernelspec": {
   "display_name": "Python 3",
   "language": "python",
   "name": "python3"
  },
  "language_info": {
   "codemirror_mode": {
    "name": "ipython",
    "version": 3
   },
   "file_extension": ".py",
   "mimetype": "text/x-python",
   "name": "python",
   "nbconvert_exporter": "python",
   "pygments_lexer": "ipython3",
   "version": "3.12.3"
  }
 },
 "nbformat": 4,
 "nbformat_minor": 2
}
