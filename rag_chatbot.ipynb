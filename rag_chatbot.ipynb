{
  "cells": [
    {
      "cell_type": "code",
      "execution_count": 5,
      "metadata": {
        "colab": {
          "base_uri": "https://localhost:8080/"
        },
        "id": "1WJdr4FOV3m1",
        "outputId": "119f9efd-5cf0-4670-f37c-29bc797e5e5e"
      },
      "outputs": [
        {
          "name": "stderr",
          "output_type": "stream",
          "text": [
            "\n",
            "[notice] A new release of pip available: 22.2.2 -> 24.0\n",
            "[notice] To update, run: python.exe -m pip install --upgrade pip\n"
          ]
        }
      ],
      "source": [
        "!pip install -q \\\n",
        "    transformers==4.31.0 \\\n",
        "    accelerate==0.21.0 \\\n",
        "    bitsandbytes==0.41.0 \\\n",
        "    sentence-transformers==2.2.2 \\\n",
        "    xformers==0.0.20 \\\n",
        "\n",
        "# !pip install -q \\\n",
        "#     langchain==0.1.0 \\\n",
        "#     langchain-community==0.0.12 \\\n",
        "#     langchainhub==0.1.14 \\\n",
        "#     faiss-cpu\n",
        "#     # faiss-gpu \\\n",
        "\n",
        "# !pip install -U langsmith\n",
        "# !pip install -q pandas\n",
        "# # !pip install -q colab-xterm\n",
        "# !pip install -qU langchain-anthropic\n",
        "# !pip install -q python-dotenv"
      ]
    },
    {
      "cell_type": "code",
      "execution_count": 1,
      "metadata": {
        "id": "IVZTYMYqhEyD"
      },
      "outputs": [],
      "source": [
        "import pandas as pd\n",
        "from langchain.prompts import (\n",
        "    PromptTemplate,\n",
        "    SystemMessagePromptTemplate,\n",
        "    HumanMessagePromptTemplate,\n",
        "    ChatPromptTemplate,)\n",
        "from langchain_core.output_parsers import StrOutputParser\n",
        "from langchain_community.vectorstores import FAISS\n",
        "from langchain.schema.runnable import RunnablePassthrough\n",
        "\n",
        "\n",
        "from langchain.embeddings.huggingface import HuggingFaceEmbeddings\n",
        "from langchain_community.document_loaders.dataframe import DataFrameLoader\n",
        "from langchain.storage import LocalFileStore\n",
        "from langchain.embeddings import CacheBackedEmbeddings\n",
        "from langchain.llms import HuggingFacePipeline\n",
        "from langchain_anthropic import ChatAnthropic\n",
        "from langchain_cohere import ChatCohere\n",
        "\n",
        "\n",
        "\n",
        "# from transformers import pipeline\n",
        "# from transformers import AutoTokenizer, AutoModelForCausalLM, BitsAndBytesConfig\n",
        "import huggingface_hub as hf_hub\n",
        "# import torch\n",
        "\n",
        "try:\n",
        "    from google.colab.userdata import get as getenv\n",
        "    print(\"Running in colab\")\n",
        "except ImportError:\n",
        "    from os import getenv\n",
        "    import dotenv\n",
        "    dotenv.load_dotenv()"
      ]
    },
    {
      "cell_type": "code",
      "execution_count": 2,
      "metadata": {},
      "outputs": [
        {
          "name": "stdout",
          "output_type": "stream",
          "text": [
            "Device: cpu\n"
          ]
        }
      ],
      "source": [
        "try:\n",
        "    from torch import cuda\n",
        "    device = 'cuda' if cuda.is_available() else 'cpu'\n",
        "except ImportError:\n",
        "    device = 'cpu'\n",
        "\n",
        "print(\"Device:\", device)"
      ]
    },
    {
      "cell_type": "code",
      "execution_count": 3,
      "metadata": {
        "colab": {
          "base_uri": "https://localhost:8080/"
        },
        "id": "-wj12nPpoijV",
        "outputId": "62d61f31-5786-4169-d678-2c2137fada1b"
      },
      "outputs": [
        {
          "name": "stdout",
          "output_type": "stream",
          "text": [
            "The token has not been saved to the git credentials helper. Pass `add_to_git_credential=True` in this function directly or `--add-to-git-credential` if using via `huggingface-cli` if you want to set the git credential as well.\n"
          ]
        },
        {
          "name": "stderr",
          "output_type": "stream",
          "text": [
            "c:\\Users\\mehra\\mehran\\dltorch\\RestoRecommender\\venv\\lib\\site-packages\\tqdm\\auto.py:21: TqdmWarning: IProgress not found. Please update jupyter and ipywidgets. See https://ipywidgets.readthedocs.io/en/stable/user_install.html\n",
            "  from .autonotebook import tqdm as notebook_tqdm\n"
          ]
        },
        {
          "name": "stdout",
          "output_type": "stream",
          "text": [
            "Token is valid (permission: read).\n",
            "Your token has been saved to C:\\Users\\mehra\\.cache\\huggingface\\token\n",
            "Login successful\n"
          ]
        }
      ],
      "source": [
        "HF_TOKEN = getenv('HF_TOKEN')\n",
        "assert HF_TOKEN, \"A valid HuggingFace token is required to be set as <HF_TOKEN>.\"\n",
        "hf_hub.login(HF_TOKEN)"
      ]
    },
    {
      "cell_type": "code",
      "execution_count": 4,
      "metadata": {},
      "outputs": [],
      "source": [
        "ANTHROPIC_API_KEY = getenv('ANTHROPIC_API_KEY')\n",
        "COHERE_API_KEY = getenv('COHERE_API_KEY')"
      ]
    },
    {
      "cell_type": "markdown",
      "metadata": {},
      "source": [
        "## Set up LangSmith"
      ]
    },
    {
      "cell_type": "code",
      "execution_count": 5,
      "metadata": {},
      "outputs": [],
      "source": [
        "LANGCHAIN_API_KEY = getenv('LANGCHAIN_API_KEY')\n",
        "LANGCHAIN_ENDPOINT = getenv('LANGCHAIN_ENDPOINT')\n",
        "assert LANGCHAIN_API_KEY, \"An API key for LangChainSmith is required to be set as <LANGCHAIN_API_KEY>.\""
      ]
    },
    {
      "cell_type": "code",
      "execution_count": 5,
      "metadata": {},
      "outputs": [],
      "source": [
        "#old key of 377@\n",
        "# OPENAI_API_KEY=\"sk-proj-yqTxOsXpPuT7dF0NQBgxT3BlbkFJkk4AyUZSSJu5zbRIb2JM\"\n",
        "OPENAI_API_KEY = getenv('OPENAI_API_KEY')"
      ]
    },
    {
      "cell_type": "markdown",
      "metadata": {
        "id": "1rzeDBNMoijW"
      },
      "source": [
        "## Constants"
      ]
    },
    {
      "cell_type": "code",
      "execution_count": 6,
      "metadata": {
        "id": "TeXyY2YLWqcD"
      },
      "outputs": [],
      "source": [
        "# Dataset files\n",
        "PLACES_PATH = \"data/places.csv\"\n",
        "REVIEWS_PATH = \"data/reviews.csv\"\n",
        "\n",
        "## Models\n",
        "# LLM_MODEL format: <model_type>::<model_name>\n",
        "# \n",
        "# model types: ['hf', 'anthropic']\n",
        "# \n",
        "# Example:\n",
        "# hf::meta-llama/Llama-2-7b-hf\n",
        "# anthropic::claude-3-sonnet-20240229\n",
        "# \n",
        "# LLM_MODEL = \"anthropic::claude-3-sonnet-20240229\"\n",
        "LLM_MODEL = \"anthropic::claude-3-opus-20240229\"\n",
        "LLM_MODEL = \"cohere::\"\n",
        "EMBEDDING_MODEL_NAME = \"all-MiniLM-L6-v2\"\n",
        "\n",
        "# Embeddings\n",
        "EMBEDDINGS_CACHE_STORE=\"./cache/\"\n",
        "\n",
        "# Faiss\n",
        "FAISS_REVIEWS_PATH = \"faiss_index\"\n",
        "FAISS_INDEX_NAME = \"index\"\n",
        "FAISS_DISTANCE_STRATEGY='EUCLIDEAN_DISTANCE'"
      ]
    },
    {
      "cell_type": "markdown",
      "metadata": {
        "id": "eUr5hUrPoijY"
      },
      "source": [
        "## Load Dataset\n",
        "\n",
        "Here we are using 2 csv files containing places (restuarants, bars, ...) info and reviews for each of them."
      ]
    },
    {
      "cell_type": "code",
      "execution_count": 20,
      "metadata": {
        "id": "aONHvzXAoijZ"
      },
      "outputs": [],
      "source": [
        "def get_documents(content_func=lambda row:row['review'],\n",
        "                  source_func=lambda row:row['place_id'],\n",
        "                  metadata_fields=[]):\n",
        "\n",
        "  # Load both data files\n",
        "  places_df = pd.read_csv(PLACES_PATH)\n",
        "  reviews_df = pd.read_csv(REVIEWS_PATH)\n",
        "  reviews_df.drop_duplicates(inplace=True)\n",
        "  places_df.drop_duplicates(inplace=True)\n",
        "\n",
        "  # merge them on 'place_id'\n",
        "  merged_df = pd.merge(places_df, reviews_df, on='place_id', how='inner')\n",
        "\n",
        "  # add page_content and source columns using their corresponing functions\n",
        "  merged_df['page_content'] = merged_df.apply(content_func, axis=1)\n",
        "  merged_df['source'] = merged_df.apply(source_func, axis=1)\n",
        "\n",
        "  # update metadata_fields with 'page_content', 'source'\n",
        "  metadata_fields = list(set(metadata_fields + ['page_content', 'source']))\n",
        "\n",
        "  loader = DataFrameLoader(merged_df[metadata_fields],page_content_column='page_content')\n",
        "  return loader.load()"
      ]
    },
    {
      "cell_type": "code",
      "execution_count": 21,
      "metadata": {
        "id": "E5jUkJ8XoijZ"
      },
      "outputs": [],
      "source": [
        "# def content_func(row) -> str:\n",
        "#   content_fields = ['place_name', 'place_types', 'place_address', 'place_average_ratings', 'review']\n",
        "#   return '\\n'.join(f\"{key}={row[key]}\" for key in content_fields)\n",
        "\n",
        "def content_func(row) -> str:\n",
        "  content_fields = [\"place_name\", \"place_address\",\n",
        "                    \"place_average_ratings\",\n",
        "                    \"place_website\",\n",
        "                    \"place_phone_number\",\n",
        "                    \"place_price_level\",\n",
        "                    \"place_primary_type\",\n",
        "                    \"has_delivery\",\n",
        "                    \"is_reservable\",\n",
        "                    \"places_opening_hours\",\n",
        "                    \"review\",\n",
        "                    \n",
        "                    ]\n",
        "  return '\\n'.join(f\"{key}={row[key]}\" for key in content_fields)\n",
        "\n",
        "documents = get_documents(content_func)"
      ]
    },
    {
      "cell_type": "code",
      "execution_count": 22,
      "metadata": {
        "colab": {
          "base_uri": "https://localhost:8080/"
        },
        "id": "WH4HR9emoijZ",
        "outputId": "fa47e9ba-3bdf-4c36-c553-300479119540"
      },
      "outputs": [
        {
          "data": {
            "text/plain": [
              "Document(page_content='place_name=Roemerkeller Padova\\nplace_address=Via Romana Aponense, 137, 35142 Padova PD, Italy\\nplace_average_ratings=4.0\\nplace_website=http://www.roemerkeller.it/\\nplace_phone_number=+39 328 178 6333\\nplace_price_level=PRICE_LEVEL_MODERATE\\nplace_primary_type=italian_restaurant\\nhas_delivery=False\\nis_reservable=True\\nplaces_opening_hours=[\\'Monday: 12:00\\\\u2009–\\\\u20092:30\\\\u202fPM, 6:30\\\\u202fPM\\\\u2009–\\\\u200912:00\\\\u202fAM\\', \\'Tuesday: 12:00\\\\u2009–\\\\u20092:30\\\\u202fPM, 6:30\\\\u202fPM\\\\u2009–\\\\u200912:00\\\\u202fAM\\', \\'Wednesday: 12:00\\\\u2009–\\\\u20092:30\\\\u202fPM, 6:30\\\\u202fPM\\\\u2009–\\\\u200912:00\\\\u202fAM\\', \\'Thursday: 12:00\\\\u2009–\\\\u20092:30\\\\u202fPM, 6:30\\\\u202fPM\\\\u2009–\\\\u200912:00\\\\u202fAM\\', \\'Friday: 12:00\\\\u2009–\\\\u20092:30\\\\u202fPM, 6:30\\\\u202fPM\\\\u2009–\\\\u200912:00\\\\u202fAM\\', \\'Saturday: 6:30\\\\u202fPM\\\\u2009–\\\\u200912:30\\\\u202fAM\\', \\'Sunday: 12:00\\\\u2009–\\\\u20093:00\\\\u202fPM, 6:30\\\\u202fPM\\\\u2009–\\\\u200912:00\\\\u202fAM\\']\\nreview=Huge \"eating palace\" which is lacking the fine accents of the italian food although the service was top. I would recommend for lunch, less for dinner', metadata={'source': 'ChIJpXSgrsDbfkcRzf_5kCMmrZI'})"
            ]
          },
          "execution_count": 22,
          "metadata": {},
          "output_type": "execute_result"
        }
      ],
      "source": [
        "documents[0]"
      ]
    },
    {
      "cell_type": "markdown",
      "metadata": {
        "id": "wLU4f9yqoija"
      },
      "source": [
        "## Load Embeddings model"
      ]
    },
    {
      "cell_type": "code",
      "execution_count": 7,
      "metadata": {
        "id": "vgtePYxKoija"
      },
      "outputs": [],
      "source": [
        "def get_hf_embedding_model(embedding_model_name,\n",
        "                           cache_embeddings_store,\n",
        "                           device='cpu',\n",
        "                           normalize_embeddings=False,\n",
        "                           ):\n",
        "  model_kwargs = {'device': device}\n",
        "  encode_kwargs = {'normalize_embeddings': normalize_embeddings} # Set `True` for cosine similarity\n",
        "  embedding_model = HuggingFaceEmbeddings(\n",
        "      model_name=embedding_model_name,\n",
        "      model_kwargs=model_kwargs,\n",
        "      encode_kwargs=encode_kwargs\n",
        "      )\n",
        "  store = LocalFileStore(cache_embeddings_store)\n",
        "  embedding_model = CacheBackedEmbeddings.from_bytes_store(\n",
        "                    embedding_model, store)\n",
        "  return embedding_model"
      ]
    },
    {
      "cell_type": "code",
      "execution_count": 8,
      "metadata": {
        "id": "mIsrrLWnoijg"
      },
      "outputs": [
        {
          "name": "stderr",
          "output_type": "stream",
          "text": [
            "c:\\Users\\mehra\\mehran\\dltorch\\RestoRecommender\\venv\\lib\\site-packages\\bitsandbytes\\cextension.py:34: UserWarning: The installed version of bitsandbytes was compiled without GPU support. 8-bit optimizers, 8-bit multiplication, and GPU quantization are unavailable.\n",
            "  warn(\"The installed version of bitsandbytes was compiled without GPU support. \"\n"
          ]
        },
        {
          "name": "stdout",
          "output_type": "stream",
          "text": [
            "'NoneType' object has no attribute 'cadam32bit_grad_fp32'\n"
          ]
        }
      ],
      "source": [
        "embedding_model = get_hf_embedding_model(EMBEDDING_MODEL_NAME,\n",
        "                                         EMBEDDINGS_CACHE_STORE,\n",
        "                                         device=device,\n",
        "                                         normalize_embeddings=False)"
      ]
    },
    {
      "cell_type": "markdown",
      "metadata": {
        "id": "yZU69PxDoijg"
      },
      "source": [
        "## Load FAISS (Vector Database)"
      ]
    },
    {
      "cell_type": "code",
      "execution_count": 25,
      "metadata": {
        "id": "ClgYJkU5oijj"
      },
      "outputs": [],
      "source": [
        "def get_vector_database(documents, embedding_model):\n",
        "\n",
        "  vector_database = FAISS.from_documents(\n",
        "      documents, embedding_model,\n",
        "      distance_strategy= FAISS_DISTANCE_STRATEGY\n",
        "      )\n",
        "  return vector_database"
      ]
    },
    {
      "cell_type": "code",
      "execution_count": 26,
      "metadata": {
        "id": "ZY6Ku6Eboijj"
      },
      "outputs": [],
      "source": [
        "vector_db = get_vector_database(documents, embedding_model)"
      ]
    },
    {
      "cell_type": "code",
      "execution_count": 27,
      "metadata": {
        "id": "A_kv8O3zndtA"
      },
      "outputs": [],
      "source": [
        "## if you want to save the db and use the files to load it again later.\n",
        "FAISS_REVIEWS_PATH_EUCLIDEAN = \"faiss_index_euclidean\"\n",
        "FAISS_REVIEWS_PATH = FAISS_REVIEWS_PATH_EUCLIDEAN\n",
        "vector_db.save_local(folder_path=FAISS_REVIEWS_PATH, index_name=FAISS_INDEX_NAME)\n",
        "vector_db = FAISS.load_local(folder_path=FAISS_REVIEWS_PATH,\n",
        "                             embeddings=embedding_model,\n",
        "                             index_name=FAISS_INDEX_NAME)"
      ]
    },
    {
      "cell_type": "code",
      "execution_count": 28,
      "metadata": {
        "id": "SzaIRkhToijm"
      },
      "outputs": [],
      "source": [
        "docs = vector_db.similarity_search(\"which one is the best pizza restaurant in the city?\", k = 5)"
      ]
    },
    {
      "cell_type": "code",
      "execution_count": 29,
      "metadata": {
        "colab": {
          "base_uri": "https://localhost:8080/"
        },
        "id": "g9xMBNVuoijt",
        "outputId": "9fa4cbc2-084d-4f1f-e891-6e00f457e0fd"
      },
      "outputs": [
        {
          "data": {
            "text/plain": [
              "Document(page_content=\"place_name=La Scuderia\\nplace_address=Via San Lorenzo, 13, 35031 Abano Terme PD, Italy\\nplace_average_ratings=4.0\\nplace_website=http://www.lascuderiahb.it/\\nplace_phone_number=+39 393 797 8770\\nplace_price_level=PRICE_LEVEL_MODERATE\\nplace_primary_type=pizza_restaurant\\nhas_delivery=True\\nis_reservable=True\\nplaces_opening_hours=['Monday: 6:30\\\\u202fPM\\\\u2009–\\\\u20092:00\\\\u202fAM', 'Tuesday: Closed', 'Wednesday: 6:30\\\\u202fPM\\\\u2009–\\\\u200912:00\\\\u202fAM', 'Thursday: 6:30\\\\u202fPM\\\\u2009–\\\\u20092:00\\\\u202fAM', 'Friday: 6:30\\\\u202fPM\\\\u2009–\\\\u20092:00\\\\u202fAM', 'Saturday: 6:30\\\\u202fPM\\\\u2009–\\\\u20092:00\\\\u202fAM', 'Sunday: 12:00\\\\u202fPM\\\\u2009–\\\\u20092:00\\\\u202fAM']\\nreview=Excellent pizza served in a pleasant environment, modern and classic. Large selection of dishes, fast service\", metadata={'source': 'ChIJrzxAcjTZfkcR-_oZ1mU6F9I'})"
            ]
          },
          "execution_count": 29,
          "metadata": {},
          "output_type": "execute_result"
        }
      ],
      "source": [
        "docs[0]"
      ]
    },
    {
      "cell_type": "code",
      "execution_count": 20,
      "metadata": {},
      "outputs": [
        {
          "name": "stdout",
          "output_type": "stream",
          "text": [
            "page_content='place_name=Enoteca Barcollo\\nplace_address=Via Alessandro Guidi, 23, 35142 Padova PD, Italy\\nplace_average_ratings=4.3\\nplace_website=nan\\nplace_phone_number=+39 393 082 6866\\nreview=Top' metadata={'source': 'ChIJwzs5vKLbfkcRp43hqXskPKw'}\n",
            "\n",
            "page_content='place_name=Enoteca Barcollo\\nplace_address=Via Alessandro Guidi, 23, 35142 Padova PD, Italy\\nplace_average_ratings=4.3\\nplace_website=nan\\nplace_phone_number=+39 393 082 6866\\nreview=Brave!' metadata={'source': 'ChIJwzs5vKLbfkcRp43hqXskPKw'}\n",
            "\n",
            "page_content='place_name=Enoteca Barcollo\\nplace_address=Via Alessandro Guidi, 23, 35142 Padova PD, Italy\\nplace_average_ratings=4.3\\nplace_website=nan\\nplace_phone_number=+39 393 082 6866\\nreview=Super cicchetti, equally super cold cuts platter! Wide choice of wines. Very welcoming environment and super friendly staff. Both the boy and the girl made themselves available to serve us as best as possible and guarantee us an excellent aperitif! 💪✨💯💯💯💯' metadata={'source': 'ChIJwzs5vKLbfkcRp43hqXskPKw'}\n",
            "\n",
            "page_content='place_name=Enoteca Barcollo\\nplace_address=Via Alessandro Guidi, 23, 35142 Padova PD, Italy\\nplace_average_ratings=4.3\\nplace_website=nan\\nplace_phone_number=+39 393 082 6866\\nreview=The environment is very nice, suitable for all ages. Free parking on site.\\r\\nThe quantity of wine in the glasses seemed a little low to me, but at least they bring some accompanying tarallini.\\r\\nIn total for 5 glasses of white wine and a platter of cold cuts and cheeses we paid 41 euros.' metadata={'source': 'ChIJwzs5vKLbfkcRp43hqXskPKw'}\n",
            "\n",
            "page_content='place_name=Enoteca La Botte Piccola\\nplace_address=Via Sorio, 14, 35141 Padova PD, Italy\\nplace_average_ratings=4.6\\nplace_website=https://m.facebook.com/pages/category/Bar/Enoteca-la-botte-piccola-332212890859585/?locale2=it_IT\\nplace_phone_number=+39 347 837 6458\\nreview=Lots of outdoor seating ( cushions would be nice). Good drinks and ciccete. Reasonable prices.' metadata={'source': 'ChIJldHNscHbfkcRaGVL81ecAlI'}\n",
            "\n"
          ]
        }
      ],
      "source": [
        "question = \"where is the Enoteca Barcollo located? and what is its phone number?\"\n",
        "\n",
        "docs = vector_db.similarity_search(question, k = 5)\n",
        "\n",
        "for i in range(5):\n",
        "  print(docs[i], end=\"\\n\\n\")"
      ]
    },
    {
      "cell_type": "code",
      "execution_count": 21,
      "metadata": {},
      "outputs": [
        {
          "name": "stdout",
          "output_type": "stream",
          "text": [
            "page_content=\"place_name=La Mafaldina Pizzeria - Pontevigodarzere\\nplace_address=Via dei Vivarini, 22, 35133 Padova PD, Italy\\nplace_average_ratings=4.5\\nplace_website=https://www.lamafaldina.it/\\nplace_phone_number=+39 049 735 8018\\nreview=Me and my family went there to have dinner, based on the reviews that I red about this place and it was defenetely a very good choice, because pizza is just great and, if you are in the neighborhood, you don't want to miss it.\" metadata={'source': 'ChIJWdpV5_7RfkcRI93ap-aXK90'}\n",
            "\n",
            "page_content=\"place_name=La Mafaldina Pizzeria - Pontevigodarzere\\nplace_address=Via dei Vivarini, 22, 35133 Padova PD, Italy\\nplace_average_ratings=4.5\\nplace_website=https://www.lamafaldina.it/\\nplace_phone_number=+39 049 735 8018\\nreview=A very beautiful place with amazing and helpful staff. It's one of rhe best pizza restaurants in Padua. 💕 Grazie!\" metadata={'source': 'ChIJWdpV5_7RfkcRI93ap-aXK90'}\n",
            "\n",
            "page_content='place_name=La Mafaldina Pizzeria - Pontevigodarzere\\nplace_address=Via dei Vivarini, 22, 35133 Padova PD, Italy\\nplace_average_ratings=4.5\\nplace_website=https://www.lamafaldina.it/\\nplace_phone_number=+39 049 735 8018\\nreview=Kind staff, great pizzas' metadata={'source': 'ChIJWdpV5_7RfkcRI93ap-aXK90'}\n",
            "\n",
            "page_content=\"place_name=Osteria l'Anfora\\nplace_address=Via Soncin, 13, 35121 Padova PD, Italy\\nplace_average_ratings=4.4\\nplace_website=https://facebook.com/pages/Osteria-lAnfora/161292750563482\\nplace_phone_number=+39 049 656629\\nreview=We went on a Thursday right after visiting Capella Scrovegni and the museum, the restaurants I have researched previously were closed so we decided to lunch in Osteria l'Anfora based on the good reviews. It was past 14:20 and we were very friendly welcomed, the food was delicious and the atmosphere is really nice. Price was very reasonable for the quality! Great place.\" metadata={'source': 'ChIJ0W8f10_afkcRYXJye9E4xdI'}\n",
            "\n",
            "page_content=\"place_name=Osteria l'Anfora\\nplace_address=Via Soncin, 13, 35121 Padova PD, Italy\\nplace_average_ratings=4.4\\nplace_website=https://facebook.com/pages/Osteria-lAnfora/161292750563482\\nplace_phone_number=+39 049 656629\\nreview=delicious food, authentic atmosphere. Hanna helped us with the menu because it was in Italian and helped us choose the wine.\" metadata={'source': 'ChIJ0W8f10_afkcRYXJye9E4xdI'}\n",
            "\n"
          ]
        }
      ],
      "source": [
        "question = \"where is la mafaldina?\"\n",
        "\n",
        "docs = vector_db.similarity_search(question, k = 5)\n",
        "\n",
        "for i in range(5):\n",
        "  print(docs[i], end=\"\\n\\n\")"
      ]
    },
    {
      "cell_type": "markdown",
      "metadata": {
        "id": "Rk1-sq8Voijw"
      },
      "source": [
        "## Load LLM"
      ]
    },
    {
      "cell_type": "code",
      "execution_count": 9,
      "metadata": {
        "id": "uOGUVg7uw4hP"
      },
      "outputs": [],
      "source": [
        "def get_anthropic_api_llm(model_name):\n",
        "  llm = ChatAnthropic(model_name=model_name, anthropic_api_key=ANTHROPIC_API_KEY,)\n",
        "\n",
        "  return llm\n",
        "\n",
        "def get_cohere_api_llm():\n",
        "  llm = ChatCohere()\n",
        "\n",
        "  return llm\n"
      ]
    },
    {
      "cell_type": "code",
      "execution_count": 10,
      "metadata": {
        "id": "GgNq7ELyoijx"
      },
      "outputs": [],
      "source": [
        "def get_hf_llm(model_name):\n",
        "\n",
        "  bnb_config = BitsAndBytesConfig(\n",
        "      load_in_4bit=True,\n",
        "      bnb_4bit_use_double_quant=True,\n",
        "      bnb_4bit_quant_type=\"nf4\",\n",
        "      bnb_4bit_compute_dtype=torch.bfloat16,\n",
        "  )\n",
        "  model = AutoModelForCausalLM.from_pretrained(model_name, quantization_config=bnb_config, )\n",
        "  tokenizer = AutoTokenizer.from_pretrained(model_name)\n",
        "\n",
        "  pipe = pipeline(\n",
        "      model=model,\n",
        "      tokenizer=tokenizer,\n",
        "      return_full_text=True,  # langchain expects the full text\n",
        "      task='text-generation',\n",
        "      # we pass model parameters here too\n",
        "      temperature=0.0001,  # 'randomness' of outputs, 0.0 is the min and 1.0 the max\n",
        "      max_new_tokens=512,  # mex number of tokens to generate in the output\n",
        "      repetition_penalty=1.1  # without this output begins repeating\n",
        "  )\n",
        "\n",
        "  llm = HuggingFacePipeline(pipeline=pipe,)\n",
        "  return llm\n"
      ]
    },
    {
      "cell_type": "code",
      "execution_count": 11,
      "metadata": {
        "id": "grd0zxY9oijy"
      },
      "outputs": [
        {
          "data": {
            "text/plain": [
              "ChatCohere(client=<cohere.client.Client object at 0x00000245579EC370>, async_client=<cohere.client.AsyncClient object at 0x00000245579EF2B0>, cohere_api_key=SecretStr('**********'))"
            ]
          },
          "execution_count": 11,
          "metadata": {},
          "output_type": "execute_result"
        }
      ],
      "source": [
        "model_type, _, model_name = LLM_MODEL.partition('::')\n",
        "\n",
        "# If model type is not set, use anthropic\n",
        "if model_name == \"\":\n",
        "    model_type = \"cohere\"\n",
        "    model_name = model_type\n",
        "\n",
        "\n",
        "if model_type == \"anthropic\":\n",
        "    llm = get_anthropic_api_llm(model_name)\n",
        "elif model_type == \"hf\":\n",
        "    llm = get_hf_llm(model_name)\n",
        "else:\n",
        "    llm = get_cohere_api_llm()\n",
        "    \n",
        "llm"
      ]
    },
    {
      "cell_type": "code",
      "execution_count": 12,
      "metadata": {},
      "outputs": [
        {
          "data": {
            "text/plain": [
              "AIMessage(content='Hello! How can I help you today?', additional_kwargs={'documents': None, 'citations': None, 'search_results': None, 'search_queries': None, 'is_search_required': None, 'generation_id': '41854e42-0177-43e3-bc8a-dbfbbd140d4b', 'token_count': {'input_tokens': 67, 'output_tokens': 9}}, response_metadata={'documents': None, 'citations': None, 'search_results': None, 'search_queries': None, 'is_search_required': None, 'generation_id': '41854e42-0177-43e3-bc8a-dbfbbd140d4b', 'token_count': {'input_tokens': 67, 'output_tokens': 9}}, id='run-e752ba6a-d59e-410e-b138-4e11ac999bfc-0')"
            ]
          },
          "execution_count": 12,
          "metadata": {},
          "output_type": "execute_result"
        }
      ],
      "source": [
        "llm.invoke(\"Hi\")"
      ]
    },
    {
      "cell_type": "code",
      "execution_count": 24,
      "metadata": {
        "colab": {
          "base_uri": "https://localhost:8080/"
        },
        "id": "_0ySJ4wyv78o",
        "outputId": "ca910516-7310-4ccb-8e57-c0bdfa3d5a85"
      },
      "outputs": [
        {
          "data": {
            "text/plain": [
              "AIMessage(content='Hello! How can I assist you today?', response_metadata={'id': 'msg_017VUzakc4UbQijWgNc2ieFe', 'model': 'claude-3-opus-20240229', 'stop_reason': 'end_turn', 'stop_sequence': None, 'usage': {'input_tokens': 8, 'output_tokens': 12}}, id='run-9b6816f6-b5df-4949-87c2-e9ef1577ea7b-0')"
            ]
          },
          "execution_count": 24,
          "metadata": {},
          "output_type": "execute_result"
        }
      ],
      "source": [
        "llm.invoke(\"Hi\")"
      ]
    },
    {
      "cell_type": "markdown",
      "metadata": {
        "id": "d4SU2uzJoijz"
      },
      "source": [
        "## Create LangChain pipeline"
      ]
    },
    {
      "cell_type": "code",
      "execution_count": 16,
      "metadata": {
        "id": "GNPL6u4EkAW3"
      },
      "outputs": [],
      "source": [
        "review_template_str = \"\"\"\n",
        "Your job is to use Google Map restaurants and bars reviews to help people find best places to go for a meal or a drink.\n",
        "Use the following information and reviews to answer the questions.\n",
        "If you don't know an answer based on the context, say you don't know. Answer context:\n",
        "{context}\n",
        "\"\"\"\n",
        "## \"\"\"\n",
        "# If you don't know an answer based on the context, say you don't know, and\n",
        "# if the context is not about restaurants, then kindly tell them that  you can\n",
        "# only provide assistance and answer questions related to restaurants.\n",
        "##\"\"\"\n",
        "\n",
        "review_system_prompt = SystemMessagePromptTemplate(\n",
        "    prompt=PromptTemplate(\n",
        "        input_variables=[\"context\"], template=review_template_str\n",
        "    )\n",
        ")\n",
        "\n",
        "review_human_prompt = HumanMessagePromptTemplate(\n",
        "    prompt=PromptTemplate(input_variables=[\"question\"], template=\"{question}\")\n",
        ")\n",
        "messages = [review_system_prompt, review_human_prompt]\n",
        "\n",
        "review_prompt_template = ChatPromptTemplate(\n",
        "    input_variables=[\"context\", \"question\"], messages=messages\n",
        ")\n",
        "\n",
        "FAISS_REVIEWS_PATH_EUCLIDEAN = \"faiss_index_euclidean\"\n",
        "FAISS_REVIEWS_PATH = FAISS_REVIEWS_PATH_EUCLIDEAN\n",
        "vector_db = FAISS.load_local(folder_path=FAISS_REVIEWS_PATH,\n",
        "                             embeddings=embedding_model,\n",
        "                             index_name=FAISS_INDEX_NAME)\n",
        "reviews_retriever = vector_db.as_retriever(search_kwargs={'k': 20,\n",
        "                                                        #   'fetch_k': 50,\n",
        "                                                          })\n",
        "\n",
<<<<<<< HEAD
=======
        "\n",
        "output_parser = StrOutputParser()\n",
        "\n",
        "\n",
        "reviews_retriever = vector_db.as_retriever(search_kwargs={'k': 10,\n",
        "                                                        #   'fetch_k': 50,\n",
        "                                                          })\n",
        "\n",
        "# review_chain = (\n",
        "#     {\"context\": reviews_retriever, \"question\": RunnablePassthrough()}\n",
        "#     | review_prompt_template\n",
        "#     | llm\n",
        "#     | StrOutputParser()\n",
        "# )"
      ]
    },
    {
      "cell_type": "code",
      "execution_count": null,
      "metadata": {
        "colab": {
          "base_uri": "https://localhost:8080/",
          "height": 227
        },
        "id": "32GruWzvuWnM",
        "outputId": "9eeb6350-3a1f-4075-b323-7e4755f87e46"
      },
      "outputs": [],
      "source": [
>>>>>>> 1282acbcb1bccba3cc559591870427267be5cc2e
        "review_chain = (\n",
        "    {\"context\": reviews_retriever, \"question\": RunnablePassthrough()}\n",
        "    | review_prompt_template\n",
        "    | llm\n",
        "    | StrOutputParser()\n",
        ")"
      ]
    },
    {
      "cell_type": "code",
      "execution_count": 18,
      "metadata": {},
      "outputs": [
        {
          "name": "stdout",
          "output_type": "stream",
          "text": [
            "There are several pizza restaurants in Padova, Italy, that serve delicious pizzas, according to reviews. Here are some options:\n",
            "\n",
            "- La Mafaldina Pizzeria - Pontevigodarzere: This pizzeria receives consistent praise for its great Neapolitan-style pizzas, friendly service, and convenient location near the highway. It has a 4.5-star average rating.\n",
            "- Pizzeria Al Vecio Cason: With a 4.4-star average rating, this pizzeria is known for its high-quality pizzas and good choice of dough options. While one review mentions a negative experience with staff, others highlight the friendly service and pleasant outdoor atmosphere.\n",
            "- La Scuderia: Located in Abano Terme, this restaurant offers excellent pizzas and a luxurious dining experience. It has an average rating of 4.0 stars. The atmosphere is described as pleasant, and the portions are noted to be large.\n",
            "- Fresco Trattoria Pizzeria: With a 3.8-star average rating, this pizzeria is praised for its authentic Neapolitan pizzas and friendly service. It also offers outdoor seating and a range of menu options for various dietary preferences.\n",
            "\n",
            "These are just a few options, but there may be other great pizza places in Padova as well.\n"
          ]
        }
      ],
      "source": [
        "question = \"\"\"Where can I find delicious pizzas?\"\"\"\n",
        "print(review_chain.invoke(question))"
      ]
    },
    {
      "cell_type": "code",
      "execution_count": 19,
      "metadata": {
        "colab": {
          "base_uri": "https://localhost:8080/"
        },
        "id": "32GruWzvuWnM",
        "outputId": "b53bc31b-0755-4fe6-99ce-5539fccb8b05"
      },
      "outputs": [
        {
          "name": "stdout",
          "output_type": "stream",
          "text": [
            "Based on the reviews, several places in Padua, Italy are mentioned as having great pizza:\n",
            "\n",
            "1. Enoteca Barcollo - The review says they have \"THE BEST PIZZA I HAVE TASTED IN RECENT YEARS\" with quality ingredients and perfectly balanced crust. \n",
            "\n",
            "2. Fastdrink24 - One review says \"If you are looking for a place to eat good pizza, search no more. This is the right place to be.\" However, another calls it \"The worst pizza worldwide\", so opinions seem mixed.\n",
            "\n",
            "3. iDon Padova - A review states it has \"One of the best pizza I had\" and another recommends to \"Go for a pizza\".\n",
            "\n",
            "4. Ristorante Napoli Centrale - The pizza here is described as \"Magnificent\" and the review mentions the meal was very tasty.\n",
            "\n",
            "5. Villa Italia - A review claims they had dinner here and \"it is the best pizza I've had in 5 years.\"\n",
            "\n",
            "So in summary, Enoteca Barcollo, iDon Padova, Ristorante Napoli Centrale and Villa Italia seem to be top choices for delicious pizza in Padua based on these reviews, with Fastdrink24 getting mixed opinions.\n"
          ]
        }
      ],
      "source": [
        "question = \"\"\"Where can I find delicious pizzas?\"\"\"\n",
        "print(review_chain.invoke(question))"
      ]
    },
    {
      "cell_type": "code",
      "execution_count": 31,
      "metadata": {
        "colab": {
          "base_uri": "https://localhost:8080/"
        },
        "id": "LzzRDTT6tTrt",
        "outputId": "2ea12f61-646e-45fb-839c-595749536e43"
      },
      "outputs": [
        {
          "name": "stdout",
          "output_type": "stream",
          "text": [
            "Based on the reviews, Enoteca Barcollo seems to have the best pizza in Padua. Here are the pros and cons mentioned:\n",
            "\n",
            "Pros:\n",
            "- Has the best pizza the reviewer has tasted in recent years\n",
            "- Quality ingredients used for the pizza toppings\n",
            "- Wholemeal pizza dough that is perfectly balanced in terms of crunchiness, thickness and flavor\n",
            "- Even the reviewer's girlfriend, who normally doesn't like pizza, almost wanted to order a second one\n",
            "\n",
            "Cons:\n",
            "- The pizza is not large in size \n",
            "- It costs €9, which the reviewer feels is worth it for the quality, but some may find a bit pricey\n",
            "\n",
            "Another strong contender for great pizza is La Mafaldina Pizzeria. The review praises its excellent pizzas with outstanding quality ingredients, calling it one of the best pizzerias in Padua. The only con mentioned is the limited topping choices for customizing pizzas.\n"
          ]
        }
      ],
      "source": [
        "question = \"\"\"What are the pros and cons of the best pizza restaurant in the city?\"\"\"\n",
        "print(review_chain.invoke(question))\n",
        "\n",
        "# {\"context\": reviews_retriever, \"question\": RunnablePassthrough()}\n",
        "\n",
        "# review_prompt_template"
      ]
    },
    {
      "cell_type": "code",
      "execution_count": 65,
      "metadata": {},
      "outputs": [
        {
          "name": "stdout",
          "output_type": "stream",
          "text": [
            "messages=[SystemMessage(content='\\nYour job is to use Google Map restaurants and bars reviews to help people find best places to go for a meal or a drink.\\nUse the following information and reviews to answer the questions.\\nIf you don\\'t know an answer based on the context, say you don\\'t know. Answer context:\\n[Document(page_content=\\'place_name=Soul Kitchen\\\\nplace_address=Via del Santo, 23, 35123 Padova PD, Italy\\\\nplace_average_ratings=4.6\\\\nplace_location=nan\\\\nplace_website=nan\\\\nplace_phone_number=+39 049 664818\\\\nreview=I got a tip to eat here from a local as my need was to eat food fast.\\\\r\\\\n\\\\r\\\\nThe glass of wine was nice, the burger was fair in quality. I tried the carbonara burger. Taste experience-wise, I was not too impressed and I feel the price for the offer was on the high end (14 euro) for not including fries.\\\\r\\\\n\\\\r\\\\nThe staff was helpful and the place has a nice atmosphere.\\', metadata={\\'source\\': \\'ChIJP-ZEOlTafkcRFi8zBVerMvg\\'}), Document(page_content=\"place_name=McDonald\\'s\\\\nplace_address=Piazzale della Stazione, 5, 35131 Padova PD, Italy\\\\nplace_average_ratings=3.2\\\\nplace_location=nan\\\\nplace_website=http://www.mcdonalds.it/\\\\nplace_phone_number=+39 049 654930\\\\nreview=I would say the services and staff are nice. The place is cozy and clean and has seats to sit and enjoy your meal.\\\\r\\\\nBut I wasn\\'t satisfied with the taste of the food. I ordered a cheeseburger but honestly, it was not tasty as my experience in other McDonald\\'s around Europe, Russia, and the US.\\\\r\\\\nBefore I was thinking of visiting at least once a week, but now I just visited once and not planning to visit that much soon.\\\\r\\\\n\\\\r\\\\nSince that, I am a big fan of McDonald\\'s I always expect a better taste and products but this one was not my story of eating at McDonald\\'s.\", metadata={\\'source\\': \\'ChIJndkoTl3afkcRDto-rckMt7o\\'}), Document(page_content=\\'place_name=Bistro Mexicano\\\\nplace_address=Via dei Livello, 11, 35139 Padova PD, Italy\\\\nplace_average_ratings=4.5\\\\nplace_location=nan\\\\nplace_website=https://www.bistromexicano.com/\\\\nplace_phone_number=+39 049 875 9203\\\\nreview=The atmosphere is nice, the employees are super friendly +considerable ,and each set of food is in large amount and dilicious! The only downside is the space at second floor is a little bit smaller. Still, I will recommend the restaurant to my friends!\\', metadata={\\'source\\': \\'ChIJC628jEXafkcRb38-THnIM0E\\'}), Document(page_content=\\'place_name=Exforo\\\\nplace_address=Piazza Rabin, 10, 35123 Padova PD, Italy\\\\nplace_average_ratings=4.1\\\\nplace_location=nan\\\\nplace_website=http://www.exforo.it/\\\\nplace_phone_number=+39 340 820 6428\\\\nreview=The best: the Pratto della Valle view. Best time to go would be before the sunset for sure. To make the insta picture pays the overpriced cocktails and food that is served here. The service is really kind, always asking if everything is ok. Cocktails come with small food to eat like taralli, olives and chips. The other appetizers are super super small but good in flavour and quality.\\', metadata={\\'source\\': \\'ChIJpZZBCGXbfkcRSA80biTZAKo\\'}), Document(page_content=\\'place_name=Autogrill Limenella\\\\nplace_address=Autostrada Torino- Trieste, 4, 35100 Padova PD, Italy\\\\nplace_average_ratings=3.8\\\\nplace_location=nan\\\\nplace_website=http://autogrill.it/\\\\nplace_phone_number=+39 049 864 8057\\\\nreview=There is a new restaurant here called Old Wild West, it is not listed separately on the map, so i will write a review here. Good American style food, variety burgers, burritos, tacos. The french fries were too salty, but the rest of the food was nice, and whats most important for me, no ice in the cola, so you actually get what you pay for.\\', metadata={\\'source\\': \\'ChIJIXkQY5_rgUcRXE1-C0FCeR0\\'}), Document(page_content=\"place_name=Hamerica\\'s ghetto via dell’Arco Padova\\\\nplace_address=Via dell\\'Arco, 22/26, 35122 Padova PD, Italy\\\\nplace_average_ratings=4.2\\\\nplace_location=nan\\\\nplace_website=http://www.hamericas.com/\\\\nplace_phone_number=+39 049 875 0051\\\\nreview=Excellent experience at this hamburger restaurant! We had a small 212 burger lunch offer and a Canadian burger, both tasty and satisfying. We went on Monday so beer was 50% off which was a plus. The atmosphere is very cozy, large space with nice tables, chairs and interior. Waiter was lovely as well.\", metadata={\\'source\\': \\'ChIJtR_1yVHafkcRQmBmlJ0A8ns\\'}), Document(page_content=\"place_name=Gourmetteria\\\\nplace_address=Via Zabarella, 23, 35121 Padova PD, Italy\\\\nplace_average_ratings=4.1\\\\nplace_location=nan\\\\nplace_website=http://gourmetteria.com/\\\\nplace_phone_number=+39 049 659830\\\\nreview=I personally like very much this modern restaurant in the center of Padova.\\\\r\\\\nI think their food is first quality, they offer traditional Veneto\\' s meal but re invented under a modern view.\\\\r\\\\nThey also offer burgers and pizza, and they have different options for vegetarians.\\\\r\\\\nI think that their best meal is the duck.\\\\r\\\\nI also like the fact that you can see the kitchen.\\\\r\\\\nVery good wine selection.\\\\r\\\\nYou can also buy different food products from all Italy.\\\\r\\\\nStaff professional and friendly\\\\r\\\\nIt is an informal restaurant, it s not overprized.\\\\r\\\\nI came here with my family almost every Saturday for lunch.\\\\r\\\\nHigh recommanded\", metadata={\\'source\\': \\'ChIJ3UsowFDafkcR9WHsVtRoxeY\\'}), Document(page_content=\"place_name=Gourmetteria\\\\nplace_address=Via Zabarella, 23, 35121 Padova PD, Italy\\\\nplace_average_ratings=4.1\\\\nplace_location=nan\\\\nplace_website=http://gourmetteria.com/\\\\nplace_phone_number=+39 049 659830\\\\nreview=I personally like very much this modern restaurant in the center of Padova.\\\\r\\\\nI think their food is first quality, they offer traditional Veneto\\' s meal but re invented under a modern view.\\\\r\\\\nThey also offer burgers and pizza, and they have different options for vegetarians.\\\\r\\\\nI think that their best meal is the duck.\\\\r\\\\nI also like the fact that you can see the kitchen.\\\\r\\\\nVery good wine selection.\\\\r\\\\nYou can also buy different food products from all Italy.\\\\r\\\\nStaff professional and friendly\\\\r\\\\nIt is an informal restaurant, it s not overprized.\\\\r\\\\nI came here with my family almost every Saturday for lunch.\\\\r\\\\nHigh recommanded\", metadata={\\'source\\': \\'ChIJ3UsowFDafkcR9WHsVtRoxeY\\'}), Document(page_content=\"place_name=Gourmetteria\\\\nplace_address=Via Zabarella, 23, 35121 Padova PD, Italy\\\\nplace_average_ratings=4.1\\\\nplace_location=nan\\\\nplace_website=http://gourmetteria.com/\\\\nplace_phone_number=+39 049 659830\\\\nreview=I personally like very much this modern restaurant in the center of Padova.\\\\r\\\\nI think their food is first quality, they offer traditional Veneto\\' s meal but re invented under a modern view.\\\\r\\\\nThey also offer burgers and pizza, and they have different options for vegetarians.\\\\r\\\\nI think that their best meal is the duck.\\\\r\\\\nI also like the fact that you can see the kitchen.\\\\r\\\\nVery good wine selection.\\\\r\\\\nYou can also buy different food products from all Italy.\\\\r\\\\nStaff professional and friendly\\\\r\\\\nIt is an informal restaurant, it s not overprized.\\\\r\\\\nI came here with my family almost every Saturday for lunch.\\\\r\\\\nHigh recommanded\", metadata={\\'source\\': \\'ChIJ3UsowFDafkcR9WHsVtRoxeY\\'}), Document(page_content=\"place_name=Gourmetteria\\\\nplace_address=Via Zabarella, 23, 35121 Padova PD, Italy\\\\nplace_average_ratings=4.1\\\\nplace_location=nan\\\\nplace_website=http://gourmetteria.com/\\\\nplace_phone_number=+39 049 659830\\\\nreview=I personally like very much this modern restaurant in the center of Padova.\\\\r\\\\nI think their food is first quality, they offer traditional Veneto\\' s meal but re invented under a modern view.\\\\r\\\\nThey also offer burgers and pizza, and they have different options for vegetarians.\\\\r\\\\nI think that their best meal is the duck.\\\\r\\\\nI also like the fact that you can see the kitchen.\\\\r\\\\nVery good wine selection.\\\\r\\\\nYou can also buy different food products from all Italy.\\\\r\\\\nStaff professional and friendly\\\\r\\\\nIt is an informal restaurant, it s not overprized.\\\\r\\\\nI came here with my family almost every Saturday for lunch.\\\\r\\\\nHigh recommanded\", metadata={\\'source\\': \\'ChIJ3UsowFDafkcR9WHsVtRoxeY\\'})]\\n'), HumanMessage(content='What are the pros and cons of the best restaurant in the city?')]\n",
            "\n",
            "Your job is to use Google Map restaurants and bars reviews to help people find best places to go for a meal or a drink.\n",
            "Use the following information and reviews to answer the questions.\n",
            "If you don't know an answer based on the context, say you don't know. Answer context:\n",
            "[Document(page_content='place_name=Soul Kitchen\\nplace_address=Via del Santo, 23, 35123 Padova PD, Italy\\nplace_average_ratings=4.6\\nplace_location=nan\\nplace_website=nan\\nplace_phone_number=+39 049 664818\\nreview=I got a tip to eat here from a local as my need was to eat food fast.\\r\\n\\r\\nThe glass of wine was nice, the burger was fair in quality. I tried the carbonara burger. Taste experience-wise, I was not too impressed and I feel the price for the offer was on the high end (14 euro) for not including fries.\\r\\n\\r\\nThe staff was helpful and the place has a nice atmosphere.', metadata={'source': 'ChIJP-ZEOlTafkcRFi8zBVerMvg'}), Document(page_content=\"place_name=McDonald's\\nplace_address=Piazzale della Stazione, 5, 35131 Padova PD, Italy\\nplace_average_ratings=3.2\\nplace_location=nan\\nplace_website=http://www.mcdonalds.it/\\nplace_phone_number=+39 049 654930\\nreview=I would say the services and staff are nice. The place is cozy and clean and has seats to sit and enjoy your meal.\\r\\nBut I wasn't satisfied with the taste of the food. I ordered a cheeseburger but honestly, it was not tasty as my experience in other McDonald's around Europe, Russia, and the US.\\r\\nBefore I was thinking of visiting at least once a week, but now I just visited once and not planning to visit that much soon.\\r\\n\\r\\nSince that, I am a big fan of McDonald's I always expect a better taste and products but this one was not my story of eating at McDonald's.\", metadata={'source': 'ChIJndkoTl3afkcRDto-rckMt7o'}), Document(page_content='place_name=Bistro Mexicano\\nplace_address=Via dei Livello, 11, 35139 Padova PD, Italy\\nplace_average_ratings=4.5\\nplace_location=nan\\nplace_website=https://www.bistromexicano.com/\\nplace_phone_number=+39 049 875 9203\\nreview=The atmosphere is nice, the employees are super friendly +considerable ,and each set of food is in large amount and dilicious! The only downside is the space at second floor is a little bit smaller. Still, I will recommend the restaurant to my friends!', metadata={'source': 'ChIJC628jEXafkcRb38-THnIM0E'}), Document(page_content='place_name=Exforo\\nplace_address=Piazza Rabin, 10, 35123 Padova PD, Italy\\nplace_average_ratings=4.1\\nplace_location=nan\\nplace_website=http://www.exforo.it/\\nplace_phone_number=+39 340 820 6428\\nreview=The best: the Pratto della Valle view. Best time to go would be before the sunset for sure. To make the insta picture pays the overpriced cocktails and food that is served here. The service is really kind, always asking if everything is ok. Cocktails come with small food to eat like taralli, olives and chips. The other appetizers are super super small but good in flavour and quality.', metadata={'source': 'ChIJpZZBCGXbfkcRSA80biTZAKo'}), Document(page_content='place_name=Autogrill Limenella\\nplace_address=Autostrada Torino- Trieste, 4, 35100 Padova PD, Italy\\nplace_average_ratings=3.8\\nplace_location=nan\\nplace_website=http://autogrill.it/\\nplace_phone_number=+39 049 864 8057\\nreview=There is a new restaurant here called Old Wild West, it is not listed separately on the map, so i will write a review here. Good American style food, variety burgers, burritos, tacos. The french fries were too salty, but the rest of the food was nice, and whats most important for me, no ice in the cola, so you actually get what you pay for.', metadata={'source': 'ChIJIXkQY5_rgUcRXE1-C0FCeR0'}), Document(page_content=\"place_name=Hamerica's ghetto via dell’Arco Padova\\nplace_address=Via dell'Arco, 22/26, 35122 Padova PD, Italy\\nplace_average_ratings=4.2\\nplace_location=nan\\nplace_website=http://www.hamericas.com/\\nplace_phone_number=+39 049 875 0051\\nreview=Excellent experience at this hamburger restaurant! We had a small 212 burger lunch offer and a Canadian burger, both tasty and satisfying. We went on Monday so beer was 50% off which was a plus. The atmosphere is very cozy, large space with nice tables, chairs and interior. Waiter was lovely as well.\", metadata={'source': 'ChIJtR_1yVHafkcRQmBmlJ0A8ns'}), Document(page_content=\"place_name=Gourmetteria\\nplace_address=Via Zabarella, 23, 35121 Padova PD, Italy\\nplace_average_ratings=4.1\\nplace_location=nan\\nplace_website=http://gourmetteria.com/\\nplace_phone_number=+39 049 659830\\nreview=I personally like very much this modern restaurant in the center of Padova.\\r\\nI think their food is first quality, they offer traditional Veneto' s meal but re invented under a modern view.\\r\\nThey also offer burgers and pizza, and they have different options for vegetarians.\\r\\nI think that their best meal is the duck.\\r\\nI also like the fact that you can see the kitchen.\\r\\nVery good wine selection.\\r\\nYou can also buy different food products from all Italy.\\r\\nStaff professional and friendly\\r\\nIt is an informal restaurant, it s not overprized.\\r\\nI came here with my family almost every Saturday for lunch.\\r\\nHigh recommanded\", metadata={'source': 'ChIJ3UsowFDafkcR9WHsVtRoxeY'}), Document(page_content=\"place_name=Gourmetteria\\nplace_address=Via Zabarella, 23, 35121 Padova PD, Italy\\nplace_average_ratings=4.1\\nplace_location=nan\\nplace_website=http://gourmetteria.com/\\nplace_phone_number=+39 049 659830\\nreview=I personally like very much this modern restaurant in the center of Padova.\\r\\nI think their food is first quality, they offer traditional Veneto' s meal but re invented under a modern view.\\r\\nThey also offer burgers and pizza, and they have different options for vegetarians.\\r\\nI think that their best meal is the duck.\\r\\nI also like the fact that you can see the kitchen.\\r\\nVery good wine selection.\\r\\nYou can also buy different food products from all Italy.\\r\\nStaff professional and friendly\\r\\nIt is an informal restaurant, it s not overprized.\\r\\nI came here with my family almost every Saturday for lunch.\\r\\nHigh recommanded\", metadata={'source': 'ChIJ3UsowFDafkcR9WHsVtRoxeY'}), Document(page_content=\"place_name=Gourmetteria\\nplace_address=Via Zabarella, 23, 35121 Padova PD, Italy\\nplace_average_ratings=4.1\\nplace_location=nan\\nplace_website=http://gourmetteria.com/\\nplace_phone_number=+39 049 659830\\nreview=I personally like very much this modern restaurant in the center of Padova.\\r\\nI think their food is first quality, they offer traditional Veneto' s meal but re invented under a modern view.\\r\\nThey also offer burgers and pizza, and they have different options for vegetarians.\\r\\nI think that their best meal is the duck.\\r\\nI also like the fact that you can see the kitchen.\\r\\nVery good wine selection.\\r\\nYou can also buy different food products from all Italy.\\r\\nStaff professional and friendly\\r\\nIt is an informal restaurant, it s not overprized.\\r\\nI came here with my family almost every Saturday for lunch.\\r\\nHigh recommanded\", metadata={'source': 'ChIJ3UsowFDafkcR9WHsVtRoxeY'}), Document(page_content=\"place_name=Gourmetteria\\nplace_address=Via Zabarella, 23, 35121 Padova PD, Italy\\nplace_average_ratings=4.1\\nplace_location=nan\\nplace_website=http://gourmetteria.com/\\nplace_phone_number=+39 049 659830\\nreview=I personally like very much this modern restaurant in the center of Padova.\\r\\nI think their food is first quality, they offer traditional Veneto' s meal but re invented under a modern view.\\r\\nThey also offer burgers and pizza, and they have different options for vegetarians.\\r\\nI think that their best meal is the duck.\\r\\nI also like the fact that you can see the kitchen.\\r\\nVery good wine selection.\\r\\nYou can also buy different food products from all Italy.\\r\\nStaff professional and friendly\\r\\nIt is an informal restaurant, it s not overprized.\\r\\nI came here with my family almost every Saturday for lunch.\\r\\nHigh recommanded\", metadata={'source': 'ChIJ3UsowFDafkcR9WHsVtRoxeY'})]\n",
            "\n"
          ]
        },
        {
          "data": {
            "text/plain": [
              "'What are the pros and cons of the best restaurant in the city?'"
            ]
          },
          "execution_count": 65,
          "metadata": {},
          "output_type": "execute_result"
        }
      ],
      "source": [
        "test = review_prompt_template.invoke({\"context\": reviews_retriever.invoke(question), \"question\": question})\n",
        "print(test)\n",
        "# StrOutputParser()\n",
        "print(test.messages[0].content)\n",
        "\n",
        "test.messages[1].content"
      ]
    },
    {
      "cell_type": "code",
      "execution_count": 87,
      "metadata": {
        "id": "i1VUet58nE55"
      },
      "outputs": [
        {
          "name": "stdout",
          "output_type": "stream",
          "text": [
            "Based on the reviews provided, there is not enough information to definitively determine the single best restaurant in Padova. The reviews cover several different restaurants, each with some positive aspects mentioned:\n",
            "\n",
            "Soul Kitchen - Nice atmosphere and helpful staff, but the reviewer felt the burger was overpriced for the quality.\n",
            "\n",
            "Bistro Mexicano - Friendly employees, large portions and delicious food, but the upstairs seating area is a bit small. \n",
            "\n",
            "Exforo - Great view of Prato della Valle, kind service, but cocktails and food are overpriced.\n",
            "\n",
            "Hamerica's - Cozy atmosphere, tasty burgers, 50% off beer special, lovely waiter.\n",
            "\n",
            "Gourmetteria - High quality, modern takes on traditional Veneto dishes, good for vegetarians, open kitchen, good wine selection, informal and reasonably priced. The duck is recommended. Reviewer goes frequently with family.\n",
            "\n",
            "Of these, Gourmetteria has the most detailed positive review, so it could potentially be considered the best of this set. But there isn't enough context to say it's definitively the top restaurant in the entire city. More information comparing it to other top-rated establishments would be needed to make that assessment. The reviews don't mention any significant cons for Gourmetteria.\n"
          ]
        }
      ],
      "source": [
        "question = \"\"\"What are the pros and cons of the best restaurant in the city?\"\"\"\n",
        "\n",
        "print(review_chain.invoke(question))"
      ]
    },
    {
      "cell_type": "code",
      "execution_count": 66,
      "metadata": {},
      "outputs": [
        {
          "name": "stdout",
          "output_type": "stream",
          "text": [
            "Based on the reviews provided, the best steak house appears to be Ristorante Vecchio Falconiere. Here are the details:\n",
            "\n",
            "Name: Ristorante Vecchio Falconiere\n",
            "Address: Via Umberto I, 31, 35122 Padova PD, Italy  \n",
            "Phone Number: +39 049 656544\n",
            "\n",
            "The review mentions they have a large variety of steaks from local to Wagyu beef in different sizes. The owner cooks the steak tableside and they have a large wine selection as well. The reviewer recommends making a reservation in advance as it can get fully booked.\n"
          ]
        }
      ],
      "source": [
        "question = \"\"\"Give the name, address and phone number of the best steak houses?\"\"\"\n",
        "\n",
        "print(review_chain.invoke(question))"
      ]
    },
    {
      "cell_type": "code",
      "execution_count": 67,
      "metadata": {},
      "outputs": [
        {
          "name": "stdout",
          "output_type": "stream",
          "text": [
            "Based on the reviews provided, the best steak house option with a 50 euro budget seems to be Ristorante Vecchio Falconiere. Here are the details:\n",
            "\n",
            "Ristorante Vecchio Falconiere\n",
            "Address: Via Umberto I, 31, 35122 Padova PD, Italy \n",
            "Phone: +39 049 656544\n",
            "\n",
            "The review mentions they have a large variety of steaks in different sizes, from local to Wagyu beef. It's described as a \"gem for meat and wine lovers\". However, the review doesn't specify prices, so I can't say for certain if it would fit a 50 euro per person budget. The other restaurants reviewed don't appear to specialize in steak.\n"
          ]
        }
      ],
      "source": [
        "question = \"\"\"Give the name, address and phone number of the best steak houses with a 50 euro budget?\"\"\"\n",
        "\n",
        "print(review_chain.invoke(question))"
      ]
    },
    {
      "cell_type": "code",
      "execution_count": 26,
      "metadata": {},
      "outputs": [
        {
          "name": "stdout",
          "output_type": "stream",
          "text": [
            "Based on the reviews, a couple good sandwich places are:\n",
            "\n",
            "Soul Kitchen\n",
            "Via del Santo, 23, 35123 Padova PD, Italy\n",
            "+39 049 664818\n",
            "\n",
            "The reviews mention they have great burgers, including an Angus beef burger with excellent onion rings. One review wasn't as impressed with their carbonara burger though.\n",
            "\n",
            "Spiller | Padova \n",
            "Via Fornace Morandi, 24/B, 35133 Padova PD, Italy\n",
            "+39 049 864 4822\n",
            "\n",
            "A review recommends their club sandwich and says the location is nice with outdoor seating available. They suggest booking in advance as it can get busy.\n",
            "\n",
            "The other places focus more on burgers rather than a variety of sandwiches. I don't have enough information to confidently recommend additional sandwich spots beyond those two based on the reviews provided.\n"
          ]
        }
      ],
      "source": [
        "question = \"\"\"Give the name, address and phone number of the some good sandwich places?\"\"\"\n",
        "\n",
        "print(review_chain.invoke(question))"
      ]
    },
    {
      "cell_type": "code",
      "execution_count": 72,
      "metadata": {},
      "outputs": [
        {
          "name": "stdout",
          "output_type": "stream",
          "text": [
            "I apologize, but I did not find information about how to make a roast beef sandwich at home in the provided reviews. The reviews are about various restaurants in Padova, Italy, including Hamerica's, Autogrill Limenella, Old England Pub, Ristorante Vecchio Falconiere, Brunch Republic Padova, Bar Nazionale, and McDonald's Padova Ovest. They mention dishes like burgers, chicken burrito, vegan pulled pork sandwich, steak, and tramezzino sandwiches, but do not provide instructions for making a roast beef sandwich at home.\n"
          ]
        }
      ],
      "source": [
        "question = \"\"\"How can I make a roast beef sandwich at home?\"\"\"\n",
        "\n",
        "print(review_chain.invoke(question))"
      ]
    },
    {
      "cell_type": "code",
      "execution_count": 73,
      "metadata": {},
      "outputs": [
        {
          "name": "stdout",
          "output_type": "stream",
          "text": [
            "I do not have information about Natural Language Processing in the provided context. The reviews are about various restaurants and bars in Italy, and do not mention anything related to Natural Language Processing.\n"
          ]
        }
      ],
      "source": [
        "question = \"\"\"What is Natural Language Processing?\"\"\"\n",
        "\n",
        "print(review_chain.invoke(question))"
      ]
    },
    {
      "cell_type": "code",
      "execution_count": 36,
      "metadata": {},
      "outputs": [],
      "source": [
        "question = \"\"\"What are the most affordable but high-quality restaurants in City?\"\"\"\n",
        "result = review_chain.invoke(question)"
      ]
    },
    {
      "cell_type": "code",
      "execution_count": 37,
      "metadata": {},
      "outputs": [
        {
          "name": "stdout",
          "output_type": "stream",
          "text": [
            "Based on the reviews provided, the most affordable yet high-quality restaurant in Padova seems to be Peace 'n' Spice. A few key points from the reviews:\n",
            "\n",
            "- It offers a variety of delicious Middle Eastern dishes at an inexpensive price level. One reviewer said \"Food was amazing. Very delicious, every dish we took was very tasty.\"\n",
            "\n",
            "- The ambiance and decor are described as fantastic. One review mentioned \"The ambiance is fantastic and even music in background brings nostalgia.\"\n",
            "\n",
            "- Service is friendly and accommodating. A reviewer said \"Staffs are very friendly and polite.\"\n",
            "\n",
            "- It has an average rating of 4.5 stars, higher than the McDonald's and KFC locations mentioned which are in the 3-4 star range.\n",
            "\n",
            "The McDonald's and KFC have mixed reviews, with some praising the taste/quality but others feeling it has declined. They are also inexpensive options.\n",
            "\n",
            "So in summary, for an affordable restaurant in Padova with high quality food, friendly service and nice atmosphere, Peace 'n' Spice stands out based on these reviews as the best option provided. The fast food chains are even cheaper but the quality seems more variable.\n"
          ]
        }
      ],
      "source": [
        "result.content\n",
        "print(result.content)"
      ]
    },
    {
      "cell_type": "markdown",
      "metadata": {},
      "source": [
        "## Play ground"
      ]
    },
    {
      "cell_type": "code",
      "execution_count": 99,
      "metadata": {},
      "outputs": [
        {
          "name": "stdout",
          "output_type": "stream",
          "text": [
            "The burgers are amazing, make sure you have a green pass if you plan to eat in.\n",
            "252\n",
            "The burgers are amazing, make sure you have a green pass if you plan to eat in.\n",
            "257\n",
            "The burgers are amazing, make sure you have a green pass if you plan to eat in.\n",
            "742\n",
            "The burgers are amazing, make sure you have a green pass if you plan to eat in.\n",
            "747\n"
          ]
        }
      ],
      "source": [
        "for i in range(len(documents)):\n",
        "    review = documents[i].page_content.split(\"review=\")[1]\n",
        "    if \"The burgers are amazing,\" in review:\n",
        "        print(review)\n",
        "        print(i)"
      ]
    },
    {
      "cell_type": "code",
      "execution_count": 100,
      "metadata": {},
      "outputs": [
        {
          "data": {
            "text/plain": [
              "Document(page_content='place_name=Fastdrink24\\nplace_address=Via Sorio, 64/A, 35141 Padova PD, Italy\\nplace_average_ratings=4.2\\nplace_location=nan\\nplace_website=http://www.fastdrink24.it/\\nplace_phone_number=+39 345 173 7833\\nreview=The burgers are amazing, make sure you have a green pass if you plan to eat in.', metadata={'source': 'ChIJQR9o0zTafkcRA76TSnrQuiw'})"
            ]
          },
          "execution_count": 100,
          "metadata": {},
          "output_type": "execute_result"
        }
      ],
      "source": [
        "documents[252]"
      ]
    },
    {
      "cell_type": "code",
      "execution_count": null,
      "metadata": {},
      "outputs": [],
      "source": []
    }
  ],
  "metadata": {
    "accelerator": "GPU",
    "colab": {
      "gpuType": "T4",
      "provenance": []
    },
    "kernelspec": {
      "display_name": "Python 3 (ipykernel)",
      "language": "python",
      "name": "python3"
    },
    "language_info": {
      "codemirror_mode": {
        "name": "ipython",
        "version": 3
      },
      "file_extension": ".py",
      "mimetype": "text/x-python",
      "name": "python",
      "nbconvert_exporter": "python",
      "pygments_lexer": "ipython3",
      "version": "3.10.8"
    }
  },
  "nbformat": 4,
  "nbformat_minor": 0
}
