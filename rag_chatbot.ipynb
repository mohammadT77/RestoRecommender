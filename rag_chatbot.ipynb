{
  "cells": [
    {
      "cell_type": "code",
      "execution_count": 5,
      "metadata": {
        "colab": {
          "base_uri": "https://localhost:8080/"
        },
        "id": "1WJdr4FOV3m1",
        "outputId": "119f9efd-5cf0-4670-f37c-29bc797e5e5e"
      },
      "outputs": [
        {
          "name": "stderr",
          "output_type": "stream",
          "text": [
            "\n",
            "[notice] A new release of pip available: 22.2.2 -> 24.0\n",
            "[notice] To update, run: python.exe -m pip install --upgrade pip\n"
          ]
        }
      ],
      "source": [
        "!pip install -q \\\n",
        "    transformers==4.31.0 \\\n",
        "    accelerate==0.21.0 \\\n",
        "    bitsandbytes==0.41.0 \\\n",
        "    sentence-transformers==2.2.2 \\\n",
        "    xformers==0.0.20 \\\n",
        "\n",
        "# !pip install -q \\\n",
        "#     langchain==0.1.0 \\\n",
        "#     langchain-community==0.0.12 \\\n",
        "#     langchainhub==0.1.14 \\\n",
        "#     faiss-cpu\n",
        "#     # faiss-gpu \\\n",
        "\n",
        "# !pip install -U langsmith\n",
        "# !pip install -q pandas\n",
        "# # !pip install -q colab-xterm\n",
        "# !pip install -qU langchain-anthropic\n",
        "# !pip install -q python-dotenv"
      ]
    },
    {
      "cell_type": "code",
      "execution_count": 1,
      "metadata": {
        "id": "IVZTYMYqhEyD"
      },
      "outputs": [],
      "source": [
        "import pandas as pd\n",
        "from langchain.prompts import (\n",
        "    PromptTemplate,\n",
        "    SystemMessagePromptTemplate,\n",
        "    HumanMessagePromptTemplate,\n",
        "    ChatPromptTemplate,)\n",
        "from langchain_core.output_parsers import StrOutputParser\n",
        "from langchain_community.vectorstores import FAISS\n",
        "from langchain.schema.runnable import RunnablePassthrough\n",
        "\n",
        "\n",
        "from langchain.embeddings.huggingface import HuggingFaceEmbeddings\n",
        "from langchain_community.document_loaders.dataframe import DataFrameLoader\n",
        "from langchain.storage import LocalFileStore\n",
        "from langchain.embeddings import CacheBackedEmbeddings\n",
        "from langchain.llms import HuggingFacePipeline\n",
        "from langchain_anthropic import ChatAnthropic\n",
        "from langchain_cohere import ChatCohere\n",
        "\n",
        "\n",
        "\n",
        "# from transformers import pipeline\n",
        "# from transformers import AutoTokenizer, AutoModelForCausalLM, BitsAndBytesConfig\n",
        "import huggingface_hub as hf_hub\n",
        "# import torch\n",
        "\n",
        "try:\n",
        "    from google.colab.userdata import get as getenv\n",
        "    print(\"Running in colab\")\n",
        "except ImportError:\n",
        "    from os import getenv\n",
        "    import dotenv\n",
        "    dotenv.load_dotenv()"
      ]
    },
    {
      "cell_type": "code",
      "execution_count": 2,
      "metadata": {},
      "outputs": [
        {
          "name": "stdout",
          "output_type": "stream",
          "text": [
            "Device: cpu\n"
          ]
        }
      ],
      "source": [
        "try:\n",
        "    from torch import cuda\n",
        "    device = 'cuda' if cuda.is_available() else 'cpu'\n",
        "except ImportError:\n",
        "    device = 'cpu'\n",
        "\n",
        "print(\"Device:\", device)"
      ]
    },
    {
      "cell_type": "code",
      "execution_count": 3,
      "metadata": {
        "colab": {
          "base_uri": "https://localhost:8080/"
        },
        "id": "-wj12nPpoijV",
        "outputId": "62d61f31-5786-4169-d678-2c2137fada1b"
      },
      "outputs": [
        {
          "name": "stderr",
          "output_type": "stream",
          "text": [
            "c:\\Users\\mehra\\mehran\\dltorch\\RestoRecommender\\venv\\lib\\site-packages\\tqdm\\auto.py:21: TqdmWarning: IProgress not found. Please update jupyter and ipywidgets. See https://ipywidgets.readthedocs.io/en/stable/user_install.html\n",
            "  from .autonotebook import tqdm as notebook_tqdm\n"
          ]
        },
        {
          "name": "stdout",
          "output_type": "stream",
          "text": [
            "The token has not been saved to the git credentials helper. Pass `add_to_git_credential=True` in this function directly or `--add-to-git-credential` if using via `huggingface-cli` if you want to set the git credential as well.\n",
            "Token is valid (permission: read).\n",
            "Your token has been saved to C:\\Users\\mehra\\.cache\\huggingface\\token\n",
            "Login successful\n"
          ]
        }
      ],
      "source": [
        "HF_TOKEN = getenv('HF_TOKEN')\n",
        "assert HF_TOKEN, \"A valid HuggingFace token is required to be set as <HF_TOKEN>.\"\n",
        "hf_hub.login(HF_TOKEN)"
      ]
    },
    {
      "cell_type": "code",
      "execution_count": 4,
      "metadata": {},
      "outputs": [],
      "source": [
        "ANTHROPIC_API_KEY = getenv('ANTHROPIC_API_KEY')\n",
        "COHERE_API_KEY = getenv('COHERE_API_KEY')"
      ]
    },
    {
      "cell_type": "markdown",
      "metadata": {},
      "source": [
        "## Set up LangSmith"
      ]
    },
    {
      "cell_type": "code",
      "execution_count": 5,
      "metadata": {},
      "outputs": [],
      "source": [
        "LANGCHAIN_API_KEY = getenv('LANGCHAIN_API_KEY')\n",
        "LANGCHAIN_ENDPOINT = getenv('LANGCHAIN_ENDPOINT')\n",
        "assert LANGCHAIN_API_KEY, \"An API key for LangChainSmith is required to be set as <LANGCHAIN_API_KEY>.\""
      ]
    },
    {
      "cell_type": "code",
      "execution_count": 5,
      "metadata": {},
      "outputs": [],
      "source": [
        "OPENAI_API_KEY = getenv('OPENAI_API_KEY')"
      ]
    },
    {
      "cell_type": "markdown",
      "metadata": {
        "id": "1rzeDBNMoijW"
      },
      "source": [
        "## Constants"
      ]
    },
    {
      "cell_type": "code",
      "execution_count": 5,
      "metadata": {
        "id": "TeXyY2YLWqcD"
      },
      "outputs": [],
      "source": [
        "# Dataset files\n",
        "PLACES_PATH = \"data/places.csv\"\n",
        "REVIEWS_PATH = \"data/reviews.csv\"\n",
        "\n",
        "## Models\n",
        "# LLM_MODEL format: <model_type>::<model_name>\n",
        "# \n",
        "# model types: ['hf', 'anthropic']\n",
        "# \n",
        "# Example:\n",
        "# hf::meta-llama/Llama-2-7b-hf\n",
        "# anthropic::claude-3-sonnet-20240229\n",
        "# \n",
        "# LLM_MODEL = \"anthropic::claude-3-sonnet-20240229\"\n",
        "LLM_MODEL = \"anthropic::claude-3-opus-20240229\"\n",
        "LLM_MODEL = \"cohere::\"\n",
        "EMBEDDING_MODEL_NAME = \"all-MiniLM-L6-v2\"\n",
        "\n",
        "# Embeddings\n",
        "EMBEDDINGS_CACHE_STORE=\"./cache/\"\n",
        "\n",
        "# Faiss\n",
        "FAISS_REVIEWS_PATH = \"faiss_index\"\n",
        "FAISS_INDEX_NAME = \"index\"\n",
        "FAISS_DISTANCE_STRATEGY='EUCLIDEAN_DISTANCE'"
      ]
    },
    {
      "cell_type": "markdown",
      "metadata": {
        "id": "eUr5hUrPoijY"
      },
      "source": [
        "## Load Dataset\n",
        "\n",
        "Here we are using 2 csv files containing places (restuarants, bars, ...) info and reviews for each of them."
      ]
    },
    {
      "cell_type": "code",
      "execution_count": 6,
      "metadata": {
        "id": "aONHvzXAoijZ"
      },
      "outputs": [],
      "source": [
        "def get_documents(content_func=lambda row:row['review'],\n",
        "                  source_func=lambda row:row['place_id'],\n",
        "                  metadata_fields=[]):\n",
        "\n",
        "  # Load both data files\n",
        "  places_df = pd.read_csv(PLACES_PATH)\n",
        "  reviews_df = pd.read_csv(REVIEWS_PATH)\n",
        "  reviews_df.drop_duplicates(inplace=True)\n",
        "  places_df.drop_duplicates(inplace=True)\n",
        "\n",
        "  # merge them on 'place_id'\n",
        "  merged_df = pd.merge(places_df, reviews_df, on='place_id', how='inner')\n",
        "\n",
        "  # add page_content and source columns using their corresponing functions\n",
        "  merged_df['page_content'] = merged_df.apply(content_func, axis=1)\n",
        "  merged_df['source'] = merged_df.apply(source_func, axis=1)\n",
        "\n",
        "  # update metadata_fields with 'page_content', 'source'\n",
        "  metadata_fields = list(set(metadata_fields + ['page_content', 'source']))\n",
        "\n",
        "  loader = DataFrameLoader(merged_df[metadata_fields],page_content_column='page_content')\n",
        "  return loader.load()"
      ]
    },
    {
      "cell_type": "code",
      "execution_count": 7,
      "metadata": {
        "id": "E5jUkJ8XoijZ"
      },
      "outputs": [],
      "source": [
        "# def content_func(row) -> str:\n",
        "#   content_fields = ['place_name', 'place_types', 'place_address', 'place_average_ratings', 'review']\n",
        "#   return '\\n'.join(f\"{key}={row[key]}\" for key in content_fields)\n",
        "\n",
        "def content_func(row) -> str:\n",
        "  content_fields = [\"place_name\",\n",
        "                    \"place_address\",\n",
        "                    \"place_average_ratings\",\n",
        "                    \"place_website\",\n",
        "                    \"place_phone_number\",\n",
        "                    \"place_price_level\",\n",
        "                    \"place_primary_type\",\n",
        "                    \"has_delivery\",\n",
        "                    \"is_reservable\",\n",
        "                    \"places_opening_hours\",\n",
        "                    \"review\",\n",
        "                    ]\n",
        "  return '\\n'.join(f\"{key}={row[key]}\" for key in content_fields)\n",
        "\n",
        "documents = get_documents(content_func)"
      ]
    },
    {
      "cell_type": "code",
      "execution_count": 8,
      "metadata": {
        "colab": {
          "base_uri": "https://localhost:8080/"
        },
        "id": "WH4HR9emoijZ",
        "outputId": "fa47e9ba-3bdf-4c36-c553-300479119540"
      },
      "outputs": [
        {
          "data": {
            "text/plain": [
              "Document(page_content='place_name=Roemerkeller Padova\\nplace_address=Via Romana Aponense, 137, 35142 Padova PD, Italy\\nplace_average_ratings=4.0\\nplace_website=http://www.roemerkeller.it/\\nplace_phone_number=+39 328 178 6333\\nplace_price_level=PRICE_LEVEL_MODERATE\\nplace_primary_type=italian_restaurant\\nhas_delivery=False\\nis_reservable=True\\nplaces_opening_hours=[\\'Monday: 12:00\\\\u2009–\\\\u20092:30\\\\u202fPM, 6:30\\\\u202fPM\\\\u2009–\\\\u200912:00\\\\u202fAM\\', \\'Tuesday: 12:00\\\\u2009–\\\\u20092:30\\\\u202fPM, 6:30\\\\u202fPM\\\\u2009–\\\\u200912:00\\\\u202fAM\\', \\'Wednesday: 12:00\\\\u2009–\\\\u20092:30\\\\u202fPM, 6:30\\\\u202fPM\\\\u2009–\\\\u200912:00\\\\u202fAM\\', \\'Thursday: 12:00\\\\u2009–\\\\u20092:30\\\\u202fPM, 6:30\\\\u202fPM\\\\u2009–\\\\u200912:00\\\\u202fAM\\', \\'Friday: 12:00\\\\u2009–\\\\u20092:30\\\\u202fPM, 6:30\\\\u202fPM\\\\u2009–\\\\u200912:00\\\\u202fAM\\', \\'Saturday: 6:30\\\\u202fPM\\\\u2009–\\\\u200912:30\\\\u202fAM\\', \\'Sunday: 12:00\\\\u2009–\\\\u20093:00\\\\u202fPM, 6:30\\\\u202fPM\\\\u2009–\\\\u200912:00\\\\u202fAM\\']\\nreview=Huge \"eating palace\" which is lacking the fine accents of the italian food although the service was top. I would recommend for lunch, less for dinner', metadata={'source': 'ChIJpXSgrsDbfkcRzf_5kCMmrZI'})"
            ]
          },
          "execution_count": 8,
          "metadata": {},
          "output_type": "execute_result"
        }
      ],
      "source": [
        "documents[0]"
      ]
    },
    {
      "cell_type": "markdown",
      "metadata": {
        "id": "wLU4f9yqoija"
      },
      "source": [
        "## Load Embeddings model"
      ]
    },
    {
      "cell_type": "code",
      "execution_count": 21,
      "metadata": {
        "id": "vgtePYxKoija"
      },
      "outputs": [],
      "source": [
        "def get_hf_embedding_model(embedding_model_name,\n",
        "                           cache_embeddings_store,\n",
        "                           device='cpu',\n",
        "                           normalize_embeddings=False,\n",
        "                           ):\n",
        "  model_kwargs = {'device': device, \n",
        "                  'trust_remote_code': True\n",
        "                  }\n",
        "  encode_kwargs = {'normalize_embeddings': normalize_embeddings} # Set `True` for cosine similarity\n",
        "  embedding_model = HuggingFaceEmbeddings(\n",
        "      model_name=embedding_model_name,\n",
        "      model_kwargs=model_kwargs,\n",
        "      encode_kwargs=encode_kwargs\n",
        "      )\n",
        "  store = LocalFileStore(cache_embeddings_store)\n",
        "  embedding_model = CacheBackedEmbeddings.from_bytes_store(\n",
        "                    embedding_model, store)\n",
        "  return embedding_model"
      ]
    },
    {
      "cell_type": "code",
      "execution_count": 12,
      "metadata": {
        "id": "mIsrrLWnoijg"
      },
      "outputs": [
        {
          "name": "stderr",
          "output_type": "stream",
          "text": [
            "c:\\Users\\mehra\\mehran\\dltorch\\RestoRecommender\\venv\\lib\\site-packages\\bitsandbytes\\cextension.py:34: UserWarning: The installed version of bitsandbytes was compiled without GPU support. 8-bit optimizers, 8-bit multiplication, and GPU quantization are unavailable.\n",
            "  warn(\"The installed version of bitsandbytes was compiled without GPU support. \"\n"
          ]
        },
        {
          "name": "stdout",
          "output_type": "stream",
          "text": [
            "'NoneType' object has no attribute 'cadam32bit_grad_fp32'\n"
          ]
        }
      ],
      "source": [
        "# embedding_model = get_hf_embedding_model(EMBEDDING_MODEL_NAME,\n",
        "#                                          EMBEDDINGS_CACHE_STORE,\n",
        "#                                          device=device,\n",
        "#                                          normalize_embeddings=False)"
      ]
    },
    {
      "cell_type": "code",
      "execution_count": 22,
      "metadata": {},
      "outputs": [],
      "source": [
        "# pip install -U sentence-transformers==2.4.0\n",
        "#  \"jinaai/jina-embeddings-v2-base-en\"\n",
        "EMBEDDING_MODEL_NAME = 'Alibaba-NLP/gte-large-en-v1.5'\n",
        "embedding_model = get_hf_embedding_model(EMBEDDING_MODEL_NAME,\n",
        "                                         EMBEDDINGS_CACHE_STORE,\n",
        "                                         device=device,\n",
        "                                         normalize_embeddings=False)"
      ]
    },
    {
      "cell_type": "code",
      "execution_count": 23,
      "metadata": {},
      "outputs": [
        {
          "data": {
            "text/plain": [
              "(1041, 585, 976.6940170940171, 2168.4000000000083, 304)"
            ]
          },
          "execution_count": 23,
          "metadata": {},
          "output_type": "execute_result"
        }
      ],
      "source": [
        "import numpy as np\n",
        "test = np.array([len(doc.page_content) for doc in documents])\n",
        "test\n",
        "test[0], len(test), test.mean(), np.percentile(test, 99.5), test.argmax(),\n",
        "\n",
        "# print(documents[304].page_content)"
      ]
    },
    {
      "cell_type": "code",
      "execution_count": 24,
      "metadata": {},
      "outputs": [
        {
          "data": {
            "text/plain": [
              "2340000"
            ]
          },
          "execution_count": 24,
          "metadata": {},
          "output_type": "execute_result"
        }
      ],
      "source": [
        "2000 * 2 * 585 "
      ]
    },
    {
      "cell_type": "markdown",
      "metadata": {
        "id": "yZU69PxDoijg"
      },
      "source": [
        "## Load FAISS (Vector Database)"
      ]
    },
    {
      "cell_type": "code",
      "execution_count": 11,
      "metadata": {
        "id": "ClgYJkU5oijj"
      },
      "outputs": [],
      "source": [
        "def get_vector_database(documents, embedding_model):\n",
        "\n",
        "  vector_database = FAISS.from_documents(\n",
        "      documents, embedding_model,\n",
        "      distance_strategy= FAISS_DISTANCE_STRATEGY\n",
        "      \n",
        "      )\n",
        "  return vector_database"
      ]
    },
    {
      "cell_type": "code",
      "execution_count": 12,
      "metadata": {},
      "outputs": [],
      "source": [
        "import faiss\n",
        "from langchain_community.docstore.in_memory import InMemoryDocstore"
      ]
    },
    {
      "cell_type": "code",
      "execution_count": 13,
      "metadata": {
        "id": "ZY6Ku6Eboijj"
      },
      "outputs": [],
      "source": [
        "# vector_db = get_vector_database(documents, embedding_model)\n",
        "\n",
        "embedding_size = 8192\n",
        "index = faiss.IndexFlatL2(embedding_size)\n",
        "vectorstore = FAISS(embedding_model, index, InMemoryDocstore({}), {})"
      ]
    },
    {
      "cell_type": "code",
      "execution_count": 14,
      "metadata": {},
      "outputs": [],
      "source": [
        "vectorstore = vectorstore.from_documents(documents, embedding_model,\n",
        "                            distance_strategy= FAISS_DISTANCE_STRATEGY)"
      ]
    },
    {
      "cell_type": "code",
      "execution_count": 18,
      "metadata": {},
      "outputs": [
        {
          "ename": "AssertionError",
          "evalue": "",
          "output_type": "error",
          "traceback": [
            "\u001b[1;31m---------------------------------------------------------------------------\u001b[0m",
            "\u001b[1;31mAssertionError\u001b[0m                            Traceback (most recent call last)",
            "Cell \u001b[1;32mIn[18], line 1\u001b[0m\n\u001b[1;32m----> 1\u001b[0m \u001b[43mvectorstore\u001b[49m\u001b[38;5;241;43m.\u001b[39;49m\u001b[43msimilarity_search\u001b[49m\u001b[43m(\u001b[49m\u001b[38;5;124;43m\"\u001b[39;49m\u001b[38;5;124;43mwhich one is the best pizza restaurant in the city?\u001b[39;49m\u001b[38;5;124;43m\"\u001b[39;49m\u001b[43m,\u001b[49m\u001b[43m \u001b[49m\u001b[43mk\u001b[49m\u001b[43m \u001b[49m\u001b[38;5;241;43m=\u001b[39;49m\u001b[43m \u001b[49m\u001b[38;5;241;43m1\u001b[39;49m\u001b[43m)\u001b[49m\n",
            "File \u001b[1;32mc:\\Users\\mehra\\mehran\\dltorch\\RestoRecommender\\venv\\lib\\site-packages\\langchain_community\\vectorstores\\faiss.py:511\u001b[0m, in \u001b[0;36mFAISS.similarity_search\u001b[1;34m(self, query, k, filter, fetch_k, **kwargs)\u001b[0m\n\u001b[0;32m    491\u001b[0m \u001b[38;5;28;01mdef\u001b[39;00m \u001b[38;5;21msimilarity_search\u001b[39m(\n\u001b[0;32m    492\u001b[0m     \u001b[38;5;28mself\u001b[39m,\n\u001b[0;32m    493\u001b[0m     query: \u001b[38;5;28mstr\u001b[39m,\n\u001b[1;32m   (...)\u001b[0m\n\u001b[0;32m    497\u001b[0m     \u001b[38;5;241m*\u001b[39m\u001b[38;5;241m*\u001b[39mkwargs: Any,\n\u001b[0;32m    498\u001b[0m ) \u001b[38;5;241m-\u001b[39m\u001b[38;5;241m>\u001b[39m List[Document]:\n\u001b[0;32m    499\u001b[0m \u001b[38;5;250m    \u001b[39m\u001b[38;5;124;03m\"\"\"Return docs most similar to query.\u001b[39;00m\n\u001b[0;32m    500\u001b[0m \n\u001b[0;32m    501\u001b[0m \u001b[38;5;124;03m    Args:\u001b[39;00m\n\u001b[1;32m   (...)\u001b[0m\n\u001b[0;32m    509\u001b[0m \u001b[38;5;124;03m        List of Documents most similar to the query.\u001b[39;00m\n\u001b[0;32m    510\u001b[0m \u001b[38;5;124;03m    \"\"\"\u001b[39;00m\n\u001b[1;32m--> 511\u001b[0m     docs_and_scores \u001b[38;5;241m=\u001b[39m \u001b[38;5;28mself\u001b[39m\u001b[38;5;241m.\u001b[39msimilarity_search_with_score(\n\u001b[0;32m    512\u001b[0m         query, k, \u001b[38;5;28mfilter\u001b[39m\u001b[38;5;241m=\u001b[39m\u001b[38;5;28mfilter\u001b[39m, fetch_k\u001b[38;5;241m=\u001b[39mfetch_k, \u001b[38;5;241m*\u001b[39m\u001b[38;5;241m*\u001b[39mkwargs\n\u001b[0;32m    513\u001b[0m     )\n\u001b[0;32m    514\u001b[0m     \u001b[38;5;28;01mreturn\u001b[39;00m [doc \u001b[38;5;28;01mfor\u001b[39;00m doc, _ \u001b[38;5;129;01min\u001b[39;00m docs_and_scores]\n",
            "File \u001b[1;32mc:\\Users\\mehra\\mehran\\dltorch\\RestoRecommender\\venv\\lib\\site-packages\\langchain_community\\vectorstores\\faiss.py:393\u001b[0m, in \u001b[0;36mFAISS.similarity_search_with_score\u001b[1;34m(self, query, k, filter, fetch_k, **kwargs)\u001b[0m\n\u001b[0;32m    379\u001b[0m \u001b[38;5;250m\u001b[39m\u001b[38;5;124;03m\"\"\"Return docs most similar to query.\u001b[39;00m\n\u001b[0;32m    380\u001b[0m \n\u001b[0;32m    381\u001b[0m \u001b[38;5;124;03mArgs:\u001b[39;00m\n\u001b[1;32m   (...)\u001b[0m\n\u001b[0;32m    390\u001b[0m \u001b[38;5;124;03m    L2 distance in float. Lower score represents more similarity.\u001b[39;00m\n\u001b[0;32m    391\u001b[0m \u001b[38;5;124;03m\"\"\"\u001b[39;00m\n\u001b[0;32m    392\u001b[0m embedding \u001b[38;5;241m=\u001b[39m \u001b[38;5;28mself\u001b[39m\u001b[38;5;241m.\u001b[39m_embed_query(query)\n\u001b[1;32m--> 393\u001b[0m docs \u001b[38;5;241m=\u001b[39m \u001b[38;5;28mself\u001b[39m\u001b[38;5;241m.\u001b[39msimilarity_search_with_score_by_vector(\n\u001b[0;32m    394\u001b[0m     embedding,\n\u001b[0;32m    395\u001b[0m     k,\n\u001b[0;32m    396\u001b[0m     \u001b[38;5;28mfilter\u001b[39m\u001b[38;5;241m=\u001b[39m\u001b[38;5;28mfilter\u001b[39m,\n\u001b[0;32m    397\u001b[0m     fetch_k\u001b[38;5;241m=\u001b[39mfetch_k,\n\u001b[0;32m    398\u001b[0m     \u001b[38;5;241m*\u001b[39m\u001b[38;5;241m*\u001b[39mkwargs,\n\u001b[0;32m    399\u001b[0m )\n\u001b[0;32m    400\u001b[0m \u001b[38;5;28;01mreturn\u001b[39;00m docs\n",
            "File \u001b[1;32mc:\\Users\\mehra\\mehran\\dltorch\\RestoRecommender\\venv\\lib\\site-packages\\langchain_community\\vectorstores\\faiss.py:300\u001b[0m, in \u001b[0;36mFAISS.similarity_search_with_score_by_vector\u001b[1;34m(self, embedding, k, filter, fetch_k, **kwargs)\u001b[0m\n\u001b[0;32m    298\u001b[0m \u001b[38;5;28;01mif\u001b[39;00m \u001b[38;5;28mself\u001b[39m\u001b[38;5;241m.\u001b[39m_normalize_L2:\n\u001b[0;32m    299\u001b[0m     faiss\u001b[38;5;241m.\u001b[39mnormalize_L2(vector)\n\u001b[1;32m--> 300\u001b[0m scores, indices \u001b[38;5;241m=\u001b[39m \u001b[38;5;28;43mself\u001b[39;49m\u001b[38;5;241;43m.\u001b[39;49m\u001b[43mindex\u001b[49m\u001b[38;5;241;43m.\u001b[39;49m\u001b[43msearch\u001b[49m\u001b[43m(\u001b[49m\u001b[43mvector\u001b[49m\u001b[43m,\u001b[49m\u001b[43m \u001b[49m\u001b[43mk\u001b[49m\u001b[43m \u001b[49m\u001b[38;5;28;43;01mif\u001b[39;49;00m\u001b[43m \u001b[49m\u001b[38;5;28;43mfilter\u001b[39;49m\u001b[43m \u001b[49m\u001b[38;5;129;43;01mis\u001b[39;49;00m\u001b[43m \u001b[49m\u001b[38;5;28;43;01mNone\u001b[39;49;00m\u001b[43m \u001b[49m\u001b[38;5;28;43;01melse\u001b[39;49;00m\u001b[43m \u001b[49m\u001b[43mfetch_k\u001b[49m\u001b[43m)\u001b[49m\n\u001b[0;32m    301\u001b[0m docs \u001b[38;5;241m=\u001b[39m []\n\u001b[0;32m    302\u001b[0m \u001b[38;5;28;01mfor\u001b[39;00m j, i \u001b[38;5;129;01min\u001b[39;00m \u001b[38;5;28menumerate\u001b[39m(indices[\u001b[38;5;241m0\u001b[39m]):\n",
            "File \u001b[1;32mc:\\Users\\mehra\\mehran\\dltorch\\RestoRecommender\\venv\\lib\\site-packages\\faiss\\class_wrappers.py:329\u001b[0m, in \u001b[0;36mhandle_Index.<locals>.replacement_search\u001b[1;34m(self, x, k, params, D, I)\u001b[0m\n\u001b[0;32m    327\u001b[0m n, d \u001b[38;5;241m=\u001b[39m x\u001b[38;5;241m.\u001b[39mshape\n\u001b[0;32m    328\u001b[0m x \u001b[38;5;241m=\u001b[39m np\u001b[38;5;241m.\u001b[39mascontiguousarray(x, dtype\u001b[38;5;241m=\u001b[39m\u001b[38;5;124m'\u001b[39m\u001b[38;5;124mfloat32\u001b[39m\u001b[38;5;124m'\u001b[39m)\n\u001b[1;32m--> 329\u001b[0m \u001b[38;5;28;01massert\u001b[39;00m d \u001b[38;5;241m==\u001b[39m \u001b[38;5;28mself\u001b[39m\u001b[38;5;241m.\u001b[39md\n\u001b[0;32m    331\u001b[0m \u001b[38;5;28;01massert\u001b[39;00m k \u001b[38;5;241m>\u001b[39m \u001b[38;5;241m0\u001b[39m\n\u001b[0;32m    333\u001b[0m \u001b[38;5;28;01mif\u001b[39;00m D \u001b[38;5;129;01mis\u001b[39;00m \u001b[38;5;28;01mNone\u001b[39;00m:\n",
            "\u001b[1;31mAssertionError\u001b[0m: "
          ]
        }
      ],
      "source": [
        "vectorstore.similarity_search(\"which one is the best pizza restaurant in the city?\", k = 1)"
      ]
    },
    {
      "cell_type": "code",
      "execution_count": 15,
      "metadata": {},
      "outputs": [],
      "source": [
        "vectorstore.save_local(folder_path=FAISS_REVIEWS_PATH, index_name=FAISS_INDEX_NAME)"
      ]
    },
    {
      "cell_type": "code",
      "execution_count": 26,
      "metadata": {
        "id": "A_kv8O3zndtA"
      },
      "outputs": [],
      "source": [
        "## if you want to save the db and use the files to load it again later.\n",
        "FAISS_REVIEWS_PATH_EUCLIDEAN = \"faiss_index_euclidean\"\n",
        "FAISS_REVIEWS_PATH = FAISS_REVIEWS_PATH_EUCLIDEAN\n",
        "vector_db.save_local(folder_path=FAISS_REVIEWS_PATH, index_name=FAISS_INDEX_NAME)\n",
        "vector_db = FAISS.load_local(folder_path=FAISS_REVIEWS_PATH,\n",
        "                             embeddings=embedding_model,\n",
        "                             index_name=FAISS_INDEX_NAME)"
      ]
    },
    {
      "cell_type": "code",
      "execution_count": 17,
      "metadata": {
        "id": "SzaIRkhToijm"
      },
      "outputs": [
        {
          "ename": "AssertionError",
          "evalue": "",
          "output_type": "error",
          "traceback": [
            "\u001b[1;31m---------------------------------------------------------------------------\u001b[0m",
            "\u001b[1;31mAssertionError\u001b[0m                            Traceback (most recent call last)",
            "Cell \u001b[1;32mIn[17], line 1\u001b[0m\n\u001b[1;32m----> 1\u001b[0m docs \u001b[38;5;241m=\u001b[39m \u001b[43mvectorstore\u001b[49m\u001b[38;5;241;43m.\u001b[39;49m\u001b[43msimilarity_search\u001b[49m\u001b[43m(\u001b[49m\u001b[38;5;124;43m\"\u001b[39;49m\u001b[38;5;124;43mwhich one is the best pizza restaurant in the city?\u001b[39;49m\u001b[38;5;124;43m\"\u001b[39;49m\u001b[43m,\u001b[49m\u001b[43m \u001b[49m\u001b[43mk\u001b[49m\u001b[43m \u001b[49m\u001b[38;5;241;43m=\u001b[39;49m\u001b[43m \u001b[49m\u001b[38;5;241;43m5\u001b[39;49m\u001b[43m)\u001b[49m\n",
            "File \u001b[1;32mc:\\Users\\mehra\\mehran\\dltorch\\RestoRecommender\\venv\\lib\\site-packages\\langchain_community\\vectorstores\\faiss.py:511\u001b[0m, in \u001b[0;36mFAISS.similarity_search\u001b[1;34m(self, query, k, filter, fetch_k, **kwargs)\u001b[0m\n\u001b[0;32m    491\u001b[0m \u001b[38;5;28;01mdef\u001b[39;00m \u001b[38;5;21msimilarity_search\u001b[39m(\n\u001b[0;32m    492\u001b[0m     \u001b[38;5;28mself\u001b[39m,\n\u001b[0;32m    493\u001b[0m     query: \u001b[38;5;28mstr\u001b[39m,\n\u001b[1;32m   (...)\u001b[0m\n\u001b[0;32m    497\u001b[0m     \u001b[38;5;241m*\u001b[39m\u001b[38;5;241m*\u001b[39mkwargs: Any,\n\u001b[0;32m    498\u001b[0m ) \u001b[38;5;241m-\u001b[39m\u001b[38;5;241m>\u001b[39m List[Document]:\n\u001b[0;32m    499\u001b[0m \u001b[38;5;250m    \u001b[39m\u001b[38;5;124;03m\"\"\"Return docs most similar to query.\u001b[39;00m\n\u001b[0;32m    500\u001b[0m \n\u001b[0;32m    501\u001b[0m \u001b[38;5;124;03m    Args:\u001b[39;00m\n\u001b[1;32m   (...)\u001b[0m\n\u001b[0;32m    509\u001b[0m \u001b[38;5;124;03m        List of Documents most similar to the query.\u001b[39;00m\n\u001b[0;32m    510\u001b[0m \u001b[38;5;124;03m    \"\"\"\u001b[39;00m\n\u001b[1;32m--> 511\u001b[0m     docs_and_scores \u001b[38;5;241m=\u001b[39m \u001b[38;5;28mself\u001b[39m\u001b[38;5;241m.\u001b[39msimilarity_search_with_score(\n\u001b[0;32m    512\u001b[0m         query, k, \u001b[38;5;28mfilter\u001b[39m\u001b[38;5;241m=\u001b[39m\u001b[38;5;28mfilter\u001b[39m, fetch_k\u001b[38;5;241m=\u001b[39mfetch_k, \u001b[38;5;241m*\u001b[39m\u001b[38;5;241m*\u001b[39mkwargs\n\u001b[0;32m    513\u001b[0m     )\n\u001b[0;32m    514\u001b[0m     \u001b[38;5;28;01mreturn\u001b[39;00m [doc \u001b[38;5;28;01mfor\u001b[39;00m doc, _ \u001b[38;5;129;01min\u001b[39;00m docs_and_scores]\n",
            "File \u001b[1;32mc:\\Users\\mehra\\mehran\\dltorch\\RestoRecommender\\venv\\lib\\site-packages\\langchain_community\\vectorstores\\faiss.py:393\u001b[0m, in \u001b[0;36mFAISS.similarity_search_with_score\u001b[1;34m(self, query, k, filter, fetch_k, **kwargs)\u001b[0m\n\u001b[0;32m    379\u001b[0m \u001b[38;5;250m\u001b[39m\u001b[38;5;124;03m\"\"\"Return docs most similar to query.\u001b[39;00m\n\u001b[0;32m    380\u001b[0m \n\u001b[0;32m    381\u001b[0m \u001b[38;5;124;03mArgs:\u001b[39;00m\n\u001b[1;32m   (...)\u001b[0m\n\u001b[0;32m    390\u001b[0m \u001b[38;5;124;03m    L2 distance in float. Lower score represents more similarity.\u001b[39;00m\n\u001b[0;32m    391\u001b[0m \u001b[38;5;124;03m\"\"\"\u001b[39;00m\n\u001b[0;32m    392\u001b[0m embedding \u001b[38;5;241m=\u001b[39m \u001b[38;5;28mself\u001b[39m\u001b[38;5;241m.\u001b[39m_embed_query(query)\n\u001b[1;32m--> 393\u001b[0m docs \u001b[38;5;241m=\u001b[39m \u001b[38;5;28mself\u001b[39m\u001b[38;5;241m.\u001b[39msimilarity_search_with_score_by_vector(\n\u001b[0;32m    394\u001b[0m     embedding,\n\u001b[0;32m    395\u001b[0m     k,\n\u001b[0;32m    396\u001b[0m     \u001b[38;5;28mfilter\u001b[39m\u001b[38;5;241m=\u001b[39m\u001b[38;5;28mfilter\u001b[39m,\n\u001b[0;32m    397\u001b[0m     fetch_k\u001b[38;5;241m=\u001b[39mfetch_k,\n\u001b[0;32m    398\u001b[0m     \u001b[38;5;241m*\u001b[39m\u001b[38;5;241m*\u001b[39mkwargs,\n\u001b[0;32m    399\u001b[0m )\n\u001b[0;32m    400\u001b[0m \u001b[38;5;28;01mreturn\u001b[39;00m docs\n",
            "File \u001b[1;32mc:\\Users\\mehra\\mehran\\dltorch\\RestoRecommender\\venv\\lib\\site-packages\\langchain_community\\vectorstores\\faiss.py:300\u001b[0m, in \u001b[0;36mFAISS.similarity_search_with_score_by_vector\u001b[1;34m(self, embedding, k, filter, fetch_k, **kwargs)\u001b[0m\n\u001b[0;32m    298\u001b[0m \u001b[38;5;28;01mif\u001b[39;00m \u001b[38;5;28mself\u001b[39m\u001b[38;5;241m.\u001b[39m_normalize_L2:\n\u001b[0;32m    299\u001b[0m     faiss\u001b[38;5;241m.\u001b[39mnormalize_L2(vector)\n\u001b[1;32m--> 300\u001b[0m scores, indices \u001b[38;5;241m=\u001b[39m \u001b[38;5;28;43mself\u001b[39;49m\u001b[38;5;241;43m.\u001b[39;49m\u001b[43mindex\u001b[49m\u001b[38;5;241;43m.\u001b[39;49m\u001b[43msearch\u001b[49m\u001b[43m(\u001b[49m\u001b[43mvector\u001b[49m\u001b[43m,\u001b[49m\u001b[43m \u001b[49m\u001b[43mk\u001b[49m\u001b[43m \u001b[49m\u001b[38;5;28;43;01mif\u001b[39;49;00m\u001b[43m \u001b[49m\u001b[38;5;28;43mfilter\u001b[39;49m\u001b[43m \u001b[49m\u001b[38;5;129;43;01mis\u001b[39;49;00m\u001b[43m \u001b[49m\u001b[38;5;28;43;01mNone\u001b[39;49;00m\u001b[43m \u001b[49m\u001b[38;5;28;43;01melse\u001b[39;49;00m\u001b[43m \u001b[49m\u001b[43mfetch_k\u001b[49m\u001b[43m)\u001b[49m\n\u001b[0;32m    301\u001b[0m docs \u001b[38;5;241m=\u001b[39m []\n\u001b[0;32m    302\u001b[0m \u001b[38;5;28;01mfor\u001b[39;00m j, i \u001b[38;5;129;01min\u001b[39;00m \u001b[38;5;28menumerate\u001b[39m(indices[\u001b[38;5;241m0\u001b[39m]):\n",
            "File \u001b[1;32mc:\\Users\\mehra\\mehran\\dltorch\\RestoRecommender\\venv\\lib\\site-packages\\faiss\\class_wrappers.py:329\u001b[0m, in \u001b[0;36mhandle_Index.<locals>.replacement_search\u001b[1;34m(self, x, k, params, D, I)\u001b[0m\n\u001b[0;32m    327\u001b[0m n, d \u001b[38;5;241m=\u001b[39m x\u001b[38;5;241m.\u001b[39mshape\n\u001b[0;32m    328\u001b[0m x \u001b[38;5;241m=\u001b[39m np\u001b[38;5;241m.\u001b[39mascontiguousarray(x, dtype\u001b[38;5;241m=\u001b[39m\u001b[38;5;124m'\u001b[39m\u001b[38;5;124mfloat32\u001b[39m\u001b[38;5;124m'\u001b[39m)\n\u001b[1;32m--> 329\u001b[0m \u001b[38;5;28;01massert\u001b[39;00m d \u001b[38;5;241m==\u001b[39m \u001b[38;5;28mself\u001b[39m\u001b[38;5;241m.\u001b[39md\n\u001b[0;32m    331\u001b[0m \u001b[38;5;28;01massert\u001b[39;00m k \u001b[38;5;241m>\u001b[39m \u001b[38;5;241m0\u001b[39m\n\u001b[0;32m    333\u001b[0m \u001b[38;5;28;01mif\u001b[39;00m D \u001b[38;5;129;01mis\u001b[39;00m \u001b[38;5;28;01mNone\u001b[39;00m:\n",
            "\u001b[1;31mAssertionError\u001b[0m: "
          ]
        }
      ],
      "source": [
        "docs = vectorstore.similarity_search(\"which one is the best pizza restaurant in the city?\", k = 5)"
      ]
    },
    {
      "cell_type": "code",
      "execution_count": 29,
      "metadata": {
        "colab": {
          "base_uri": "https://localhost:8080/"
        },
        "id": "g9xMBNVuoijt",
        "outputId": "9fa4cbc2-084d-4f1f-e891-6e00f457e0fd"
      },
      "outputs": [
        {
          "data": {
            "text/plain": [
              "Document(page_content=\"place_name=La Scuderia\\nplace_address=Via San Lorenzo, 13, 35031 Abano Terme PD, Italy\\nplace_average_ratings=4.0\\nplace_website=http://www.lascuderiahb.it/\\nplace_phone_number=+39 393 797 8770\\nplace_price_level=PRICE_LEVEL_MODERATE\\nplace_primary_type=pizza_restaurant\\nhas_delivery=True\\nis_reservable=True\\nplaces_opening_hours=['Monday: 6:30\\\\u202fPM\\\\u2009–\\\\u20092:00\\\\u202fAM', 'Tuesday: Closed', 'Wednesday: 6:30\\\\u202fPM\\\\u2009–\\\\u200912:00\\\\u202fAM', 'Thursday: 6:30\\\\u202fPM\\\\u2009–\\\\u20092:00\\\\u202fAM', 'Friday: 6:30\\\\u202fPM\\\\u2009–\\\\u20092:00\\\\u202fAM', 'Saturday: 6:30\\\\u202fPM\\\\u2009–\\\\u20092:00\\\\u202fAM', 'Sunday: 12:00\\\\u202fPM\\\\u2009–\\\\u20092:00\\\\u202fAM']\\nreview=Excellent pizza served in a pleasant environment, modern and classic. Large selection of dishes, fast service\", metadata={'source': 'ChIJrzxAcjTZfkcR-_oZ1mU6F9I'})"
            ]
          },
          "execution_count": 29,
          "metadata": {},
          "output_type": "execute_result"
        }
      ],
      "source": [
        "docs[0]"
      ]
    },
    {
      "cell_type": "code",
      "execution_count": 20,
      "metadata": {},
      "outputs": [
        {
          "name": "stdout",
          "output_type": "stream",
          "text": [
            "page_content='place_name=Enoteca Barcollo\\nplace_address=Via Alessandro Guidi, 23, 35142 Padova PD, Italy\\nplace_average_ratings=4.3\\nplace_website=nan\\nplace_phone_number=+39 393 082 6866\\nreview=Top' metadata={'source': 'ChIJwzs5vKLbfkcRp43hqXskPKw'}\n",
            "\n",
            "page_content='place_name=Enoteca Barcollo\\nplace_address=Via Alessandro Guidi, 23, 35142 Padova PD, Italy\\nplace_average_ratings=4.3\\nplace_website=nan\\nplace_phone_number=+39 393 082 6866\\nreview=Brave!' metadata={'source': 'ChIJwzs5vKLbfkcRp43hqXskPKw'}\n",
            "\n",
            "page_content='place_name=Enoteca Barcollo\\nplace_address=Via Alessandro Guidi, 23, 35142 Padova PD, Italy\\nplace_average_ratings=4.3\\nplace_website=nan\\nplace_phone_number=+39 393 082 6866\\nreview=Super cicchetti, equally super cold cuts platter! Wide choice of wines. Very welcoming environment and super friendly staff. Both the boy and the girl made themselves available to serve us as best as possible and guarantee us an excellent aperitif! 💪✨💯💯💯💯' metadata={'source': 'ChIJwzs5vKLbfkcRp43hqXskPKw'}\n",
            "\n",
            "page_content='place_name=Enoteca Barcollo\\nplace_address=Via Alessandro Guidi, 23, 35142 Padova PD, Italy\\nplace_average_ratings=4.3\\nplace_website=nan\\nplace_phone_number=+39 393 082 6866\\nreview=The environment is very nice, suitable for all ages. Free parking on site.\\r\\nThe quantity of wine in the glasses seemed a little low to me, but at least they bring some accompanying tarallini.\\r\\nIn total for 5 glasses of white wine and a platter of cold cuts and cheeses we paid 41 euros.' metadata={'source': 'ChIJwzs5vKLbfkcRp43hqXskPKw'}\n",
            "\n",
            "page_content='place_name=Enoteca La Botte Piccola\\nplace_address=Via Sorio, 14, 35141 Padova PD, Italy\\nplace_average_ratings=4.6\\nplace_website=https://m.facebook.com/pages/category/Bar/Enoteca-la-botte-piccola-332212890859585/?locale2=it_IT\\nplace_phone_number=+39 347 837 6458\\nreview=Lots of outdoor seating ( cushions would be nice). Good drinks and ciccete. Reasonable prices.' metadata={'source': 'ChIJldHNscHbfkcRaGVL81ecAlI'}\n",
            "\n"
          ]
        }
      ],
      "source": [
        "question = \"where is the Enoteca Barcollo located? and what is its phone number?\"\n",
        "\n",
        "docs = vector_db.similarity_search(question, k = 5)\n",
        "\n",
        "for i in range(5):\n",
        "  print(docs[i], end=\"\\n\\n\")"
      ]
    },
    {
      "cell_type": "code",
      "execution_count": 21,
      "metadata": {},
      "outputs": [
        {
          "name": "stdout",
          "output_type": "stream",
          "text": [
            "page_content=\"place_name=La Mafaldina Pizzeria - Pontevigodarzere\\nplace_address=Via dei Vivarini, 22, 35133 Padova PD, Italy\\nplace_average_ratings=4.5\\nplace_website=https://www.lamafaldina.it/\\nplace_phone_number=+39 049 735 8018\\nreview=Me and my family went there to have dinner, based on the reviews that I red about this place and it was defenetely a very good choice, because pizza is just great and, if you are in the neighborhood, you don't want to miss it.\" metadata={'source': 'ChIJWdpV5_7RfkcRI93ap-aXK90'}\n",
            "\n",
            "page_content=\"place_name=La Mafaldina Pizzeria - Pontevigodarzere\\nplace_address=Via dei Vivarini, 22, 35133 Padova PD, Italy\\nplace_average_ratings=4.5\\nplace_website=https://www.lamafaldina.it/\\nplace_phone_number=+39 049 735 8018\\nreview=A very beautiful place with amazing and helpful staff. It's one of rhe best pizza restaurants in Padua. 💕 Grazie!\" metadata={'source': 'ChIJWdpV5_7RfkcRI93ap-aXK90'}\n",
            "\n",
            "page_content='place_name=La Mafaldina Pizzeria - Pontevigodarzere\\nplace_address=Via dei Vivarini, 22, 35133 Padova PD, Italy\\nplace_average_ratings=4.5\\nplace_website=https://www.lamafaldina.it/\\nplace_phone_number=+39 049 735 8018\\nreview=Kind staff, great pizzas' metadata={'source': 'ChIJWdpV5_7RfkcRI93ap-aXK90'}\n",
            "\n",
            "page_content=\"place_name=Osteria l'Anfora\\nplace_address=Via Soncin, 13, 35121 Padova PD, Italy\\nplace_average_ratings=4.4\\nplace_website=https://facebook.com/pages/Osteria-lAnfora/161292750563482\\nplace_phone_number=+39 049 656629\\nreview=We went on a Thursday right after visiting Capella Scrovegni and the museum, the restaurants I have researched previously were closed so we decided to lunch in Osteria l'Anfora based on the good reviews. It was past 14:20 and we were very friendly welcomed, the food was delicious and the atmosphere is really nice. Price was very reasonable for the quality! Great place.\" metadata={'source': 'ChIJ0W8f10_afkcRYXJye9E4xdI'}\n",
            "\n",
            "page_content=\"place_name=Osteria l'Anfora\\nplace_address=Via Soncin, 13, 35121 Padova PD, Italy\\nplace_average_ratings=4.4\\nplace_website=https://facebook.com/pages/Osteria-lAnfora/161292750563482\\nplace_phone_number=+39 049 656629\\nreview=delicious food, authentic atmosphere. Hanna helped us with the menu because it was in Italian and helped us choose the wine.\" metadata={'source': 'ChIJ0W8f10_afkcRYXJye9E4xdI'}\n",
            "\n"
          ]
        }
      ],
      "source": [
        "question = \"where is la mafaldina?\"\n",
        "\n",
        "docs = vector_db.similarity_search(question, k = 5)\n",
        "\n",
        "for i in range(5):\n",
        "  print(docs[i], end=\"\\n\\n\")"
      ]
    },
    {
      "cell_type": "markdown",
      "metadata": {
        "id": "Rk1-sq8Voijw"
      },
      "source": [
        "## Load LLM"
      ]
    },
    {
      "cell_type": "code",
      "execution_count": 36,
      "metadata": {
        "id": "uOGUVg7uw4hP"
      },
      "outputs": [],
      "source": [
        "def get_anthropic_api_llm(model_name):\n",
        "  llm = ChatAnthropic(model_name=model_name, anthropic_api_key=ANTHROPIC_API_KEY,)\n",
        "\n",
        "  return llm\n",
        "\n",
        "def get_cohere_api_llm():\n",
        "  llm = ChatCohere()\n",
        "\n",
        "  return llm\n"
      ]
    },
    {
      "cell_type": "code",
      "execution_count": 14,
      "metadata": {
        "id": "GgNq7ELyoijx"
      },
      "outputs": [],
      "source": [
        "def get_hf_llm(model_name):\n",
        "\n",
        "  bnb_config = BitsAndBytesConfig(\n",
        "      load_in_4bit=True,\n",
        "      bnb_4bit_use_double_quant=True,\n",
        "      bnb_4bit_quant_type=\"nf4\",\n",
        "      bnb_4bit_compute_dtype=torch.bfloat16,\n",
        "  )\n",
        "  model = AutoModelForCausalLM.from_pretrained(model_name, quantization_config=bnb_config, )\n",
        "  tokenizer = AutoTokenizer.from_pretrained(model_name)\n",
        "\n",
        "  pipe = pipeline(\n",
        "      model=model,\n",
        "      tokenizer=tokenizer,\n",
        "      return_full_text=True,  # langchain expects the full text\n",
        "      task='text-generation',\n",
        "      # we pass model parameters here too\n",
        "      temperature=0.0001,  # 'randomness' of outputs, 0.0 is the min and 1.0 the max\n",
        "      max_new_tokens=512,  # mex number of tokens to generate in the output\n",
        "      repetition_penalty=1.1  # without this output begins repeating\n",
        "  )\n",
        "\n",
        "  llm = HuggingFacePipeline(pipeline=pipe,)\n",
        "  return llm\n"
      ]
    },
    {
      "cell_type": "code",
      "execution_count": 37,
      "metadata": {
        "id": "grd0zxY9oijy"
      },
      "outputs": [
        {
          "data": {
            "text/plain": [
              "ChatCohere(client=<cohere.client.Client object at 0x0000024185F73A60>, async_client=<cohere.client.AsyncClient object at 0x0000024185AA6200>, cohere_api_key=SecretStr('**********'))"
            ]
          },
          "execution_count": 37,
          "metadata": {},
          "output_type": "execute_result"
        }
      ],
      "source": [
        "model_type, _, model_name = LLM_MODEL.partition('::')\n",
        "\n",
        "# If model type is not set, use anthropic\n",
        "if model_name == \"\":\n",
        "    model_type = \"cohere\"\n",
        "    model_name = model_type\n",
        "\n",
        "\n",
        "if model_type == \"anthropic\":\n",
        "    llm = get_anthropic_api_llm(model_name)\n",
        "elif model_type == \"hf\":\n",
        "    llm = get_hf_llm(model_name)\n",
        "else:\n",
        "    llm = get_cohere_api_llm()\n",
        "    \n",
        "llm"
      ]
    },
    {
      "cell_type": "code",
      "execution_count": 13,
      "metadata": {},
      "outputs": [
        {
          "data": {
            "text/plain": [
              "AIMessage(content='Hello! How can I help you today?', additional_kwargs={'documents': None, 'citations': None, 'search_results': None, 'search_queries': None, 'is_search_required': None, 'generation_id': '7614c8a9-de6f-445b-860f-fe487b0afa16', 'token_count': {'input_tokens': 71, 'output_tokens': 9}}, response_metadata={'documents': None, 'citations': None, 'search_results': None, 'search_queries': None, 'is_search_required': None, 'generation_id': '7614c8a9-de6f-445b-860f-fe487b0afa16', 'token_count': {'input_tokens': 71, 'output_tokens': 9}}, id='run-9a768896-7db1-46d9-bad3-7dc27af2aa1c-0')"
            ]
          },
          "execution_count": 13,
          "metadata": {},
          "output_type": "execute_result"
        }
      ],
      "source": [
        "llm.invoke(\"Hi\")"
      ]
    },
    {
      "cell_type": "code",
      "execution_count": 24,
      "metadata": {
        "colab": {
          "base_uri": "https://localhost:8080/"
        },
        "id": "_0ySJ4wyv78o",
        "outputId": "ca910516-7310-4ccb-8e57-c0bdfa3d5a85"
      },
      "outputs": [
        {
          "data": {
            "text/plain": [
              "AIMessage(content='Hello! How can I assist you today?', response_metadata={'id': 'msg_017VUzakc4UbQijWgNc2ieFe', 'model': 'claude-3-opus-20240229', 'stop_reason': 'end_turn', 'stop_sequence': None, 'usage': {'input_tokens': 8, 'output_tokens': 12}}, id='run-9b6816f6-b5df-4949-87c2-e9ef1577ea7b-0')"
            ]
          },
          "execution_count": 24,
          "metadata": {},
          "output_type": "execute_result"
        }
      ],
      "source": [
        "llm.invoke(\"Hi\")"
      ]
    },
    {
      "cell_type": "markdown",
      "metadata": {
        "id": "d4SU2uzJoijz"
      },
      "source": [
        "## Create LangChain pipeline"
      ]
    },
    {
      "cell_type": "code",
      "execution_count": 38,
      "metadata": {
        "id": "GNPL6u4EkAW3"
      },
      "outputs": [],
      "source": [
        "review_template_str = \"\"\"\n",
        "Your job is to use Google Map restaurants and bars reviews to help people find best places to go for a meal or a drink.\n",
        "Use the following information and reviews to answer the questions.\n",
        "If you don't know an answer based on the context, say you don't know. Answer context:\n",
        "{context}\n",
        "\"\"\"\n",
        "## \"\"\"\n",
        "# If you don't know an answer based on the context, say you don't know, and\n",
        "# if the context is not about restaurants, then kindly tell them that  you can\n",
        "# only provide assistance and answer questions related to restaurants.\n",
        "##\"\"\"\n",
        "\n",
        "review_system_prompt = SystemMessagePromptTemplate(\n",
        "    prompt=PromptTemplate(\n",
        "        input_variables=[\"context\"], template=review_template_str\n",
        "    )\n",
        ")\n",
        "\n",
        "review_human_prompt = HumanMessagePromptTemplate(\n",
        "    prompt=PromptTemplate(input_variables=[\"question\"], template=\"{question}\")\n",
        ")\n",
        "messages = [review_system_prompt, review_human_prompt]\n",
        "\n",
        "review_prompt_template = ChatPromptTemplate(\n",
        "    input_variables=[\"context\", \"question\"], messages=messages\n",
        ")\n",
        "\n",
        "FAISS_REVIEWS_PATH_EUCLIDEAN = \"faiss_index_euclidean\"\n",
        "FAISS_REVIEWS_PATH = FAISS_REVIEWS_PATH_EUCLIDEAN\n",
        "vector_db = FAISS.load_local(folder_path=FAISS_REVIEWS_PATH,\n",
        "                             embeddings=embedding_model,\n",
        "                             index_name=FAISS_INDEX_NAME)\n",
        "reviews_retriever = vector_db.as_retriever(search_kwargs={'k': 20,\n",
        "                                                        #   'fetch_k': 50,\n",
        "                                                          })\n",
        "\n",
        "review_chain = (\n",
        "    {\"context\": reviews_retriever, \"question\": RunnablePassthrough()}\n",
        "    | review_prompt_template\n",
        "    | llm\n",
        "    | StrOutputParser()\n",
        ")"
      ]
    },
    {
      "cell_type": "code",
      "execution_count": 39,
      "metadata": {},
      "outputs": [
        {
          "ename": "AssertionError",
          "evalue": "",
          "output_type": "error",
          "traceback": [
            "\u001b[1;31m---------------------------------------------------------------------------\u001b[0m",
            "\u001b[1;31mAssertionError\u001b[0m                            Traceback (most recent call last)",
            "Cell \u001b[1;32mIn[39], line 2\u001b[0m\n\u001b[0;32m      1\u001b[0m question \u001b[38;5;241m=\u001b[39m \u001b[38;5;124m\"\"\"\u001b[39m\u001b[38;5;124mWhere can I find delicious pizzas?\u001b[39m\u001b[38;5;124m\"\"\"\u001b[39m\n\u001b[1;32m----> 2\u001b[0m \u001b[38;5;28mprint\u001b[39m(\u001b[43mreview_chain\u001b[49m\u001b[38;5;241;43m.\u001b[39;49m\u001b[43minvoke\u001b[49m\u001b[43m(\u001b[49m\u001b[43mquestion\u001b[49m\u001b[43m)\u001b[49m)\n",
            "File \u001b[1;32mc:\\Users\\mehra\\mehran\\dltorch\\RestoRecommender\\venv\\lib\\site-packages\\langchain_core\\runnables\\base.py:2393\u001b[0m, in \u001b[0;36mRunnableSequence.invoke\u001b[1;34m(self, input, config)\u001b[0m\n\u001b[0;32m   2391\u001b[0m \u001b[38;5;28;01mtry\u001b[39;00m:\n\u001b[0;32m   2392\u001b[0m     \u001b[38;5;28;01mfor\u001b[39;00m i, step \u001b[38;5;129;01min\u001b[39;00m \u001b[38;5;28menumerate\u001b[39m(\u001b[38;5;28mself\u001b[39m\u001b[38;5;241m.\u001b[39msteps):\n\u001b[1;32m-> 2393\u001b[0m         \u001b[38;5;28minput\u001b[39m \u001b[38;5;241m=\u001b[39m \u001b[43mstep\u001b[49m\u001b[38;5;241;43m.\u001b[39;49m\u001b[43minvoke\u001b[49m\u001b[43m(\u001b[49m\n\u001b[0;32m   2394\u001b[0m \u001b[43m            \u001b[49m\u001b[38;5;28;43minput\u001b[39;49m\u001b[43m,\u001b[49m\n\u001b[0;32m   2395\u001b[0m \u001b[43m            \u001b[49m\u001b[38;5;66;43;03m# mark each step as a child run\u001b[39;49;00m\n\u001b[0;32m   2396\u001b[0m \u001b[43m            \u001b[49m\u001b[43mpatch_config\u001b[49m\u001b[43m(\u001b[49m\n\u001b[0;32m   2397\u001b[0m \u001b[43m                \u001b[49m\u001b[43mconfig\u001b[49m\u001b[43m,\u001b[49m\u001b[43m \u001b[49m\u001b[43mcallbacks\u001b[49m\u001b[38;5;241;43m=\u001b[39;49m\u001b[43mrun_manager\u001b[49m\u001b[38;5;241;43m.\u001b[39;49m\u001b[43mget_child\u001b[49m\u001b[43m(\u001b[49m\u001b[38;5;124;43mf\u001b[39;49m\u001b[38;5;124;43m\"\u001b[39;49m\u001b[38;5;124;43mseq:step:\u001b[39;49m\u001b[38;5;132;43;01m{\u001b[39;49;00m\u001b[43mi\u001b[49m\u001b[38;5;241;43m+\u001b[39;49m\u001b[38;5;241;43m1\u001b[39;49m\u001b[38;5;132;43;01m}\u001b[39;49;00m\u001b[38;5;124;43m\"\u001b[39;49m\u001b[43m)\u001b[49m\n\u001b[0;32m   2398\u001b[0m \u001b[43m            \u001b[49m\u001b[43m)\u001b[49m\u001b[43m,\u001b[49m\n\u001b[0;32m   2399\u001b[0m \u001b[43m        \u001b[49m\u001b[43m)\u001b[49m\n\u001b[0;32m   2400\u001b[0m \u001b[38;5;66;03m# finish the root run\u001b[39;00m\n\u001b[0;32m   2401\u001b[0m \u001b[38;5;28;01mexcept\u001b[39;00m \u001b[38;5;167;01mBaseException\u001b[39;00m \u001b[38;5;28;01mas\u001b[39;00m e:\n",
            "File \u001b[1;32mc:\\Users\\mehra\\mehran\\dltorch\\RestoRecommender\\venv\\lib\\site-packages\\langchain_core\\runnables\\base.py:3036\u001b[0m, in \u001b[0;36mRunnableParallel.invoke\u001b[1;34m(self, input, config)\u001b[0m\n\u001b[0;32m   3023\u001b[0m     \u001b[38;5;28;01mwith\u001b[39;00m get_executor_for_config(config) \u001b[38;5;28;01mas\u001b[39;00m executor:\n\u001b[0;32m   3024\u001b[0m         futures \u001b[38;5;241m=\u001b[39m [\n\u001b[0;32m   3025\u001b[0m             executor\u001b[38;5;241m.\u001b[39msubmit(\n\u001b[0;32m   3026\u001b[0m                 step\u001b[38;5;241m.\u001b[39minvoke,\n\u001b[1;32m   (...)\u001b[0m\n\u001b[0;32m   3034\u001b[0m             \u001b[38;5;28;01mfor\u001b[39;00m key, step \u001b[38;5;129;01min\u001b[39;00m steps\u001b[38;5;241m.\u001b[39mitems()\n\u001b[0;32m   3035\u001b[0m         ]\n\u001b[1;32m-> 3036\u001b[0m         output \u001b[38;5;241m=\u001b[39m {key: future\u001b[38;5;241m.\u001b[39mresult() \u001b[38;5;28;01mfor\u001b[39;00m key, future \u001b[38;5;129;01min\u001b[39;00m \u001b[38;5;28mzip\u001b[39m(steps, futures)}\n\u001b[0;32m   3037\u001b[0m \u001b[38;5;66;03m# finish the root run\u001b[39;00m\n\u001b[0;32m   3038\u001b[0m \u001b[38;5;28;01mexcept\u001b[39;00m \u001b[38;5;167;01mBaseException\u001b[39;00m \u001b[38;5;28;01mas\u001b[39;00m e:\n",
            "File \u001b[1;32mc:\\Users\\mehra\\mehran\\dltorch\\RestoRecommender\\venv\\lib\\site-packages\\langchain_core\\runnables\\base.py:3036\u001b[0m, in \u001b[0;36m<dictcomp>\u001b[1;34m(.0)\u001b[0m\n\u001b[0;32m   3023\u001b[0m     \u001b[38;5;28;01mwith\u001b[39;00m get_executor_for_config(config) \u001b[38;5;28;01mas\u001b[39;00m executor:\n\u001b[0;32m   3024\u001b[0m         futures \u001b[38;5;241m=\u001b[39m [\n\u001b[0;32m   3025\u001b[0m             executor\u001b[38;5;241m.\u001b[39msubmit(\n\u001b[0;32m   3026\u001b[0m                 step\u001b[38;5;241m.\u001b[39minvoke,\n\u001b[1;32m   (...)\u001b[0m\n\u001b[0;32m   3034\u001b[0m             \u001b[38;5;28;01mfor\u001b[39;00m key, step \u001b[38;5;129;01min\u001b[39;00m steps\u001b[38;5;241m.\u001b[39mitems()\n\u001b[0;32m   3035\u001b[0m         ]\n\u001b[1;32m-> 3036\u001b[0m         output \u001b[38;5;241m=\u001b[39m {key: \u001b[43mfuture\u001b[49m\u001b[38;5;241;43m.\u001b[39;49m\u001b[43mresult\u001b[49m\u001b[43m(\u001b[49m\u001b[43m)\u001b[49m \u001b[38;5;28;01mfor\u001b[39;00m key, future \u001b[38;5;129;01min\u001b[39;00m \u001b[38;5;28mzip\u001b[39m(steps, futures)}\n\u001b[0;32m   3037\u001b[0m \u001b[38;5;66;03m# finish the root run\u001b[39;00m\n\u001b[0;32m   3038\u001b[0m \u001b[38;5;28;01mexcept\u001b[39;00m \u001b[38;5;167;01mBaseException\u001b[39;00m \u001b[38;5;28;01mas\u001b[39;00m e:\n",
            "File \u001b[1;32m~\\.pyenv\\pyenv-win\\versions\\3.10.8\\lib\\concurrent\\futures\\_base.py:458\u001b[0m, in \u001b[0;36mFuture.result\u001b[1;34m(self, timeout)\u001b[0m\n\u001b[0;32m    456\u001b[0m     \u001b[38;5;28;01mraise\u001b[39;00m CancelledError()\n\u001b[0;32m    457\u001b[0m \u001b[38;5;28;01melif\u001b[39;00m \u001b[38;5;28mself\u001b[39m\u001b[38;5;241m.\u001b[39m_state \u001b[38;5;241m==\u001b[39m FINISHED:\n\u001b[1;32m--> 458\u001b[0m     \u001b[38;5;28;01mreturn\u001b[39;00m \u001b[38;5;28;43mself\u001b[39;49m\u001b[38;5;241;43m.\u001b[39;49m\u001b[43m__get_result\u001b[49m\u001b[43m(\u001b[49m\u001b[43m)\u001b[49m\n\u001b[0;32m    459\u001b[0m \u001b[38;5;28;01melse\u001b[39;00m:\n\u001b[0;32m    460\u001b[0m     \u001b[38;5;28;01mraise\u001b[39;00m \u001b[38;5;167;01mTimeoutError\u001b[39;00m()\n",
            "File \u001b[1;32m~\\.pyenv\\pyenv-win\\versions\\3.10.8\\lib\\concurrent\\futures\\_base.py:403\u001b[0m, in \u001b[0;36mFuture.__get_result\u001b[1;34m(self)\u001b[0m\n\u001b[0;32m    401\u001b[0m \u001b[38;5;28;01mif\u001b[39;00m \u001b[38;5;28mself\u001b[39m\u001b[38;5;241m.\u001b[39m_exception:\n\u001b[0;32m    402\u001b[0m     \u001b[38;5;28;01mtry\u001b[39;00m:\n\u001b[1;32m--> 403\u001b[0m         \u001b[38;5;28;01mraise\u001b[39;00m \u001b[38;5;28mself\u001b[39m\u001b[38;5;241m.\u001b[39m_exception\n\u001b[0;32m    404\u001b[0m     \u001b[38;5;28;01mfinally\u001b[39;00m:\n\u001b[0;32m    405\u001b[0m         \u001b[38;5;66;03m# Break a reference cycle with the exception in self._exception\u001b[39;00m\n\u001b[0;32m    406\u001b[0m         \u001b[38;5;28mself\u001b[39m \u001b[38;5;241m=\u001b[39m \u001b[38;5;28;01mNone\u001b[39;00m\n",
            "File \u001b[1;32m~\\.pyenv\\pyenv-win\\versions\\3.10.8\\lib\\concurrent\\futures\\thread.py:58\u001b[0m, in \u001b[0;36m_WorkItem.run\u001b[1;34m(self)\u001b[0m\n\u001b[0;32m     55\u001b[0m     \u001b[38;5;28;01mreturn\u001b[39;00m\n\u001b[0;32m     57\u001b[0m \u001b[38;5;28;01mtry\u001b[39;00m:\n\u001b[1;32m---> 58\u001b[0m     result \u001b[38;5;241m=\u001b[39m \u001b[38;5;28mself\u001b[39m\u001b[38;5;241m.\u001b[39mfn(\u001b[38;5;241m*\u001b[39m\u001b[38;5;28mself\u001b[39m\u001b[38;5;241m.\u001b[39margs, \u001b[38;5;241m*\u001b[39m\u001b[38;5;241m*\u001b[39m\u001b[38;5;28mself\u001b[39m\u001b[38;5;241m.\u001b[39mkwargs)\n\u001b[0;32m     59\u001b[0m \u001b[38;5;28;01mexcept\u001b[39;00m \u001b[38;5;167;01mBaseException\u001b[39;00m \u001b[38;5;28;01mas\u001b[39;00m exc:\n\u001b[0;32m     60\u001b[0m     \u001b[38;5;28mself\u001b[39m\u001b[38;5;241m.\u001b[39mfuture\u001b[38;5;241m.\u001b[39mset_exception(exc)\n",
            "File \u001b[1;32mc:\\Users\\mehra\\mehran\\dltorch\\RestoRecommender\\venv\\lib\\site-packages\\langchain_core\\retrievers.py:194\u001b[0m, in \u001b[0;36mBaseRetriever.invoke\u001b[1;34m(self, input, config, **kwargs)\u001b[0m\n\u001b[0;32m    175\u001b[0m \u001b[38;5;250m\u001b[39m\u001b[38;5;124;03m\"\"\"Invoke the retriever to get relevant documents.\u001b[39;00m\n\u001b[0;32m    176\u001b[0m \n\u001b[0;32m    177\u001b[0m \u001b[38;5;124;03mMain entry point for synchronous retriever invocations.\u001b[39;00m\n\u001b[1;32m   (...)\u001b[0m\n\u001b[0;32m    191\u001b[0m \u001b[38;5;124;03m    retriever.invoke(\"query\")\u001b[39;00m\n\u001b[0;32m    192\u001b[0m \u001b[38;5;124;03m\"\"\"\u001b[39;00m\n\u001b[0;32m    193\u001b[0m config \u001b[38;5;241m=\u001b[39m ensure_config(config)\n\u001b[1;32m--> 194\u001b[0m \u001b[38;5;28;01mreturn\u001b[39;00m \u001b[38;5;28mself\u001b[39m\u001b[38;5;241m.\u001b[39mget_relevant_documents(\n\u001b[0;32m    195\u001b[0m     \u001b[38;5;28minput\u001b[39m,\n\u001b[0;32m    196\u001b[0m     callbacks\u001b[38;5;241m=\u001b[39mconfig\u001b[38;5;241m.\u001b[39mget(\u001b[38;5;124m\"\u001b[39m\u001b[38;5;124mcallbacks\u001b[39m\u001b[38;5;124m\"\u001b[39m),\n\u001b[0;32m    197\u001b[0m     tags\u001b[38;5;241m=\u001b[39mconfig\u001b[38;5;241m.\u001b[39mget(\u001b[38;5;124m\"\u001b[39m\u001b[38;5;124mtags\u001b[39m\u001b[38;5;124m\"\u001b[39m),\n\u001b[0;32m    198\u001b[0m     metadata\u001b[38;5;241m=\u001b[39mconfig\u001b[38;5;241m.\u001b[39mget(\u001b[38;5;124m\"\u001b[39m\u001b[38;5;124mmetadata\u001b[39m\u001b[38;5;124m\"\u001b[39m),\n\u001b[0;32m    199\u001b[0m     run_name\u001b[38;5;241m=\u001b[39mconfig\u001b[38;5;241m.\u001b[39mget(\u001b[38;5;124m\"\u001b[39m\u001b[38;5;124mrun_name\u001b[39m\u001b[38;5;124m\"\u001b[39m),\n\u001b[0;32m    200\u001b[0m     \u001b[38;5;241m*\u001b[39m\u001b[38;5;241m*\u001b[39mkwargs,\n\u001b[0;32m    201\u001b[0m )\n",
            "File \u001b[1;32mc:\\Users\\mehra\\mehran\\dltorch\\RestoRecommender\\venv\\lib\\site-packages\\langchain_core\\_api\\deprecation.py:148\u001b[0m, in \u001b[0;36mdeprecated.<locals>.deprecate.<locals>.warning_emitting_wrapper\u001b[1;34m(*args, **kwargs)\u001b[0m\n\u001b[0;32m    146\u001b[0m     warned \u001b[38;5;241m=\u001b[39m \u001b[38;5;28;01mTrue\u001b[39;00m\n\u001b[0;32m    147\u001b[0m     emit_warning()\n\u001b[1;32m--> 148\u001b[0m \u001b[38;5;28;01mreturn\u001b[39;00m wrapped(\u001b[38;5;241m*\u001b[39margs, \u001b[38;5;241m*\u001b[39m\u001b[38;5;241m*\u001b[39mkwargs)\n",
            "File \u001b[1;32mc:\\Users\\mehra\\mehran\\dltorch\\RestoRecommender\\venv\\lib\\site-packages\\langchain_core\\retrievers.py:323\u001b[0m, in \u001b[0;36mBaseRetriever.get_relevant_documents\u001b[1;34m(self, query, callbacks, tags, metadata, run_name, **kwargs)\u001b[0m\n\u001b[0;32m    321\u001b[0m \u001b[38;5;28;01mexcept\u001b[39;00m \u001b[38;5;167;01mException\u001b[39;00m \u001b[38;5;28;01mas\u001b[39;00m e:\n\u001b[0;32m    322\u001b[0m     run_manager\u001b[38;5;241m.\u001b[39mon_retriever_error(e)\n\u001b[1;32m--> 323\u001b[0m     \u001b[38;5;28;01mraise\u001b[39;00m e\n\u001b[0;32m    324\u001b[0m \u001b[38;5;28;01melse\u001b[39;00m:\n\u001b[0;32m    325\u001b[0m     run_manager\u001b[38;5;241m.\u001b[39mon_retriever_end(\n\u001b[0;32m    326\u001b[0m         result,\n\u001b[0;32m    327\u001b[0m     )\n",
            "File \u001b[1;32mc:\\Users\\mehra\\mehran\\dltorch\\RestoRecommender\\venv\\lib\\site-packages\\langchain_core\\retrievers.py:316\u001b[0m, in \u001b[0;36mBaseRetriever.get_relevant_documents\u001b[1;34m(self, query, callbacks, tags, metadata, run_name, **kwargs)\u001b[0m\n\u001b[0;32m    314\u001b[0m _kwargs \u001b[38;5;241m=\u001b[39m kwargs \u001b[38;5;28;01mif\u001b[39;00m \u001b[38;5;28mself\u001b[39m\u001b[38;5;241m.\u001b[39m_expects_other_args \u001b[38;5;28;01melse\u001b[39;00m {}\n\u001b[0;32m    315\u001b[0m \u001b[38;5;28;01mif\u001b[39;00m \u001b[38;5;28mself\u001b[39m\u001b[38;5;241m.\u001b[39m_new_arg_supported:\n\u001b[1;32m--> 316\u001b[0m     result \u001b[38;5;241m=\u001b[39m \u001b[38;5;28mself\u001b[39m\u001b[38;5;241m.\u001b[39m_get_relevant_documents(\n\u001b[0;32m    317\u001b[0m         query, run_manager\u001b[38;5;241m=\u001b[39mrun_manager, \u001b[38;5;241m*\u001b[39m\u001b[38;5;241m*\u001b[39m_kwargs\n\u001b[0;32m    318\u001b[0m     )\n\u001b[0;32m    319\u001b[0m \u001b[38;5;28;01melse\u001b[39;00m:\n\u001b[0;32m    320\u001b[0m     result \u001b[38;5;241m=\u001b[39m \u001b[38;5;28mself\u001b[39m\u001b[38;5;241m.\u001b[39m_get_relevant_documents(query, \u001b[38;5;241m*\u001b[39m\u001b[38;5;241m*\u001b[39m_kwargs)\n",
            "File \u001b[1;32mc:\\Users\\mehra\\mehran\\dltorch\\RestoRecommender\\venv\\lib\\site-packages\\langchain_core\\vectorstores.py:696\u001b[0m, in \u001b[0;36mVectorStoreRetriever._get_relevant_documents\u001b[1;34m(self, query, run_manager)\u001b[0m\n\u001b[0;32m    692\u001b[0m \u001b[38;5;28;01mdef\u001b[39;00m \u001b[38;5;21m_get_relevant_documents\u001b[39m(\n\u001b[0;32m    693\u001b[0m     \u001b[38;5;28mself\u001b[39m, query: \u001b[38;5;28mstr\u001b[39m, \u001b[38;5;241m*\u001b[39m, run_manager: CallbackManagerForRetrieverRun\n\u001b[0;32m    694\u001b[0m ) \u001b[38;5;241m-\u001b[39m\u001b[38;5;241m>\u001b[39m List[Document]:\n\u001b[0;32m    695\u001b[0m     \u001b[38;5;28;01mif\u001b[39;00m \u001b[38;5;28mself\u001b[39m\u001b[38;5;241m.\u001b[39msearch_type \u001b[38;5;241m==\u001b[39m \u001b[38;5;124m\"\u001b[39m\u001b[38;5;124msimilarity\u001b[39m\u001b[38;5;124m\"\u001b[39m:\n\u001b[1;32m--> 696\u001b[0m         docs \u001b[38;5;241m=\u001b[39m \u001b[38;5;28mself\u001b[39m\u001b[38;5;241m.\u001b[39mvectorstore\u001b[38;5;241m.\u001b[39msimilarity_search(query, \u001b[38;5;241m*\u001b[39m\u001b[38;5;241m*\u001b[39m\u001b[38;5;28mself\u001b[39m\u001b[38;5;241m.\u001b[39msearch_kwargs)\n\u001b[0;32m    697\u001b[0m     \u001b[38;5;28;01melif\u001b[39;00m \u001b[38;5;28mself\u001b[39m\u001b[38;5;241m.\u001b[39msearch_type \u001b[38;5;241m==\u001b[39m \u001b[38;5;124m\"\u001b[39m\u001b[38;5;124msimilarity_score_threshold\u001b[39m\u001b[38;5;124m\"\u001b[39m:\n\u001b[0;32m    698\u001b[0m         docs_and_similarities \u001b[38;5;241m=\u001b[39m (\n\u001b[0;32m    699\u001b[0m             \u001b[38;5;28mself\u001b[39m\u001b[38;5;241m.\u001b[39mvectorstore\u001b[38;5;241m.\u001b[39msimilarity_search_with_relevance_scores(\n\u001b[0;32m    700\u001b[0m                 query, \u001b[38;5;241m*\u001b[39m\u001b[38;5;241m*\u001b[39m\u001b[38;5;28mself\u001b[39m\u001b[38;5;241m.\u001b[39msearch_kwargs\n\u001b[0;32m    701\u001b[0m             )\n\u001b[0;32m    702\u001b[0m         )\n",
            "File \u001b[1;32mc:\\Users\\mehra\\mehran\\dltorch\\RestoRecommender\\venv\\lib\\site-packages\\langchain_community\\vectorstores\\faiss.py:511\u001b[0m, in \u001b[0;36mFAISS.similarity_search\u001b[1;34m(self, query, k, filter, fetch_k, **kwargs)\u001b[0m\n\u001b[0;32m    491\u001b[0m \u001b[38;5;28;01mdef\u001b[39;00m \u001b[38;5;21msimilarity_search\u001b[39m(\n\u001b[0;32m    492\u001b[0m     \u001b[38;5;28mself\u001b[39m,\n\u001b[0;32m    493\u001b[0m     query: \u001b[38;5;28mstr\u001b[39m,\n\u001b[1;32m   (...)\u001b[0m\n\u001b[0;32m    497\u001b[0m     \u001b[38;5;241m*\u001b[39m\u001b[38;5;241m*\u001b[39mkwargs: Any,\n\u001b[0;32m    498\u001b[0m ) \u001b[38;5;241m-\u001b[39m\u001b[38;5;241m>\u001b[39m List[Document]:\n\u001b[0;32m    499\u001b[0m \u001b[38;5;250m    \u001b[39m\u001b[38;5;124;03m\"\"\"Return docs most similar to query.\u001b[39;00m\n\u001b[0;32m    500\u001b[0m \n\u001b[0;32m    501\u001b[0m \u001b[38;5;124;03m    Args:\u001b[39;00m\n\u001b[1;32m   (...)\u001b[0m\n\u001b[0;32m    509\u001b[0m \u001b[38;5;124;03m        List of Documents most similar to the query.\u001b[39;00m\n\u001b[0;32m    510\u001b[0m \u001b[38;5;124;03m    \"\"\"\u001b[39;00m\n\u001b[1;32m--> 511\u001b[0m     docs_and_scores \u001b[38;5;241m=\u001b[39m \u001b[38;5;28mself\u001b[39m\u001b[38;5;241m.\u001b[39msimilarity_search_with_score(\n\u001b[0;32m    512\u001b[0m         query, k, \u001b[38;5;28mfilter\u001b[39m\u001b[38;5;241m=\u001b[39m\u001b[38;5;28mfilter\u001b[39m, fetch_k\u001b[38;5;241m=\u001b[39mfetch_k, \u001b[38;5;241m*\u001b[39m\u001b[38;5;241m*\u001b[39mkwargs\n\u001b[0;32m    513\u001b[0m     )\n\u001b[0;32m    514\u001b[0m     \u001b[38;5;28;01mreturn\u001b[39;00m [doc \u001b[38;5;28;01mfor\u001b[39;00m doc, _ \u001b[38;5;129;01min\u001b[39;00m docs_and_scores]\n",
            "File \u001b[1;32mc:\\Users\\mehra\\mehran\\dltorch\\RestoRecommender\\venv\\lib\\site-packages\\langchain_community\\vectorstores\\faiss.py:393\u001b[0m, in \u001b[0;36mFAISS.similarity_search_with_score\u001b[1;34m(self, query, k, filter, fetch_k, **kwargs)\u001b[0m\n\u001b[0;32m    379\u001b[0m \u001b[38;5;250m\u001b[39m\u001b[38;5;124;03m\"\"\"Return docs most similar to query.\u001b[39;00m\n\u001b[0;32m    380\u001b[0m \n\u001b[0;32m    381\u001b[0m \u001b[38;5;124;03mArgs:\u001b[39;00m\n\u001b[1;32m   (...)\u001b[0m\n\u001b[0;32m    390\u001b[0m \u001b[38;5;124;03m    L2 distance in float. Lower score represents more similarity.\u001b[39;00m\n\u001b[0;32m    391\u001b[0m \u001b[38;5;124;03m\"\"\"\u001b[39;00m\n\u001b[0;32m    392\u001b[0m embedding \u001b[38;5;241m=\u001b[39m \u001b[38;5;28mself\u001b[39m\u001b[38;5;241m.\u001b[39m_embed_query(query)\n\u001b[1;32m--> 393\u001b[0m docs \u001b[38;5;241m=\u001b[39m \u001b[38;5;28mself\u001b[39m\u001b[38;5;241m.\u001b[39msimilarity_search_with_score_by_vector(\n\u001b[0;32m    394\u001b[0m     embedding,\n\u001b[0;32m    395\u001b[0m     k,\n\u001b[0;32m    396\u001b[0m     \u001b[38;5;28mfilter\u001b[39m\u001b[38;5;241m=\u001b[39m\u001b[38;5;28mfilter\u001b[39m,\n\u001b[0;32m    397\u001b[0m     fetch_k\u001b[38;5;241m=\u001b[39mfetch_k,\n\u001b[0;32m    398\u001b[0m     \u001b[38;5;241m*\u001b[39m\u001b[38;5;241m*\u001b[39mkwargs,\n\u001b[0;32m    399\u001b[0m )\n\u001b[0;32m    400\u001b[0m \u001b[38;5;28;01mreturn\u001b[39;00m docs\n",
            "File \u001b[1;32mc:\\Users\\mehra\\mehran\\dltorch\\RestoRecommender\\venv\\lib\\site-packages\\langchain_community\\vectorstores\\faiss.py:300\u001b[0m, in \u001b[0;36mFAISS.similarity_search_with_score_by_vector\u001b[1;34m(self, embedding, k, filter, fetch_k, **kwargs)\u001b[0m\n\u001b[0;32m    298\u001b[0m \u001b[38;5;28;01mif\u001b[39;00m \u001b[38;5;28mself\u001b[39m\u001b[38;5;241m.\u001b[39m_normalize_L2:\n\u001b[0;32m    299\u001b[0m     faiss\u001b[38;5;241m.\u001b[39mnormalize_L2(vector)\n\u001b[1;32m--> 300\u001b[0m scores, indices \u001b[38;5;241m=\u001b[39m \u001b[38;5;28;43mself\u001b[39;49m\u001b[38;5;241;43m.\u001b[39;49m\u001b[43mindex\u001b[49m\u001b[38;5;241;43m.\u001b[39;49m\u001b[43msearch\u001b[49m\u001b[43m(\u001b[49m\u001b[43mvector\u001b[49m\u001b[43m,\u001b[49m\u001b[43m \u001b[49m\u001b[43mk\u001b[49m\u001b[43m \u001b[49m\u001b[38;5;28;43;01mif\u001b[39;49;00m\u001b[43m \u001b[49m\u001b[38;5;28;43mfilter\u001b[39;49m\u001b[43m \u001b[49m\u001b[38;5;129;43;01mis\u001b[39;49;00m\u001b[43m \u001b[49m\u001b[38;5;28;43;01mNone\u001b[39;49;00m\u001b[43m \u001b[49m\u001b[38;5;28;43;01melse\u001b[39;49;00m\u001b[43m \u001b[49m\u001b[43mfetch_k\u001b[49m\u001b[43m)\u001b[49m\n\u001b[0;32m    301\u001b[0m docs \u001b[38;5;241m=\u001b[39m []\n\u001b[0;32m    302\u001b[0m \u001b[38;5;28;01mfor\u001b[39;00m j, i \u001b[38;5;129;01min\u001b[39;00m \u001b[38;5;28menumerate\u001b[39m(indices[\u001b[38;5;241m0\u001b[39m]):\n",
            "File \u001b[1;32mc:\\Users\\mehra\\mehran\\dltorch\\RestoRecommender\\venv\\lib\\site-packages\\faiss\\class_wrappers.py:329\u001b[0m, in \u001b[0;36mhandle_Index.<locals>.replacement_search\u001b[1;34m(self, x, k, params, D, I)\u001b[0m\n\u001b[0;32m    327\u001b[0m n, d \u001b[38;5;241m=\u001b[39m x\u001b[38;5;241m.\u001b[39mshape\n\u001b[0;32m    328\u001b[0m x \u001b[38;5;241m=\u001b[39m np\u001b[38;5;241m.\u001b[39mascontiguousarray(x, dtype\u001b[38;5;241m=\u001b[39m\u001b[38;5;124m'\u001b[39m\u001b[38;5;124mfloat32\u001b[39m\u001b[38;5;124m'\u001b[39m)\n\u001b[1;32m--> 329\u001b[0m \u001b[38;5;28;01massert\u001b[39;00m d \u001b[38;5;241m==\u001b[39m \u001b[38;5;28mself\u001b[39m\u001b[38;5;241m.\u001b[39md\n\u001b[0;32m    331\u001b[0m \u001b[38;5;28;01massert\u001b[39;00m k \u001b[38;5;241m>\u001b[39m \u001b[38;5;241m0\u001b[39m\n\u001b[0;32m    333\u001b[0m \u001b[38;5;28;01mif\u001b[39;00m D \u001b[38;5;129;01mis\u001b[39;00m \u001b[38;5;28;01mNone\u001b[39;00m:\n",
            "\u001b[1;31mAssertionError\u001b[0m: "
          ]
        }
      ],
      "source": [
        "question = \"\"\"Where can I find delicious pizzas?\"\"\"\n",
        "print(review_chain.invoke(question))"
      ]
    },
    {
      "cell_type": "code",
      "execution_count": 19,
      "metadata": {
        "colab": {
          "base_uri": "https://localhost:8080/"
        },
        "id": "32GruWzvuWnM",
        "outputId": "b53bc31b-0755-4fe6-99ce-5539fccb8b05"
      },
      "outputs": [
        {
          "name": "stdout",
          "output_type": "stream",
          "text": [
            "Based on the reviews, several places in Padua, Italy are mentioned as having great pizza:\n",
            "\n",
            "1. Enoteca Barcollo - The review says they have \"THE BEST PIZZA I HAVE TASTED IN RECENT YEARS\" with quality ingredients and perfectly balanced crust. \n",
            "\n",
            "2. Fastdrink24 - One review says \"If you are looking for a place to eat good pizza, search no more. This is the right place to be.\" However, another calls it \"The worst pizza worldwide\", so opinions seem mixed.\n",
            "\n",
            "3. iDon Padova - A review states it has \"One of the best pizza I had\" and another recommends to \"Go for a pizza\".\n",
            "\n",
            "4. Ristorante Napoli Centrale - The pizza here is described as \"Magnificent\" and the review mentions the meal was very tasty.\n",
            "\n",
            "5. Villa Italia - A review claims they had dinner here and \"it is the best pizza I've had in 5 years.\"\n",
            "\n",
            "So in summary, Enoteca Barcollo, iDon Padova, Ristorante Napoli Centrale and Villa Italia seem to be top choices for delicious pizza in Padua based on these reviews, with Fastdrink24 getting mixed opinions.\n"
          ]
        }
      ],
      "source": [
        "question = \"\"\"Where can I find delicious pizzas?\"\"\"\n",
        "print(review_chain.invoke(question))"
      ]
    },
    {
      "cell_type": "code",
      "execution_count": 31,
      "metadata": {
        "colab": {
          "base_uri": "https://localhost:8080/"
        },
        "id": "LzzRDTT6tTrt",
        "outputId": "2ea12f61-646e-45fb-839c-595749536e43"
      },
      "outputs": [
        {
          "name": "stdout",
          "output_type": "stream",
          "text": [
            "Based on the reviews, Enoteca Barcollo seems to have the best pizza in Padua. Here are the pros and cons mentioned:\n",
            "\n",
            "Pros:\n",
            "- Has the best pizza the reviewer has tasted in recent years\n",
            "- Quality ingredients used for the pizza toppings\n",
            "- Wholemeal pizza dough that is perfectly balanced in terms of crunchiness, thickness and flavor\n",
            "- Even the reviewer's girlfriend, who normally doesn't like pizza, almost wanted to order a second one\n",
            "\n",
            "Cons:\n",
            "- The pizza is not large in size \n",
            "- It costs €9, which the reviewer feels is worth it for the quality, but some may find a bit pricey\n",
            "\n",
            "Another strong contender for great pizza is La Mafaldina Pizzeria. The review praises its excellent pizzas with outstanding quality ingredients, calling it one of the best pizzerias in Padua. The only con mentioned is the limited topping choices for customizing pizzas.\n"
          ]
        }
      ],
      "source": [
        "question = \"\"\"What are the pros and cons of the best pizza restaurant in the city?\"\"\"\n",
        "print(review_chain.invoke(question))\n",
        "\n",
        "# {\"context\": reviews_retriever, \"question\": RunnablePassthrough()}\n",
        "\n",
        "# review_prompt_template"
      ]
    },
    {
      "cell_type": "code",
      "execution_count": 65,
      "metadata": {},
      "outputs": [
        {
          "name": "stdout",
          "output_type": "stream",
          "text": [
            "messages=[SystemMessage(content='\\nYour job is to use Google Map restaurants and bars reviews to help people find best places to go for a meal or a drink.\\nUse the following information and reviews to answer the questions.\\nIf you don\\'t know an answer based on the context, say you don\\'t know. Answer context:\\n[Document(page_content=\\'place_name=Soul Kitchen\\\\nplace_address=Via del Santo, 23, 35123 Padova PD, Italy\\\\nplace_average_ratings=4.6\\\\nplace_location=nan\\\\nplace_website=nan\\\\nplace_phone_number=+39 049 664818\\\\nreview=I got a tip to eat here from a local as my need was to eat food fast.\\\\r\\\\n\\\\r\\\\nThe glass of wine was nice, the burger was fair in quality. I tried the carbonara burger. Taste experience-wise, I was not too impressed and I feel the price for the offer was on the high end (14 euro) for not including fries.\\\\r\\\\n\\\\r\\\\nThe staff was helpful and the place has a nice atmosphere.\\', metadata={\\'source\\': \\'ChIJP-ZEOlTafkcRFi8zBVerMvg\\'}), Document(page_content=\"place_name=McDonald\\'s\\\\nplace_address=Piazzale della Stazione, 5, 35131 Padova PD, Italy\\\\nplace_average_ratings=3.2\\\\nplace_location=nan\\\\nplace_website=http://www.mcdonalds.it/\\\\nplace_phone_number=+39 049 654930\\\\nreview=I would say the services and staff are nice. The place is cozy and clean and has seats to sit and enjoy your meal.\\\\r\\\\nBut I wasn\\'t satisfied with the taste of the food. I ordered a cheeseburger but honestly, it was not tasty as my experience in other McDonald\\'s around Europe, Russia, and the US.\\\\r\\\\nBefore I was thinking of visiting at least once a week, but now I just visited once and not planning to visit that much soon.\\\\r\\\\n\\\\r\\\\nSince that, I am a big fan of McDonald\\'s I always expect a better taste and products but this one was not my story of eating at McDonald\\'s.\", metadata={\\'source\\': \\'ChIJndkoTl3afkcRDto-rckMt7o\\'}), Document(page_content=\\'place_name=Bistro Mexicano\\\\nplace_address=Via dei Livello, 11, 35139 Padova PD, Italy\\\\nplace_average_ratings=4.5\\\\nplace_location=nan\\\\nplace_website=https://www.bistromexicano.com/\\\\nplace_phone_number=+39 049 875 9203\\\\nreview=The atmosphere is nice, the employees are super friendly +considerable ,and each set of food is in large amount and dilicious! The only downside is the space at second floor is a little bit smaller. Still, I will recommend the restaurant to my friends!\\', metadata={\\'source\\': \\'ChIJC628jEXafkcRb38-THnIM0E\\'}), Document(page_content=\\'place_name=Exforo\\\\nplace_address=Piazza Rabin, 10, 35123 Padova PD, Italy\\\\nplace_average_ratings=4.1\\\\nplace_location=nan\\\\nplace_website=http://www.exforo.it/\\\\nplace_phone_number=+39 340 820 6428\\\\nreview=The best: the Pratto della Valle view. Best time to go would be before the sunset for sure. To make the insta picture pays the overpriced cocktails and food that is served here. The service is really kind, always asking if everything is ok. Cocktails come with small food to eat like taralli, olives and chips. The other appetizers are super super small but good in flavour and quality.\\', metadata={\\'source\\': \\'ChIJpZZBCGXbfkcRSA80biTZAKo\\'}), Document(page_content=\\'place_name=Autogrill Limenella\\\\nplace_address=Autostrada Torino- Trieste, 4, 35100 Padova PD, Italy\\\\nplace_average_ratings=3.8\\\\nplace_location=nan\\\\nplace_website=http://autogrill.it/\\\\nplace_phone_number=+39 049 864 8057\\\\nreview=There is a new restaurant here called Old Wild West, it is not listed separately on the map, so i will write a review here. Good American style food, variety burgers, burritos, tacos. The french fries were too salty, but the rest of the food was nice, and whats most important for me, no ice in the cola, so you actually get what you pay for.\\', metadata={\\'source\\': \\'ChIJIXkQY5_rgUcRXE1-C0FCeR0\\'}), Document(page_content=\"place_name=Hamerica\\'s ghetto via dell’Arco Padova\\\\nplace_address=Via dell\\'Arco, 22/26, 35122 Padova PD, Italy\\\\nplace_average_ratings=4.2\\\\nplace_location=nan\\\\nplace_website=http://www.hamericas.com/\\\\nplace_phone_number=+39 049 875 0051\\\\nreview=Excellent experience at this hamburger restaurant! We had a small 212 burger lunch offer and a Canadian burger, both tasty and satisfying. We went on Monday so beer was 50% off which was a plus. The atmosphere is very cozy, large space with nice tables, chairs and interior. Waiter was lovely as well.\", metadata={\\'source\\': \\'ChIJtR_1yVHafkcRQmBmlJ0A8ns\\'}), Document(page_content=\"place_name=Gourmetteria\\\\nplace_address=Via Zabarella, 23, 35121 Padova PD, Italy\\\\nplace_average_ratings=4.1\\\\nplace_location=nan\\\\nplace_website=http://gourmetteria.com/\\\\nplace_phone_number=+39 049 659830\\\\nreview=I personally like very much this modern restaurant in the center of Padova.\\\\r\\\\nI think their food is first quality, they offer traditional Veneto\\' s meal but re invented under a modern view.\\\\r\\\\nThey also offer burgers and pizza, and they have different options for vegetarians.\\\\r\\\\nI think that their best meal is the duck.\\\\r\\\\nI also like the fact that you can see the kitchen.\\\\r\\\\nVery good wine selection.\\\\r\\\\nYou can also buy different food products from all Italy.\\\\r\\\\nStaff professional and friendly\\\\r\\\\nIt is an informal restaurant, it s not overprized.\\\\r\\\\nI came here with my family almost every Saturday for lunch.\\\\r\\\\nHigh recommanded\", metadata={\\'source\\': \\'ChIJ3UsowFDafkcR9WHsVtRoxeY\\'}), Document(page_content=\"place_name=Gourmetteria\\\\nplace_address=Via Zabarella, 23, 35121 Padova PD, Italy\\\\nplace_average_ratings=4.1\\\\nplace_location=nan\\\\nplace_website=http://gourmetteria.com/\\\\nplace_phone_number=+39 049 659830\\\\nreview=I personally like very much this modern restaurant in the center of Padova.\\\\r\\\\nI think their food is first quality, they offer traditional Veneto\\' s meal but re invented under a modern view.\\\\r\\\\nThey also offer burgers and pizza, and they have different options for vegetarians.\\\\r\\\\nI think that their best meal is the duck.\\\\r\\\\nI also like the fact that you can see the kitchen.\\\\r\\\\nVery good wine selection.\\\\r\\\\nYou can also buy different food products from all Italy.\\\\r\\\\nStaff professional and friendly\\\\r\\\\nIt is an informal restaurant, it s not overprized.\\\\r\\\\nI came here with my family almost every Saturday for lunch.\\\\r\\\\nHigh recommanded\", metadata={\\'source\\': \\'ChIJ3UsowFDafkcR9WHsVtRoxeY\\'}), Document(page_content=\"place_name=Gourmetteria\\\\nplace_address=Via Zabarella, 23, 35121 Padova PD, Italy\\\\nplace_average_ratings=4.1\\\\nplace_location=nan\\\\nplace_website=http://gourmetteria.com/\\\\nplace_phone_number=+39 049 659830\\\\nreview=I personally like very much this modern restaurant in the center of Padova.\\\\r\\\\nI think their food is first quality, they offer traditional Veneto\\' s meal but re invented under a modern view.\\\\r\\\\nThey also offer burgers and pizza, and they have different options for vegetarians.\\\\r\\\\nI think that their best meal is the duck.\\\\r\\\\nI also like the fact that you can see the kitchen.\\\\r\\\\nVery good wine selection.\\\\r\\\\nYou can also buy different food products from all Italy.\\\\r\\\\nStaff professional and friendly\\\\r\\\\nIt is an informal restaurant, it s not overprized.\\\\r\\\\nI came here with my family almost every Saturday for lunch.\\\\r\\\\nHigh recommanded\", metadata={\\'source\\': \\'ChIJ3UsowFDafkcR9WHsVtRoxeY\\'}), Document(page_content=\"place_name=Gourmetteria\\\\nplace_address=Via Zabarella, 23, 35121 Padova PD, Italy\\\\nplace_average_ratings=4.1\\\\nplace_location=nan\\\\nplace_website=http://gourmetteria.com/\\\\nplace_phone_number=+39 049 659830\\\\nreview=I personally like very much this modern restaurant in the center of Padova.\\\\r\\\\nI think their food is first quality, they offer traditional Veneto\\' s meal but re invented under a modern view.\\\\r\\\\nThey also offer burgers and pizza, and they have different options for vegetarians.\\\\r\\\\nI think that their best meal is the duck.\\\\r\\\\nI also like the fact that you can see the kitchen.\\\\r\\\\nVery good wine selection.\\\\r\\\\nYou can also buy different food products from all Italy.\\\\r\\\\nStaff professional and friendly\\\\r\\\\nIt is an informal restaurant, it s not overprized.\\\\r\\\\nI came here with my family almost every Saturday for lunch.\\\\r\\\\nHigh recommanded\", metadata={\\'source\\': \\'ChIJ3UsowFDafkcR9WHsVtRoxeY\\'})]\\n'), HumanMessage(content='What are the pros and cons of the best restaurant in the city?')]\n",
            "\n",
            "Your job is to use Google Map restaurants and bars reviews to help people find best places to go for a meal or a drink.\n",
            "Use the following information and reviews to answer the questions.\n",
            "If you don't know an answer based on the context, say you don't know. Answer context:\n",
            "[Document(page_content='place_name=Soul Kitchen\\nplace_address=Via del Santo, 23, 35123 Padova PD, Italy\\nplace_average_ratings=4.6\\nplace_location=nan\\nplace_website=nan\\nplace_phone_number=+39 049 664818\\nreview=I got a tip to eat here from a local as my need was to eat food fast.\\r\\n\\r\\nThe glass of wine was nice, the burger was fair in quality. I tried the carbonara burger. Taste experience-wise, I was not too impressed and I feel the price for the offer was on the high end (14 euro) for not including fries.\\r\\n\\r\\nThe staff was helpful and the place has a nice atmosphere.', metadata={'source': 'ChIJP-ZEOlTafkcRFi8zBVerMvg'}), Document(page_content=\"place_name=McDonald's\\nplace_address=Piazzale della Stazione, 5, 35131 Padova PD, Italy\\nplace_average_ratings=3.2\\nplace_location=nan\\nplace_website=http://www.mcdonalds.it/\\nplace_phone_number=+39 049 654930\\nreview=I would say the services and staff are nice. The place is cozy and clean and has seats to sit and enjoy your meal.\\r\\nBut I wasn't satisfied with the taste of the food. I ordered a cheeseburger but honestly, it was not tasty as my experience in other McDonald's around Europe, Russia, and the US.\\r\\nBefore I was thinking of visiting at least once a week, but now I just visited once and not planning to visit that much soon.\\r\\n\\r\\nSince that, I am a big fan of McDonald's I always expect a better taste and products but this one was not my story of eating at McDonald's.\", metadata={'source': 'ChIJndkoTl3afkcRDto-rckMt7o'}), Document(page_content='place_name=Bistro Mexicano\\nplace_address=Via dei Livello, 11, 35139 Padova PD, Italy\\nplace_average_ratings=4.5\\nplace_location=nan\\nplace_website=https://www.bistromexicano.com/\\nplace_phone_number=+39 049 875 9203\\nreview=The atmosphere is nice, the employees are super friendly +considerable ,and each set of food is in large amount and dilicious! The only downside is the space at second floor is a little bit smaller. Still, I will recommend the restaurant to my friends!', metadata={'source': 'ChIJC628jEXafkcRb38-THnIM0E'}), Document(page_content='place_name=Exforo\\nplace_address=Piazza Rabin, 10, 35123 Padova PD, Italy\\nplace_average_ratings=4.1\\nplace_location=nan\\nplace_website=http://www.exforo.it/\\nplace_phone_number=+39 340 820 6428\\nreview=The best: the Pratto della Valle view. Best time to go would be before the sunset for sure. To make the insta picture pays the overpriced cocktails and food that is served here. The service is really kind, always asking if everything is ok. Cocktails come with small food to eat like taralli, olives and chips. The other appetizers are super super small but good in flavour and quality.', metadata={'source': 'ChIJpZZBCGXbfkcRSA80biTZAKo'}), Document(page_content='place_name=Autogrill Limenella\\nplace_address=Autostrada Torino- Trieste, 4, 35100 Padova PD, Italy\\nplace_average_ratings=3.8\\nplace_location=nan\\nplace_website=http://autogrill.it/\\nplace_phone_number=+39 049 864 8057\\nreview=There is a new restaurant here called Old Wild West, it is not listed separately on the map, so i will write a review here. Good American style food, variety burgers, burritos, tacos. The french fries were too salty, but the rest of the food was nice, and whats most important for me, no ice in the cola, so you actually get what you pay for.', metadata={'source': 'ChIJIXkQY5_rgUcRXE1-C0FCeR0'}), Document(page_content=\"place_name=Hamerica's ghetto via dell’Arco Padova\\nplace_address=Via dell'Arco, 22/26, 35122 Padova PD, Italy\\nplace_average_ratings=4.2\\nplace_location=nan\\nplace_website=http://www.hamericas.com/\\nplace_phone_number=+39 049 875 0051\\nreview=Excellent experience at this hamburger restaurant! We had a small 212 burger lunch offer and a Canadian burger, both tasty and satisfying. We went on Monday so beer was 50% off which was a plus. The atmosphere is very cozy, large space with nice tables, chairs and interior. Waiter was lovely as well.\", metadata={'source': 'ChIJtR_1yVHafkcRQmBmlJ0A8ns'}), Document(page_content=\"place_name=Gourmetteria\\nplace_address=Via Zabarella, 23, 35121 Padova PD, Italy\\nplace_average_ratings=4.1\\nplace_location=nan\\nplace_website=http://gourmetteria.com/\\nplace_phone_number=+39 049 659830\\nreview=I personally like very much this modern restaurant in the center of Padova.\\r\\nI think their food is first quality, they offer traditional Veneto' s meal but re invented under a modern view.\\r\\nThey also offer burgers and pizza, and they have different options for vegetarians.\\r\\nI think that their best meal is the duck.\\r\\nI also like the fact that you can see the kitchen.\\r\\nVery good wine selection.\\r\\nYou can also buy different food products from all Italy.\\r\\nStaff professional and friendly\\r\\nIt is an informal restaurant, it s not overprized.\\r\\nI came here with my family almost every Saturday for lunch.\\r\\nHigh recommanded\", metadata={'source': 'ChIJ3UsowFDafkcR9WHsVtRoxeY'}), Document(page_content=\"place_name=Gourmetteria\\nplace_address=Via Zabarella, 23, 35121 Padova PD, Italy\\nplace_average_ratings=4.1\\nplace_location=nan\\nplace_website=http://gourmetteria.com/\\nplace_phone_number=+39 049 659830\\nreview=I personally like very much this modern restaurant in the center of Padova.\\r\\nI think their food is first quality, they offer traditional Veneto' s meal but re invented under a modern view.\\r\\nThey also offer burgers and pizza, and they have different options for vegetarians.\\r\\nI think that their best meal is the duck.\\r\\nI also like the fact that you can see the kitchen.\\r\\nVery good wine selection.\\r\\nYou can also buy different food products from all Italy.\\r\\nStaff professional and friendly\\r\\nIt is an informal restaurant, it s not overprized.\\r\\nI came here with my family almost every Saturday for lunch.\\r\\nHigh recommanded\", metadata={'source': 'ChIJ3UsowFDafkcR9WHsVtRoxeY'}), Document(page_content=\"place_name=Gourmetteria\\nplace_address=Via Zabarella, 23, 35121 Padova PD, Italy\\nplace_average_ratings=4.1\\nplace_location=nan\\nplace_website=http://gourmetteria.com/\\nplace_phone_number=+39 049 659830\\nreview=I personally like very much this modern restaurant in the center of Padova.\\r\\nI think their food is first quality, they offer traditional Veneto' s meal but re invented under a modern view.\\r\\nThey also offer burgers and pizza, and they have different options for vegetarians.\\r\\nI think that their best meal is the duck.\\r\\nI also like the fact that you can see the kitchen.\\r\\nVery good wine selection.\\r\\nYou can also buy different food products from all Italy.\\r\\nStaff professional and friendly\\r\\nIt is an informal restaurant, it s not overprized.\\r\\nI came here with my family almost every Saturday for lunch.\\r\\nHigh recommanded\", metadata={'source': 'ChIJ3UsowFDafkcR9WHsVtRoxeY'}), Document(page_content=\"place_name=Gourmetteria\\nplace_address=Via Zabarella, 23, 35121 Padova PD, Italy\\nplace_average_ratings=4.1\\nplace_location=nan\\nplace_website=http://gourmetteria.com/\\nplace_phone_number=+39 049 659830\\nreview=I personally like very much this modern restaurant in the center of Padova.\\r\\nI think their food is first quality, they offer traditional Veneto' s meal but re invented under a modern view.\\r\\nThey also offer burgers and pizza, and they have different options for vegetarians.\\r\\nI think that their best meal is the duck.\\r\\nI also like the fact that you can see the kitchen.\\r\\nVery good wine selection.\\r\\nYou can also buy different food products from all Italy.\\r\\nStaff professional and friendly\\r\\nIt is an informal restaurant, it s not overprized.\\r\\nI came here with my family almost every Saturday for lunch.\\r\\nHigh recommanded\", metadata={'source': 'ChIJ3UsowFDafkcR9WHsVtRoxeY'})]\n",
            "\n"
          ]
        },
        {
          "data": {
            "text/plain": [
              "'What are the pros and cons of the best restaurant in the city?'"
            ]
          },
          "execution_count": 65,
          "metadata": {},
          "output_type": "execute_result"
        }
      ],
      "source": [
        "test = review_prompt_template.invoke({\"context\": reviews_retriever.invoke(question), \"question\": question})\n",
        "print(test)\n",
        "# StrOutputParser()\n",
        "print(test.messages[0].content)\n",
        "\n",
        "test.messages[1].content"
      ]
    },
    {
      "cell_type": "code",
      "execution_count": 87,
      "metadata": {
        "id": "i1VUet58nE55"
      },
      "outputs": [
        {
          "name": "stdout",
          "output_type": "stream",
          "text": [
            "Based on the reviews provided, there is not enough information to definitively determine the single best restaurant in Padova. The reviews cover several different restaurants, each with some positive aspects mentioned:\n",
            "\n",
            "Soul Kitchen - Nice atmosphere and helpful staff, but the reviewer felt the burger was overpriced for the quality.\n",
            "\n",
            "Bistro Mexicano - Friendly employees, large portions and delicious food, but the upstairs seating area is a bit small. \n",
            "\n",
            "Exforo - Great view of Prato della Valle, kind service, but cocktails and food are overpriced.\n",
            "\n",
            "Hamerica's - Cozy atmosphere, tasty burgers, 50% off beer special, lovely waiter.\n",
            "\n",
            "Gourmetteria - High quality, modern takes on traditional Veneto dishes, good for vegetarians, open kitchen, good wine selection, informal and reasonably priced. The duck is recommended. Reviewer goes frequently with family.\n",
            "\n",
            "Of these, Gourmetteria has the most detailed positive review, so it could potentially be considered the best of this set. But there isn't enough context to say it's definitively the top restaurant in the entire city. More information comparing it to other top-rated establishments would be needed to make that assessment. The reviews don't mention any significant cons for Gourmetteria.\n"
          ]
        }
      ],
      "source": [
        "question = \"\"\"What are the pros and cons of the best restaurant in the city?\"\"\"\n",
        "\n",
        "print(review_chain.invoke(question))"
      ]
    },
    {
      "cell_type": "code",
      "execution_count": 66,
      "metadata": {},
      "outputs": [
        {
          "name": "stdout",
          "output_type": "stream",
          "text": [
            "Based on the reviews provided, the best steak house appears to be Ristorante Vecchio Falconiere. Here are the details:\n",
            "\n",
            "Name: Ristorante Vecchio Falconiere\n",
            "Address: Via Umberto I, 31, 35122 Padova PD, Italy  \n",
            "Phone Number: +39 049 656544\n",
            "\n",
            "The review mentions they have a large variety of steaks from local to Wagyu beef in different sizes. The owner cooks the steak tableside and they have a large wine selection as well. The reviewer recommends making a reservation in advance as it can get fully booked.\n"
          ]
        }
      ],
      "source": [
        "question = \"\"\"Give the name, address and phone number of the best steak houses?\"\"\"\n",
        "\n",
        "print(review_chain.invoke(question))"
      ]
    },
    {
      "cell_type": "code",
      "execution_count": 67,
      "metadata": {},
      "outputs": [
        {
          "name": "stdout",
          "output_type": "stream",
          "text": [
            "Based on the reviews provided, the best steak house option with a 50 euro budget seems to be Ristorante Vecchio Falconiere. Here are the details:\n",
            "\n",
            "Ristorante Vecchio Falconiere\n",
            "Address: Via Umberto I, 31, 35122 Padova PD, Italy \n",
            "Phone: +39 049 656544\n",
            "\n",
            "The review mentions they have a large variety of steaks in different sizes, from local to Wagyu beef. It's described as a \"gem for meat and wine lovers\". However, the review doesn't specify prices, so I can't say for certain if it would fit a 50 euro per person budget. The other restaurants reviewed don't appear to specialize in steak.\n"
          ]
        }
      ],
      "source": [
        "question = \"\"\"Give the name, address and phone number of the best steak houses with a 50 euro budget?\"\"\"\n",
        "\n",
        "print(review_chain.invoke(question))"
      ]
    },
    {
      "cell_type": "code",
      "execution_count": 26,
      "metadata": {},
      "outputs": [
        {
          "name": "stdout",
          "output_type": "stream",
          "text": [
            "Based on the reviews, a couple good sandwich places are:\n",
            "\n",
            "Soul Kitchen\n",
            "Via del Santo, 23, 35123 Padova PD, Italy\n",
            "+39 049 664818\n",
            "\n",
            "The reviews mention they have great burgers, including an Angus beef burger with excellent onion rings. One review wasn't as impressed with their carbonara burger though.\n",
            "\n",
            "Spiller | Padova \n",
            "Via Fornace Morandi, 24/B, 35133 Padova PD, Italy\n",
            "+39 049 864 4822\n",
            "\n",
            "A review recommends their club sandwich and says the location is nice with outdoor seating available. They suggest booking in advance as it can get busy.\n",
            "\n",
            "The other places focus more on burgers rather than a variety of sandwiches. I don't have enough information to confidently recommend additional sandwich spots beyond those two based on the reviews provided.\n"
          ]
        }
      ],
      "source": [
        "question = \"\"\"Give the name, address and phone number of the some good sandwich places?\"\"\"\n",
        "\n",
        "print(review_chain.invoke(question))"
      ]
    },
    {
      "cell_type": "code",
      "execution_count": 72,
      "metadata": {},
      "outputs": [
        {
          "name": "stdout",
          "output_type": "stream",
          "text": [
            "I apologize, but I did not find information about how to make a roast beef sandwich at home in the provided reviews. The reviews are about various restaurants in Padova, Italy, including Hamerica's, Autogrill Limenella, Old England Pub, Ristorante Vecchio Falconiere, Brunch Republic Padova, Bar Nazionale, and McDonald's Padova Ovest. They mention dishes like burgers, chicken burrito, vegan pulled pork sandwich, steak, and tramezzino sandwiches, but do not provide instructions for making a roast beef sandwich at home.\n"
          ]
        }
      ],
      "source": [
        "question = \"\"\"How can I make a roast beef sandwich at home?\"\"\"\n",
        "\n",
        "print(review_chain.invoke(question))"
      ]
    },
    {
      "cell_type": "code",
      "execution_count": 73,
      "metadata": {},
      "outputs": [
        {
          "name": "stdout",
          "output_type": "stream",
          "text": [
            "I do not have information about Natural Language Processing in the provided context. The reviews are about various restaurants and bars in Italy, and do not mention anything related to Natural Language Processing.\n"
          ]
        }
      ],
      "source": [
        "question = \"\"\"What is Natural Language Processing?\"\"\"\n",
        "\n",
        "print(review_chain.invoke(question))"
      ]
    },
    {
      "cell_type": "code",
      "execution_count": 36,
      "metadata": {},
      "outputs": [],
      "source": [
        "question = \"\"\"What are the most affordable but high-quality restaurants in City?\"\"\"\n",
        "result = review_chain.invoke(question)"
      ]
    },
    {
      "cell_type": "code",
      "execution_count": 37,
      "metadata": {},
      "outputs": [
        {
          "name": "stdout",
          "output_type": "stream",
          "text": [
            "Based on the reviews provided, the most affordable yet high-quality restaurant in Padova seems to be Peace 'n' Spice. A few key points from the reviews:\n",
            "\n",
            "- It offers a variety of delicious Middle Eastern dishes at an inexpensive price level. One reviewer said \"Food was amazing. Very delicious, every dish we took was very tasty.\"\n",
            "\n",
            "- The ambiance and decor are described as fantastic. One review mentioned \"The ambiance is fantastic and even music in background brings nostalgia.\"\n",
            "\n",
            "- Service is friendly and accommodating. A reviewer said \"Staffs are very friendly and polite.\"\n",
            "\n",
            "- It has an average rating of 4.5 stars, higher than the McDonald's and KFC locations mentioned which are in the 3-4 star range.\n",
            "\n",
            "The McDonald's and KFC have mixed reviews, with some praising the taste/quality but others feeling it has declined. They are also inexpensive options.\n",
            "\n",
            "So in summary, for an affordable restaurant in Padova with high quality food, friendly service and nice atmosphere, Peace 'n' Spice stands out based on these reviews as the best option provided. The fast food chains are even cheaper but the quality seems more variable.\n"
          ]
        }
      ],
      "source": [
        "result.content\n",
        "print(result.content)"
      ]
    },
    {
      "cell_type": "markdown",
      "metadata": {},
      "source": [
        "## Play ground"
      ]
    },
    {
      "cell_type": "code",
      "execution_count": 99,
      "metadata": {},
      "outputs": [
        {
          "name": "stdout",
          "output_type": "stream",
          "text": [
            "The burgers are amazing, make sure you have a green pass if you plan to eat in.\n",
            "252\n",
            "The burgers are amazing, make sure you have a green pass if you plan to eat in.\n",
            "257\n",
            "The burgers are amazing, make sure you have a green pass if you plan to eat in.\n",
            "742\n",
            "The burgers are amazing, make sure you have a green pass if you plan to eat in.\n",
            "747\n"
          ]
        }
      ],
      "source": [
        "for i in range(len(documents)):\n",
        "    review = documents[i].page_content.split(\"review=\")[1]\n",
        "    if \"The burgers are amazing,\" in review:\n",
        "        print(review)\n",
        "        print(i)"
      ]
    },
    {
      "cell_type": "code",
      "execution_count": 100,
      "metadata": {},
      "outputs": [
        {
          "data": {
            "text/plain": [
              "Document(page_content='place_name=Fastdrink24\\nplace_address=Via Sorio, 64/A, 35141 Padova PD, Italy\\nplace_average_ratings=4.2\\nplace_location=nan\\nplace_website=http://www.fastdrink24.it/\\nplace_phone_number=+39 345 173 7833\\nreview=The burgers are amazing, make sure you have a green pass if you plan to eat in.', metadata={'source': 'ChIJQR9o0zTafkcRA76TSnrQuiw'})"
            ]
          },
          "execution_count": 100,
          "metadata": {},
          "output_type": "execute_result"
        }
      ],
      "source": [
        "documents[252]"
      ]
    },
    {
      "cell_type": "code",
      "execution_count": null,
      "metadata": {},
      "outputs": [],
      "source": []
    }
  ],
  "metadata": {
    "accelerator": "GPU",
    "colab": {
      "gpuType": "T4",
      "provenance": []
    },
    "kernelspec": {
      "display_name": "Python 3 (ipykernel)",
      "language": "python",
      "name": "python3"
    },
    "language_info": {
      "codemirror_mode": {
        "name": "ipython",
        "version": 3
      },
      "file_extension": ".py",
      "mimetype": "text/x-python",
      "name": "python",
      "nbconvert_exporter": "python",
      "pygments_lexer": "ipython3",
      "version": "3.10.8"
    }
  },
  "nbformat": 4,
  "nbformat_minor": 0
}
