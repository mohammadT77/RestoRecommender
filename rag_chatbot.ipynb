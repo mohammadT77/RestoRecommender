{
  "cells": [
    {
      "cell_type": "code",
      "execution_count": 1,
      "metadata": {},
      "outputs": [
        {
          "name": "stdout",
          "output_type": "stream",
          "text": [
            "Requirement already satisfied: pandas in ./venv/lib/python3.12/site-packages (2.2.2)\n",
            "Requirement already satisfied: langchain in ./venv/lib/python3.12/site-packages (0.1.0)\n",
            "Requirement already satisfied: langchain_core in ./venv/lib/python3.12/site-packages (0.2.1)\n",
            "Requirement already satisfied: langchain_community in ./venv/lib/python3.12/site-packages (0.0.12)\n",
            "Collecting langchain_google_genai\n",
            "  Downloading langchain_google_genai-1.0.6-py3-none-any.whl.metadata (3.8 kB)\n",
            "Requirement already satisfied: python-dotenv in ./venv/lib/python3.12/site-packages (1.0.1)\n",
            "Requirement already satisfied: faiss-cpu in ./venv/lib/python3.12/site-packages (1.8.0)\n",
            "Requirement already satisfied: numpy>=1.26.0 in ./venv/lib/python3.12/site-packages (from pandas) (1.26.4)\n",
            "Requirement already satisfied: python-dateutil>=2.8.2 in ./venv/lib/python3.12/site-packages (from pandas) (2.9.0.post0)\n",
            "Requirement already satisfied: pytz>=2020.1 in ./venv/lib/python3.12/site-packages (from pandas) (2024.1)\n",
            "Requirement already satisfied: tzdata>=2022.7 in ./venv/lib/python3.12/site-packages (from pandas) (2024.1)\n",
            "Requirement already satisfied: PyYAML>=5.3 in ./venv/lib/python3.12/site-packages (from langchain) (6.0.1)\n",
            "Requirement already satisfied: SQLAlchemy<3,>=1.4 in ./venv/lib/python3.12/site-packages (from langchain) (2.0.30)\n",
            "Requirement already satisfied: aiohttp<4.0.0,>=3.8.3 in ./venv/lib/python3.12/site-packages (from langchain) (3.9.5)\n",
            "Requirement already satisfied: dataclasses-json<0.7,>=0.5.7 in ./venv/lib/python3.12/site-packages (from langchain) (0.6.6)\n",
            "Requirement already satisfied: jsonpatch<2.0,>=1.33 in ./venv/lib/python3.12/site-packages (from langchain) (1.33)\n",
            "Collecting langchain_core\n",
            "  Downloading langchain_core-0.1.52-py3-none-any.whl.metadata (5.9 kB)\n",
            "Collecting langsmith<0.1.0,>=0.0.77 (from langchain)\n",
            "  Downloading langsmith-0.0.92-py3-none-any.whl.metadata (9.9 kB)\n",
            "Requirement already satisfied: pydantic<3,>=1 in ./venv/lib/python3.12/site-packages (from langchain) (2.7.1)\n",
            "Requirement already satisfied: requests<3,>=2 in ./venv/lib/python3.12/site-packages (from langchain) (2.32.2)\n",
            "Requirement already satisfied: tenacity<9.0.0,>=8.1.0 in ./venv/lib/python3.12/site-packages (from langchain) (8.3.0)\n",
            "INFO: pip is looking at multiple versions of langchain-core to determine which version is compatible with other requirements. This could take a while.\n",
            "Collecting langchain_core\n",
            "  Downloading langchain_core-0.1.51-py3-none-any.whl.metadata (5.9 kB)\n",
            "  Downloading langchain_core-0.1.50-py3-none-any.whl.metadata (5.9 kB)\n",
            "  Downloading langchain_core-0.1.49-py3-none-any.whl.metadata (5.9 kB)\n",
            "  Downloading langchain_core-0.1.48-py3-none-any.whl.metadata (5.9 kB)\n",
            "  Downloading langchain_core-0.1.47-py3-none-any.whl.metadata (5.9 kB)\n",
            "  Downloading langchain_core-0.1.46-py3-none-any.whl.metadata (5.9 kB)\n",
            "  Downloading langchain_core-0.1.45-py3-none-any.whl.metadata (5.9 kB)\n",
            "INFO: pip is still looking at multiple versions of langchain-core to determine which version is compatible with other requirements. This could take a while.\n",
            "  Downloading langchain_core-0.1.44-py3-none-any.whl.metadata (5.9 kB)\n",
            "  Downloading langchain_core-0.1.43-py3-none-any.whl.metadata (5.9 kB)\n",
            "  Downloading langchain_core-0.1.42-py3-none-any.whl.metadata (5.9 kB)\n",
            "  Downloading langchain_core-0.1.41-py3-none-any.whl.metadata (5.9 kB)\n",
            "  Downloading langchain_core-0.1.40-py3-none-any.whl.metadata (5.9 kB)\n",
            "INFO: This is taking longer than usual. You might need to provide the dependency resolver with stricter constraints to reduce runtime. See https://pip.pypa.io/warnings/backtracking for guidance. If you want to abort this run, press Ctrl + C.\n",
            "  Downloading langchain_core-0.1.39-py3-none-any.whl.metadata (5.9 kB)\n",
            "  Downloading langchain_core-0.1.38-py3-none-any.whl.metadata (6.0 kB)\n",
            "  Downloading langchain_core-0.1.37-py3-none-any.whl.metadata (6.0 kB)\n",
            "  Downloading langchain_core-0.1.36-py3-none-any.whl.metadata (6.0 kB)\n",
            "  Downloading langchain_core-0.1.35-py3-none-any.whl.metadata (6.0 kB)\n",
            "  Downloading langchain_core-0.1.34-py3-none-any.whl.metadata (6.0 kB)\n",
            "  Downloading langchain_core-0.1.33-py3-none-any.whl.metadata (6.0 kB)\n",
            "Requirement already satisfied: anyio<5,>=3 in ./venv/lib/python3.12/site-packages (from langchain_core) (4.3.0)\n",
            "  Downloading langchain_core-0.1.32-py3-none-any.whl.metadata (6.0 kB)\n",
            "  Downloading langchain_core-0.1.31-py3-none-any.whl.metadata (6.0 kB)\n",
            "  Downloading langchain_core-0.1.30-py3-none-any.whl.metadata (6.0 kB)\n",
            "  Downloading langchain_core-0.1.29-py3-none-any.whl.metadata (6.0 kB)\n",
            "  Downloading langchain_core-0.1.28-py3-none-any.whl.metadata (6.0 kB)\n",
            "  Downloading langchain_core-0.1.27-py3-none-any.whl.metadata (6.0 kB)\n",
            "  Downloading langchain_core-0.1.26-py3-none-any.whl.metadata (6.0 kB)\n",
            "  Downloading langchain_core-0.1.25-py3-none-any.whl.metadata (6.0 kB)\n",
            "  Downloading langchain_core-0.1.24-py3-none-any.whl.metadata (6.0 kB)\n",
            "  Downloading langchain_core-0.1.23-py3-none-any.whl.metadata (6.0 kB)\n",
            "Collecting langsmith<0.1.0,>=0.0.77 (from langchain)\n",
            "  Downloading langsmith-0.0.87-py3-none-any.whl.metadata (10 kB)\n",
            "Requirement already satisfied: packaging<24.0,>=23.2 in ./venv/lib/python3.12/site-packages (from langchain_core) (23.2)\n",
            "Collecting google-generativeai<0.6.0,>=0.5.2 (from langchain_google_genai)\n",
            "  Downloading google_generativeai-0.5.4-py3-none-any.whl.metadata (3.9 kB)\n",
            "INFO: pip is looking at multiple versions of langchain-google-genai to determine which version is compatible with other requirements. This could take a while.\n",
            "Collecting langchain_google_genai\n",
            "  Downloading langchain_google_genai-1.0.5-py3-none-any.whl.metadata (3.8 kB)\n",
            "  Downloading langchain_google_genai-1.0.4-py3-none-any.whl.metadata (3.8 kB)\n",
            "  Downloading langchain_google_genai-1.0.3-py3-none-any.whl.metadata (3.8 kB)\n",
            "  Downloading langchain_google_genai-1.0.2-py3-none-any.whl.metadata (3.8 kB)\n",
            "INFO: pip is still looking at multiple versions of langchain-google-genai to determine which version is compatible with other requirements. This could take a while.\n",
            "  Downloading langchain_google_genai-1.0.1-py3-none-any.whl.metadata (3.8 kB)\n",
            "Collecting google-generativeai<0.5.0,>=0.4.1 (from langchain_google_genai)\n",
            "  Downloading google_generativeai-0.4.1-py3-none-any.whl.metadata (6.2 kB)\n",
            "Requirement already satisfied: aiosignal>=1.1.2 in ./venv/lib/python3.12/site-packages (from aiohttp<4.0.0,>=3.8.3->langchain) (1.3.1)\n",
            "Requirement already satisfied: attrs>=17.3.0 in ./venv/lib/python3.12/site-packages (from aiohttp<4.0.0,>=3.8.3->langchain) (23.2.0)\n",
            "Requirement already satisfied: frozenlist>=1.1.1 in ./venv/lib/python3.12/site-packages (from aiohttp<4.0.0,>=3.8.3->langchain) (1.4.1)\n",
            "Requirement already satisfied: multidict<7.0,>=4.5 in ./venv/lib/python3.12/site-packages (from aiohttp<4.0.0,>=3.8.3->langchain) (6.0.5)\n",
            "Requirement already satisfied: yarl<2.0,>=1.0 in ./venv/lib/python3.12/site-packages (from aiohttp<4.0.0,>=3.8.3->langchain) (1.9.4)\n",
            "Requirement already satisfied: idna>=2.8 in ./venv/lib/python3.12/site-packages (from anyio<5,>=3->langchain_core) (3.7)\n",
            "Requirement already satisfied: sniffio>=1.1 in ./venv/lib/python3.12/site-packages (from anyio<5,>=3->langchain_core) (1.3.1)\n",
            "Requirement already satisfied: marshmallow<4.0.0,>=3.18.0 in ./venv/lib/python3.12/site-packages (from dataclasses-json<0.7,>=0.5.7->langchain) (3.21.2)\n",
            "Requirement already satisfied: typing-inspect<1,>=0.4.0 in ./venv/lib/python3.12/site-packages (from dataclasses-json<0.7,>=0.5.7->langchain) (0.9.0)\n",
            "Collecting google-ai-generativelanguage==0.4.0 (from google-generativeai<0.5.0,>=0.4.1->langchain_google_genai)\n",
            "  Downloading google_ai_generativelanguage-0.4.0-py3-none-any.whl.metadata (5.1 kB)\n",
            "Collecting google-auth>=2.15.0 (from google-generativeai<0.5.0,>=0.4.1->langchain_google_genai)\n",
            "  Downloading google_auth-2.30.0-py2.py3-none-any.whl.metadata (4.7 kB)\n",
            "Collecting google-api-core (from google-generativeai<0.5.0,>=0.4.1->langchain_google_genai)\n",
            "  Downloading google_api_core-2.19.0-py3-none-any.whl.metadata (2.7 kB)\n",
            "Collecting protobuf (from google-generativeai<0.5.0,>=0.4.1->langchain_google_genai)\n",
            "  Downloading protobuf-5.27.1-cp38-abi3-manylinux2014_x86_64.whl.metadata (592 bytes)\n",
            "Requirement already satisfied: tqdm in ./venv/lib/python3.12/site-packages (from google-generativeai<0.5.0,>=0.4.1->langchain_google_genai) (4.66.4)\n",
            "Requirement already satisfied: typing-extensions in ./venv/lib/python3.12/site-packages (from google-generativeai<0.5.0,>=0.4.1->langchain_google_genai) (4.12.0)\n",
            "Collecting proto-plus<2.0.0dev,>=1.22.3 (from google-ai-generativelanguage==0.4.0->google-generativeai<0.5.0,>=0.4.1->langchain_google_genai)\n",
            "  Downloading proto_plus-1.24.0-py3-none-any.whl.metadata (2.2 kB)\n",
            "Collecting protobuf (from google-generativeai<0.5.0,>=0.4.1->langchain_google_genai)\n",
            "  Downloading protobuf-4.25.3-cp37-abi3-manylinux2014_x86_64.whl.metadata (541 bytes)\n",
            "Requirement already satisfied: jsonpointer>=1.9 in ./venv/lib/python3.12/site-packages (from jsonpatch<2.0,>=1.33->langchain) (2.4)\n",
            "Requirement already satisfied: annotated-types>=0.4.0 in ./venv/lib/python3.12/site-packages (from pydantic<3,>=1->langchain) (0.7.0)\n",
            "Requirement already satisfied: pydantic-core==2.18.2 in ./venv/lib/python3.12/site-packages (from pydantic<3,>=1->langchain) (2.18.2)\n",
            "Requirement already satisfied: six>=1.5 in ./venv/lib/python3.12/site-packages (from python-dateutil>=2.8.2->pandas) (1.16.0)\n",
            "Requirement already satisfied: charset-normalizer<4,>=2 in ./venv/lib/python3.12/site-packages (from requests<3,>=2->langchain) (3.3.2)\n",
            "Requirement already satisfied: urllib3<3,>=1.21.1 in ./venv/lib/python3.12/site-packages (from requests<3,>=2->langchain) (2.2.1)\n",
            "Requirement already satisfied: certifi>=2017.4.17 in ./venv/lib/python3.12/site-packages (from requests<3,>=2->langchain) (2024.2.2)\n",
            "Requirement already satisfied: greenlet!=0.4.17 in ./venv/lib/python3.12/site-packages (from SQLAlchemy<3,>=1.4->langchain) (3.0.3)\n",
            "Collecting googleapis-common-protos<2.0.dev0,>=1.56.2 (from google-api-core->google-generativeai<0.5.0,>=0.4.1->langchain_google_genai)\n",
            "  Downloading googleapis_common_protos-1.63.1-py2.py3-none-any.whl.metadata (1.5 kB)\n",
            "Collecting cachetools<6.0,>=2.0.0 (from google-auth>=2.15.0->google-generativeai<0.5.0,>=0.4.1->langchain_google_genai)\n",
            "  Downloading cachetools-5.3.3-py3-none-any.whl.metadata (5.3 kB)\n",
            "Collecting pyasn1-modules>=0.2.1 (from google-auth>=2.15.0->google-generativeai<0.5.0,>=0.4.1->langchain_google_genai)\n",
            "  Downloading pyasn1_modules-0.4.0-py3-none-any.whl.metadata (3.4 kB)\n",
            "Collecting rsa<5,>=3.1.4 (from google-auth>=2.15.0->google-generativeai<0.5.0,>=0.4.1->langchain_google_genai)\n",
            "  Downloading rsa-4.9-py3-none-any.whl.metadata (4.2 kB)\n",
            "Requirement already satisfied: mypy-extensions>=0.3.0 in ./venv/lib/python3.12/site-packages (from typing-inspect<1,>=0.4.0->dataclasses-json<0.7,>=0.5.7->langchain) (1.0.0)\n",
            "Collecting grpcio<2.0dev,>=1.33.2 (from google-api-core[grpc]!=2.0.*,!=2.1.*,!=2.10.*,!=2.2.*,!=2.3.*,!=2.4.*,!=2.5.*,!=2.6.*,!=2.7.*,!=2.8.*,!=2.9.*,<3.0.0dev,>=1.34.0->google-ai-generativelanguage==0.4.0->google-generativeai<0.5.0,>=0.4.1->langchain_google_genai)\n",
            "  Downloading grpcio-1.64.1-cp312-cp312-manylinux_2_17_x86_64.manylinux2014_x86_64.whl.metadata (3.3 kB)\n",
            "Collecting grpcio-status<2.0.dev0,>=1.33.2 (from google-api-core[grpc]!=2.0.*,!=2.1.*,!=2.10.*,!=2.2.*,!=2.3.*,!=2.4.*,!=2.5.*,!=2.6.*,!=2.7.*,!=2.8.*,!=2.9.*,<3.0.0dev,>=1.34.0->google-ai-generativelanguage==0.4.0->google-generativeai<0.5.0,>=0.4.1->langchain_google_genai)\n",
            "  Downloading grpcio_status-1.64.1-py3-none-any.whl.metadata (1.1 kB)\n",
            "Collecting pyasn1<0.7.0,>=0.4.6 (from pyasn1-modules>=0.2.1->google-auth>=2.15.0->google-generativeai<0.5.0,>=0.4.1->langchain_google_genai)\n",
            "  Downloading pyasn1-0.6.0-py2.py3-none-any.whl.metadata (8.3 kB)\n",
            "INFO: pip is looking at multiple versions of grpcio-status to determine which version is compatible with other requirements. This could take a while.\n",
            "Collecting grpcio-status<2.0.dev0,>=1.33.2 (from google-api-core[grpc]!=2.0.*,!=2.1.*,!=2.10.*,!=2.2.*,!=2.3.*,!=2.4.*,!=2.5.*,!=2.6.*,!=2.7.*,!=2.8.*,!=2.9.*,<3.0.0dev,>=1.34.0->google-ai-generativelanguage==0.4.0->google-generativeai<0.5.0,>=0.4.1->langchain_google_genai)\n",
            "  Downloading grpcio_status-1.64.0-py3-none-any.whl.metadata (1.1 kB)\n",
            "  Downloading grpcio_status-1.63.0-py3-none-any.whl.metadata (1.1 kB)\n",
            "  Downloading grpcio_status-1.62.2-py3-none-any.whl.metadata (1.3 kB)\n",
            "Downloading langchain_core-0.1.23-py3-none-any.whl (241 kB)\n",
            "\u001b[2K   \u001b[38;2;114;156;31m━━━━━━━━━━━━━━━━━━━━━━━━━━━━━━━━━━━━━━━━\u001b[0m \u001b[32m241.2/241.2 kB\u001b[0m \u001b[31m3.8 MB/s\u001b[0m eta \u001b[36m0:00:00\u001b[0mMB/s\u001b[0m eta \u001b[36m0:00:01\u001b[0m\n",
            "\u001b[?25hDownloading langsmith-0.0.87-py3-none-any.whl (55 kB)\n",
            "\u001b[2K   \u001b[38;2;114;156;31m━━━━━━━━━━━━━━━━━━━━━━━━━━━━━━━━━━━━━━━━\u001b[0m \u001b[32m55.4/55.4 kB\u001b[0m \u001b[31m3.0 MB/s\u001b[0m eta \u001b[36m0:00:00\u001b[0m\n",
            "\u001b[?25hDownloading langchain_google_genai-1.0.1-py3-none-any.whl (28 kB)\n",
            "Downloading google_generativeai-0.4.1-py3-none-any.whl (137 kB)\n",
            "\u001b[2K   \u001b[38;2;114;156;31m━━━━━━━━━━━━━━━━━━━━━━━━━━━━━━━━━━━━━━━━\u001b[0m \u001b[32m137.4/137.4 kB\u001b[0m \u001b[31m6.7 MB/s\u001b[0m eta \u001b[36m0:00:00\u001b[0m\n",
            "\u001b[?25hDownloading google_ai_generativelanguage-0.4.0-py3-none-any.whl (598 kB)\n",
            "\u001b[2K   \u001b[38;2;114;156;31m━━━━━━━━━━━━━━━━━━━━━━━━━━━━━━━━━━━━━━━━\u001b[0m \u001b[32m598.7/598.7 kB\u001b[0m \u001b[31m5.6 MB/s\u001b[0m eta \u001b[36m0:00:00\u001b[0m MB/s\u001b[0m eta \u001b[36m0:00:01\u001b[0m:01\u001b[0m\n",
            "\u001b[?25hDownloading google_api_core-2.19.0-py3-none-any.whl (139 kB)\n",
            "\u001b[2K   \u001b[38;2;114;156;31m━━━━━━━━━━━━━━━━━━━━━━━━━━━━━━━━━━━━━━━━\u001b[0m \u001b[32m139.0/139.0 kB\u001b[0m \u001b[31m6.2 MB/s\u001b[0m eta \u001b[36m0:00:00\u001b[0m\n",
            "\u001b[?25hDownloading google_auth-2.30.0-py2.py3-none-any.whl (193 kB)\n",
            "\u001b[2K   \u001b[38;2;114;156;31m━━━━━━━━━━━━━━━━━━━━━━━━━━━━━━━━━━━━━━━━\u001b[0m \u001b[32m193.7/193.7 kB\u001b[0m \u001b[31m10.2 MB/s\u001b[0m eta \u001b[36m0:00:00\u001b[0m\n",
            "\u001b[?25hDownloading protobuf-4.25.3-cp37-abi3-manylinux2014_x86_64.whl (294 kB)\n",
            "\u001b[2K   \u001b[38;2;114;156;31m━━━━━━━━━━━━━━━━━━━━━━━━━━━━━━━━━━━━━━━━\u001b[0m \u001b[32m294.6/294.6 kB\u001b[0m \u001b[31m5.3 MB/s\u001b[0m eta \u001b[36m0:00:00\u001b[0m[31m7.5 MB/s\u001b[0m eta \u001b[36m0:00:01\u001b[0m\n",
            "\u001b[?25hDownloading cachetools-5.3.3-py3-none-any.whl (9.3 kB)\n",
            "Downloading googleapis_common_protos-1.63.1-py2.py3-none-any.whl (229 kB)\n",
            "\u001b[2K   \u001b[38;2;114;156;31m━━━━━━━━━━━━━━━━━━━━━━━━━━━━━━━━━━━━━━━━\u001b[0m \u001b[32m229.2/229.2 kB\u001b[0m \u001b[31m5.9 MB/s\u001b[0m eta \u001b[36m0:00:00\u001b[0m[36m0:00:01\u001b[0m\n",
            "\u001b[?25hDownloading proto_plus-1.24.0-py3-none-any.whl (50 kB)\n",
            "\u001b[2K   \u001b[38;2;114;156;31m━━━━━━━━━━━━━━━━━━━━━━━━━━━━━━━━━━━━━━━━\u001b[0m \u001b[32m50.1/50.1 kB\u001b[0m \u001b[31m1.9 MB/s\u001b[0m eta \u001b[36m0:00:00\u001b[0m\n",
            "\u001b[?25hDownloading pyasn1_modules-0.4.0-py3-none-any.whl (181 kB)\n",
            "\u001b[2K   \u001b[38;2;114;156;31m━━━━━━━━━━━━━━━━━━━━━━━━━━━━━━━━━━━━━━━━\u001b[0m \u001b[32m181.2/181.2 kB\u001b[0m \u001b[31m7.0 MB/s\u001b[0m eta \u001b[36m0:00:00\u001b[0m\n",
            "\u001b[?25hDownloading rsa-4.9-py3-none-any.whl (34 kB)\n",
            "Downloading grpcio-1.64.1-cp312-cp312-manylinux_2_17_x86_64.manylinux2014_x86_64.whl (5.6 MB)\n",
            "\u001b[2K   \u001b[38;2;114;156;31m━━━━━━━━━━━━━━━━━━━━━━━━━━━━━━━━━━━━━━━━\u001b[0m \u001b[32m5.6/5.6 MB\u001b[0m \u001b[31m7.0 MB/s\u001b[0m eta \u001b[36m0:00:00\u001b[0mm eta \u001b[36m0:00:01\u001b[0m[36m0:00:01\u001b[0m\n",
            "\u001b[?25hDownloading grpcio_status-1.62.2-py3-none-any.whl (14 kB)\n",
            "Downloading pyasn1-0.6.0-py2.py3-none-any.whl (85 kB)\n",
            "\u001b[2K   \u001b[38;2;114;156;31m━━━━━━━━━━━━━━━━━━━━━━━━━━━━━━━━━━━━━━━━\u001b[0m \u001b[32m85.3/85.3 kB\u001b[0m \u001b[31m4.6 MB/s\u001b[0m eta \u001b[36m0:00:00\u001b[0m\n",
            "\u001b[?25hInstalling collected packages: pyasn1, protobuf, grpcio, cachetools, rsa, pyasn1-modules, proto-plus, googleapis-common-protos, langsmith, grpcio-status, google-auth, langchain_core, google-api-core, google-ai-generativelanguage, google-generativeai, langchain_google_genai\n",
            "  Attempting uninstall: langsmith\n",
            "    Found existing installation: langsmith 0.1.63\n",
            "    Uninstalling langsmith-0.1.63:\n",
            "      Successfully uninstalled langsmith-0.1.63\n",
            "  Attempting uninstall: langchain_core\n",
            "    Found existing installation: langchain-core 0.2.1\n",
            "    Uninstalling langchain-core-0.2.1:\n",
            "      Successfully uninstalled langchain-core-0.2.1\n",
            "\u001b[31mERROR: pip's dependency resolver does not currently take into account all the packages that are installed. This behaviour is the source of the following dependency conflicts.\n",
            "langchain-anthropic 0.1.13 requires langchain-core<0.3,>=0.1.43, but you have langchain-core 0.1.23 which is incompatible.\u001b[0m\u001b[31m\n",
            "\u001b[0mSuccessfully installed cachetools-5.3.3 google-ai-generativelanguage-0.4.0 google-api-core-2.19.0 google-auth-2.30.0 google-generativeai-0.4.1 googleapis-common-protos-1.63.1 grpcio-1.64.1 grpcio-status-1.62.2 langchain_core-0.1.23 langchain_google_genai-1.0.1 langsmith-0.0.87 proto-plus-1.24.0 protobuf-4.25.3 pyasn1-0.6.0 pyasn1-modules-0.4.0 rsa-4.9\n",
            "Note: you may need to restart the kernel to use updated packages.\n"
          ]
        }
      ],
      "source": [
        "%pip install pandas langchain langchain_core langchain_community langchain_google_genai python-dotenv faiss-cpu"
      ]
    },
    {
      "cell_type": "code",
      "execution_count": null,
      "metadata": {},
      "outputs": [],
      "source": [
        "# for pulling huggingface models\n",
        "%pip install transformers bitsandbytes torch"
      ]
    },
    {
      "cell_type": "code",
      "execution_count": 32,
      "metadata": {
        "id": "IVZTYMYqhEyD"
      },
      "outputs": [
        {
          "name": "stdout",
          "output_type": "stream",
          "text": [
            "Running on colab: False\n"
          ]
        }
      ],
      "source": [
        "import numpy as np\n",
        "import pandas as pd\n",
        "from langchain.prompts import (\n",
        "    PromptTemplate,\n",
        "    SystemMessagePromptTemplate,\n",
        "    HumanMessagePromptTemplate,\n",
        "    ChatPromptTemplate,)\n",
        "from langchain_core.output_parsers import StrOutputParser\n",
        "from langchain_community.vectorstores import FAISS\n",
        "from langchain.schema.runnable import RunnablePassthrough\n",
        "from langchain_community.document_loaders.dataframe import DataFrameLoader\n",
        "from langchain.storage import LocalFileStore\n",
        "from langchain.embeddings import CacheBackedEmbeddings\n",
        "from langchain_google_genai import GoogleGenerativeAIEmbeddings, ChatGoogleGenerativeAI\n",
        "from langchain.embeddings.huggingface import HuggingFaceEmbeddings\n",
        "from langchain.llms import HuggingFacePipeline\n",
        "\n",
        "\n",
        "try:\n",
        "    from google.colab.userdata import get as getenv\n",
        "    running_on_colab = True\n",
        "except ImportError:\n",
        "    from os import getenv\n",
        "    import dotenv\n",
        "    dotenv.load_dotenv(dotenv_path=\".env\")\n",
        "    running_on_colab = False\n",
        "\n",
        "print(\"Running on colab:\", running_on_colab)"
      ]
    },
    {
      "cell_type": "markdown",
      "metadata": {
        "id": "1rzeDBNMoijW"
      },
      "source": [
        "## Constants"
      ]
    },
    {
      "cell_type": "code",
      "execution_count": 45,
      "metadata": {
        "id": "TeXyY2YLWqcD"
      },
      "outputs": [],
      "source": [
        "# Dataset files: \n",
        "### You can find the data files here: https://drive.google.com/drive/folders/1UFYOc2HsPu5KHfyfwyE-P8p9MIC24ZjC?usp=sharing\n",
        "PLACES_PATH = \"data/places.csv\"\n",
        "REVIEWS_PATH = \"data/reviews.csv\"\n",
        "\n",
        "# Embeddings cache store path:\n",
        "EMBEDDINGS_CACHE_STORE=\"./cache/\"\n",
        "EMBEDDINGS_BATCH_SIZE=100\n",
        "\n",
        "# Faiss cache and strategies for both cosine and euclidean distance\n",
        "FAISS_REVIEWS_PATH_EUCLIDEAN = \"faiss_index_euclidean\"\n",
        "FAISS_REVIEWS_PATH_COSINE = \"faiss_index_cosine\"\n",
        "FAISS_INDEX_NAME = \"index\"\n",
        "FAISS_DISTANCE_STRATEGY_EUCLIDEAN ='EUCLIDEAN_DISTANCE'\n",
        "FAISS_DISTANCE_STRATEGY_COSINE = \"COSINE_DISTANCE\"\n",
        "\n",
        "\n",
        "# Optional: for using LangSmith visualization tool\n",
        "LANGCHAIN_API_KEY = getenv('LANGCHAIN_API_KEY')\n",
        "LANGCHAIN_ENDPOINT = getenv('LANGCHAIN_ENDPOINT')"
      ]
    },
    {
      "cell_type": "markdown",
      "metadata": {},
      "source": [
        "### LLM and Embedding model \n",
        "In the code there are two implemented options for each of LLM and Embedding models:  \n",
        "one options to two pull the models (preferably tiny) using **HuggingFace** and utilize them through LangChain interfaces.\n",
        "the other option is to use models API such as ollama (served Llama models), Cohere, Anthropic, ...\n",
        "\n",
        "**Note:** having decided to proceed with the first option (pulling models from hugging-face) assure that you have required space and resources (GPU) available or alternatively execute the code on google-colab.\n",
        "\n",
        "\n",
        "Format of *LLM_MODEL_NAME* and _EMBEDDING_MODEL_NAME_:  \n",
        "**<MODEL_PROVIDER>::<MODEL_NAME>**\n",
        "\n",
        "Available providers:\n",
        "- **gemini**\n",
        "- **hf** (huggingface)\n",
        "\n",
        "*Default model provider: **gemini**\n",
        "\n",
        "#### LLM model examples:\n",
        "- gemini::gemini-1.5-flash\n",
        "- hf::meta-llama/Llama-2-7b-hf\n",
        "\n",
        "#### Embedding model examples:\n",
        "- gemini::models/text-embedding-004\n",
        "- hf::all-MiniLM-L6-v2"
      ]
    },
    {
      "cell_type": "code",
      "execution_count": 24,
      "metadata": {},
      "outputs": [],
      "source": [
        "LLM_MODEL_NAME = \"gemini::gemini-1.5-flash\" #\"gemini-pro\"\n",
        "EMBEDDING_MODEL_NAME = \"gemini::models/text-embedding-004\"\n",
        "\n",
        "\n",
        "# Using gemini models, make sure that you have a Google API key:\n",
        "GOOGLE_API_KEY = getenv('GOOGLE_API_KEY')"
      ]
    },
    {
      "cell_type": "markdown",
      "metadata": {
        "id": "eUr5hUrPoijY"
      },
      "source": [
        "## Load Dataset\n",
        "The data is collected and by another source code: **places.ipynb** which could be found here:\n",
        "\n",
        "RestoRecommender:   \n",
        "https://drive.google.com/drive/folders/1lCt-lWE1CbGOuc0eQYUnWfzsyO_bTgCZ?usp=sharing\n",
        "\n",
        "And the collected data:\n",
        "https://drive.google.com/drive/folders/1UFYOc2HsPu5KHfyfwyE-P8p9MIC24ZjC?usp=sharing"
      ]
    },
    {
      "cell_type": "markdown",
      "metadata": {},
      "source": [
        "#### Example of places.csv:\n",
        "|place_id|place_name                   |place_types|place_address                                |place_average_ratings|place_ratings_count|place_reviews_count|place_location|place_website                                                                                    |place_phone_number|place_price_level      |place_primary_type|has_delivery|has_dine_in|is_reservable|serves_breakfast|serves_lunch|serves_dinner|serves_beer|serves_wine|places_opening_hours                                                                                                                                                                                                                                                                                                                                                                                                                                                                                                                                          |\n",
        "|--------|-----------------------------|-----------|---------------------------------------------|---------------------|-------------------|-------------------|--------------|-------------------------------------------------------------------------------------------------|------------------|-----------------------|------------------|------------|-----------|-------------|----------------|------------|-------------|-----------|-----------|--------------------------------------------------------------------------------------------------------------------------------------------------------------------------------------------------------------------------------------------------------------------------------------------------------------------------------------------------------------------------------------------------------------------------------------------------------------------------------------------------------------------------------------------------------------|\n",
        "|ChIJORN_mdnbfkcRq7g9fQtODbE|Rasa multi cuisine restaurant|['indian_restaurant', 'pizza_restaurant', 'restaurant', 'food', 'point_of_interest', 'establishment']|Via T. Aspetti, 51, 35132 Padova PD, Italy   |4.9                  |234                |                   |              |                                                                                                 |+39 347 360 4372  |                       |indian_restaurant |True        |True       |True         |                |True        |True         |True       |True       |['Monday: Closed', 'Tuesday: 7:00\\u2009–\\u200911:00\\u202fPM','...']                                                                                                                                                                                                                                                                                                                                                                                                                                                                                           |\n"
      ]
    },
    {
      "cell_type": "markdown",
      "metadata": {},
      "source": [
        "#### Example of reviews.csv:\n",
        "|place_id|review                       |review_rating|review_publish_time                          |review_publish_time_str|\n",
        "|--------|-----------------------------|-------------|---------------------------------------------|-----------------------|\n",
        "|ChIJORN_mdnbfkcRq7g9fQtODbE|Really gentle and humble people. On top, food’s quality is great. They are not just serving a regular Indian menu, they have items from different parts of India which makes them a unique place to try.|5            |2024-03-17T14:46:18Z                         |2 months ago           |\n"
      ]
    },
    {
      "cell_type": "code",
      "execution_count": 42,
      "metadata": {
        "id": "aONHvzXAoijZ"
      },
      "outputs": [],
      "source": [
        "def get_documents(content_func=lambda row:row['review'],\n",
        "                  source_func=lambda row:row['place_id'],\n",
        "                  metadata_fields=[]):\n",
        "\n",
        "  # Load both data files\n",
        "  places_df = pd.read_csv(PLACES_PATH)\n",
        "  reviews_df = pd.read_csv(REVIEWS_PATH)\n",
        "  reviews_df.drop_duplicates(inplace=True)\n",
        "  places_df.drop_duplicates(inplace=True)\n",
        "\n",
        "  # merge them on 'place_id'\n",
        "  merged_df = pd.merge(places_df, reviews_df, on='place_id', how='inner')\n",
        "\n",
        "  # add page_content and source columns using their corresponing functions\n",
        "  merged_df['page_content'] = merged_df.apply(content_func, axis=1)\n",
        "  merged_df['source'] = merged_df.apply(source_func, axis=1)\n",
        "\n",
        "  # update metadata_fields with 'page_content', 'source'\n",
        "  metadata_fields = list(set(metadata_fields + ['page_content', 'source']))\n",
        "\n",
        "  loader = DataFrameLoader(merged_df[metadata_fields],page_content_column='page_content')\n",
        "  return loader.load()"
      ]
    },
    {
      "cell_type": "code",
      "execution_count": 43,
      "metadata": {
        "id": "E5jUkJ8XoijZ"
      },
      "outputs": [],
      "source": [
        "# def content_func(row) -> str:\n",
        "#   content_fields = ['place_name', 'place_types', 'place_address', 'place_average_ratings', 'review']\n",
        "#   return '\\n'.join(f\"{key}={row[key]}\" for key in content_fields)\n",
        "\n",
        "def content_func(row) -> str:\n",
        "  content_fields = [\"place_name\",\n",
        "                    \"review\",\n",
        "                    \"place_address\",\n",
        "                    \"place_average_ratings\",\n",
        "                    \"place_price_level\",\n",
        "                    \"place_primary_type\",\n",
        "                    \"has_delivery\",\n",
        "                    \"is_reservable\",\n",
        "                    ]\n",
        "  return '\\n'.join(f\"{key}={row[key]}\" for key in content_fields)\n",
        "\n",
        "metadata_fields = [\"places_opening_hours\", \"place_website\", \"place_phone_number\",]\n",
        "\n",
        "documents = get_documents(content_func, metadata_fields=metadata_fields)"
      ]
    },
    {
      "cell_type": "code",
      "execution_count": 44,
      "metadata": {
        "colab": {
          "base_uri": "https://localhost:8080/"
        },
        "id": "WH4HR9emoijZ",
        "outputId": "fa47e9ba-3bdf-4c36-c553-300479119540"
      },
      "outputs": [
        {
          "name": "stdout",
          "output_type": "stream",
          "text": [
            "place_name=Rasa multi cuisine restaurant\n",
            "review=Really gentle and humble people. On top, food’s quality is great. They are not just serving a regular Indian menu, they have items from different parts of India which makes them a unique place to try.\n",
            "place_address=Via T. Aspetti, 51, 35132 Padova PD, Italy\n",
            "place_average_ratings=4.9\n",
            "place_price_level=nan\n",
            "place_primary_type=indian_restaurant\n",
            "has_delivery=True\n",
            "is_reservable=True\n",
            "{'place_phone_number': '+39 347 360 4372', 'source': 'ChIJORN_mdnbfkcRq7g9fQtODbE', 'place_website': nan, 'places_opening_hours': \"['Monday: Closed', 'Tuesday: 7:00\\\\u2009–\\\\u200911:00\\\\u202fPM', 'Wednesday: 7:00\\\\u2009–\\\\u200911:00\\\\u202fPM', 'Thursday: 12:00\\\\u2009–\\\\u20093:00\\\\u202fPM, 7:00\\\\u2009–\\\\u200911:00\\\\u202fPM', 'Friday: 12:00\\\\u2009–\\\\u20093:00\\\\u202fPM, 7:00\\\\u2009–\\\\u200911:00\\\\u202fPM', 'Saturday: 12:00\\\\u2009–\\\\u20093:00\\\\u202fPM, 7:00\\\\u2009–\\\\u200911:00\\\\u202fPM', 'Sunday: 12:00\\\\u2009–\\\\u20093:00\\\\u202fPM, 7:00\\\\u2009–\\\\u200911:00\\\\u202fPM']\"}\n"
          ]
        }
      ],
      "source": [
        "## Take a look at a sample document\n",
        "print(documents[0].page_content)\n",
        "print(documents[0].metadata)"
      ]
    },
    {
      "cell_type": "markdown",
      "metadata": {
        "id": "wLU4f9yqoija"
      },
      "source": [
        "## Load Embeddings model"
      ]
    },
    {
      "cell_type": "code",
      "execution_count": 33,
      "metadata": {},
      "outputs": [],
      "source": [
        "def get_hf_embedding_model(embedding_model_name,\n",
        "                           cache_embeddings_store=EMBEDDINGS_CACHE_STORE,\n",
        "                           device='cpu',\n",
        "                           normalize_embeddings=False,\n",
        "                           ):\n",
        "  model_kwargs = {'device': device}\n",
        "  encode_kwargs = {'normalize_embeddings': normalize_embeddings} # Set `True` for cosine similarity\n",
        "  embedding_model = HuggingFaceEmbeddings(\n",
        "      model_name=embedding_model_name,\n",
        "      model_kwargs=model_kwargs,\n",
        "      encode_kwargs=encode_kwargs\n",
        "      )\n",
        "  store = LocalFileStore(cache_embeddings_store)\n",
        "  embedding_model = CacheBackedEmbeddings.from_bytes_store(\n",
        "                    embedding_model, store)\n",
        "  return embedding_model"
      ]
    },
    {
      "cell_type": "code",
      "execution_count": 25,
      "metadata": {},
      "outputs": [],
      "source": [
        "embedding_provider, _sep, embedding_model =  EMBEDDING_MODEL_NAME.partition(\"::\")\n",
        "\n",
        "if _sep == \"\": # Default\n",
        "    embedding_provider = \"gemini\" \n",
        "    embedding_model = EMBEDDING_MODEL_NAME\n",
        "\n",
        "if embedding_provider == \"gemini\":\n",
        "    assert GOOGLE_API_KEY, \"Please set GOOGLE_API_KEY\"\n",
        "    embedding_model = GoogleGenerativeAIEmbeddings(model=embedding_model, google_api_key=GOOGLE_API_KEY)\n",
        "elif embedding_provider == \"hf\":\n",
        "    embedding_model = HuggingFaceEmbeddings(model_name=embedding_model)\n",
        "else:\n",
        "    raise ValueError(f\"Unknown embedding provider: {embedding_provider}\")"
      ]
    },
    {
      "cell_type": "code",
      "execution_count": 31,
      "metadata": {},
      "outputs": [
        {
          "name": "stdout",
          "output_type": "stream",
          "text": [
            "embedding shape: (768,)\n",
            "embedding norm: 0.9999997572765927\n"
          ]
        }
      ],
      "source": [
        "_embedding_example = embedding_model.embed_query(\"One sample query!\")\n",
        "array = np.array(_embedding_example)\n",
        "print(f\"embedding shape: {array.shape}\\nembedding norm: {np.linalg.norm(array, ord=2)}\")"
      ]
    },
    {
      "cell_type": "markdown",
      "metadata": {
        "id": "yZU69PxDoijg"
      },
      "source": [
        "## Create FAISS (Vector Database)"
      ]
    },
    {
      "cell_type": "code",
      "execution_count": 36,
      "metadata": {
        "id": "ClgYJkU5oijj"
      },
      "outputs": [],
      "source": [
        "def get_vector_database(documents, embedding_model, distance_strategy):\n",
        "\n",
        "  vector_database = FAISS.from_documents(\n",
        "      documents, embedding_model,\n",
        "      distance_strategy= distance_strategy\n",
        "      )\n",
        "  return vector_database"
      ]
    },
    {
      "cell_type": "code",
      "execution_count": 61,
      "metadata": {},
      "outputs": [],
      "source": [
        "import time\n",
        "from tqdm import trange\n",
        "def prepare_vector_db(distance_strategy=FAISS_DISTANCE_STRATEGY_COSINE, sleep_secs=10):\n",
        "    doclen = len(documents)\n",
        "    for batch in trange(doclen//EMBEDDINGS_BATCH_SIZE + 1):\n",
        "        docs = documents[batch*EMBEDDINGS_BATCH_SIZE:(batch+1)*EMBEDDINGS_BATCH_SIZE]\n",
        "        if batch ==0:\n",
        "            vector_db = get_vector_database(docs, embedding_model, distance_strategy=distance_strategy)\n",
        "        else:\n",
        "            vector_db.merge_from(get_vector_database(docs, embedding_model, distance_strategy=distance_strategy))\n",
        "        time.sleep(sleep_secs) # Sleep for 10 seconds to avoid hitting rate limits\n",
        "    return vector_db"
      ]
    },
    {
      "cell_type": "code",
      "execution_count": 66,
      "metadata": {},
      "outputs": [
        {
          "name": "stdout",
          "output_type": "stream",
          "text": [
            "Vector database loaded from: faiss_index_euclidean\n"
          ]
        }
      ],
      "source": [
        "distance_strategy = FAISS_DISTANCE_STRATEGY_EUCLIDEAN\n",
        "vector_db_path = FAISS_REVIEWS_PATH_COSINE if distance_strategy == FAISS_DISTANCE_STRATEGY_COSINE else FAISS_REVIEWS_PATH_EUCLIDEAN\n",
        "\n",
        "try:\n",
        "    # Try to load vector database\n",
        "    vector_db = FAISS.load_local(folder_path=vector_db_path,\n",
        "                             embeddings=embedding_model,\n",
        "                             index_name=FAISS_INDEX_NAME)\n",
        "except:\n",
        "    print(\"Could not load vector database, providing new one:\")\n",
        "    # Could not load vector database, providing new one\n",
        "    vector_db = prepare_vector_db()\n",
        "\n",
        "    # Save vector database\n",
        "    vector_db.save_local(folder_path=vector_db_path, index_name=FAISS_INDEX_NAME)\n",
        "\n",
        "    # Load vector database\n",
        "    vector_db = FAISS.load_local(folder_path=vector_db_path,\n",
        "                             embeddings=embedding_model,\n",
        "                             index_name=FAISS_INDEX_NAME)\n",
        "\n",
        "print(\"Vector database loaded from:\", vector_db_path )"
      ]
    },
    {
      "cell_type": "code",
      "execution_count": 67,
      "metadata": {},
      "outputs": [
        {
          "name": "stdout",
          "output_type": "stream",
          "text": [
            "page_content='place_name=Pizza Mia\\nreview=very good 😌\\nplace_address=Via B. M. Kolbe, 1E, 35020 Ponte San Nicolò PD, Italy\\nplace_average_ratings=4.3\\nplace_price_level=PRICE_LEVEL_INEXPENSIVE\\nplace_primary_type=meal_takeaway\\nhas_delivery=True\\nis_reservable=True' metadata={'place_phone_number': '+39 049 896 0507', 'source': 'ChIJXeYGFkvbfkcRX7-5-2Ew__o', 'place_website': 'https://m.facebook.com/PizzaMiaRoncaglia/', 'places_opening_hours': \"['Monday: 6:00\\\\u2009–\\\\u20099:30\\\\u202fPM', 'Tuesday: Closed', 'Wednesday: 6:00\\\\u2009–\\\\u20099:30\\\\u202fPM', 'Thursday: 6:00\\\\u2009–\\\\u20099:30\\\\u202fPM', 'Friday: 6:00\\\\u2009–\\\\u20099:30\\\\u202fPM', 'Saturday: 6:00\\\\u2009–\\\\u20099:30\\\\u202fPM', 'Sunday: 6:00\\\\u2009–\\\\u20099:30\\\\u202fPM']\"}\n",
            "\n",
            "page_content='place_name=Pizzeria Came\\nreview=The pizza is very good and the dough of excellent quality\\nplace_address=Via G. Garibaldi, 22, 35010 Cadoneghe PD, Italy\\nplace_average_ratings=4.0\\nplace_price_level=PRICE_LEVEL_INEXPENSIVE\\nplace_primary_type=meal_takeaway\\nhas_delivery=True\\nis_reservable=True' metadata={'place_phone_number': '+39 049 096 6688', 'source': 'ChIJK91FxQzQfkcRFn0s8iuCvj4', 'place_website': 'https://m.facebook.com/pizzeriacame/', 'places_opening_hours': \"['Monday: 6:00\\\\u2009–\\\\u200910:00\\\\u202fPM', 'Tuesday: 6:00\\\\u2009–\\\\u200910:00\\\\u202fPM', 'Wednesday: 6:00\\\\u2009–\\\\u200910:00\\\\u202fPM', 'Thursday: 6:00\\\\u2009–\\\\u200910:00\\\\u202fPM', 'Friday: 6:00\\\\u2009–\\\\u200910:00\\\\u202fPM', 'Saturday: 6:00\\\\u2009–\\\\u200910:00\\\\u202fPM', 'Sunday: 6:00\\\\u2009–\\\\u200910:00\\\\u202fPM']\"}\n",
            "\n",
            "page_content='place_name=New Pizza\\nreview=Great local pizzeria. Lots of options and good prices. Wonderful people too!\\nplace_address=Piazzetta Giovanelli, 56, 35027 Noventana PD, Italy\\nplace_average_ratings=4.0\\nplace_price_level=PRICE_LEVEL_INEXPENSIVE\\nplace_primary_type=meal_takeaway\\nhas_delivery=True\\nis_reservable=True' metadata={'place_phone_number': '+39 049 893 4153', 'source': 'ChIJMV_ibEjFfkcRI468Woetuaw', 'place_website': nan, 'places_opening_hours': \"['Monday: 6:00\\\\u2009–\\\\u200910:00\\\\u202fPM', 'Tuesday: Closed', 'Wednesday: 6:00\\\\u2009–\\\\u200910:00\\\\u202fPM', 'Thursday: 6:00\\\\u2009–\\\\u200910:00\\\\u202fPM', 'Friday: 6:00\\\\u2009–\\\\u200910:00\\\\u202fPM', 'Saturday: 6:00\\\\u2009–\\\\u200910:00\\\\u202fPM', 'Sunday: 6:00\\\\u2009–\\\\u200910:00\\\\u202fPM']\"}\n",
            "\n",
            "page_content='place_name=Pizza Mia\\nreview=Yummy !\\nplace_address=Via B. M. Kolbe, 1E, 35020 Ponte San Nicolò PD, Italy\\nplace_average_ratings=4.3\\nplace_price_level=PRICE_LEVEL_INEXPENSIVE\\nplace_primary_type=meal_takeaway\\nhas_delivery=True\\nis_reservable=True' metadata={'place_phone_number': '+39 049 896 0507', 'source': 'ChIJXeYGFkvbfkcRX7-5-2Ew__o', 'place_website': 'https://m.facebook.com/PizzaMiaRoncaglia/', 'places_opening_hours': \"['Monday: 6:00\\\\u2009–\\\\u20099:30\\\\u202fPM', 'Tuesday: Closed', 'Wednesday: 6:00\\\\u2009–\\\\u20099:30\\\\u202fPM', 'Thursday: 6:00\\\\u2009–\\\\u20099:30\\\\u202fPM', 'Friday: 6:00\\\\u2009–\\\\u20099:30\\\\u202fPM', 'Saturday: 6:00\\\\u2009–\\\\u20099:30\\\\u202fPM', 'Sunday: 6:00\\\\u2009–\\\\u20099:30\\\\u202fPM']\"}\n",
            "\n",
            "page_content='place_name=Pizzeria Al Quadrifoglio\\nreview=Excellent pizza, now I consider it as the comparison for all the other pizzas I order in other places, unfortunately it is always unattainable. Congratulations to the head pizza chef even if he has few words.\\nplace_address=Via Dante Alighieri, 4/a, 35020 Ponte San Nicolò PD, Italy\\nplace_average_ratings=4.2\\nplace_price_level=PRICE_LEVEL_INEXPENSIVE\\nplace_primary_type=pizza_restaurant\\nhas_delivery=True\\nis_reservable=True' metadata={'place_phone_number': '+39 049 717742', 'source': 'ChIJnS7Ewr7EfkcRqlfUIy8hk6c', 'place_website': 'https://m.facebook.com/PizzeriaAlQuadrifoglio/', 'places_opening_hours': \"['Monday: Closed', 'Tuesday: 6:00\\\\u2009–\\\\u200910:00\\\\u202fPM', 'Wednesday: 6:00\\\\u2009–\\\\u200910:00\\\\u202fPM', 'Thursday: 6:00\\\\u2009–\\\\u200910:00\\\\u202fPM', 'Friday: 6:00\\\\u2009–\\\\u200910:00\\\\u202fPM', 'Saturday: 6:00\\\\u2009–\\\\u200910:00\\\\u202fPM', 'Sunday: 6:00\\\\u2009–\\\\u200910:00\\\\u202fPM']\"}\n",
            "\n"
          ]
        }
      ],
      "source": [
        "docs = vector_db.similarity_search(\"Give me information about some of the best pizza restaurant in the city?\", k = 5)\n",
        "for doc in docs:\n",
        "    print(doc, end=\"\\n\\n\")"
      ]
    },
    {
      "cell_type": "code",
      "execution_count": 68,
      "metadata": {},
      "outputs": [
        {
          "name": "stdout",
          "output_type": "stream",
          "text": [
            "page_content='place_name=Enoteca Barcollo\\nreview=Top\\nplace_address=Via Alessandro Guidi, 23, 35142 Padova PD, Italy\\nplace_average_ratings=4.3\\nplace_price_level=PRICE_LEVEL_MODERATE\\nplace_primary_type=bar\\nhas_delivery=False\\nis_reservable=True' metadata={'place_phone_number': '+39 393 082 6866', 'source': 'ChIJwzs5vKLbfkcRp43hqXskPKw', 'place_website': nan, 'places_opening_hours': \"['Monday: Closed', 'Tuesday: Closed', 'Wednesday: 6:00\\\\u2009–\\\\u200911:00\\\\u202fPM', 'Thursday: 6:00\\\\u2009–\\\\u200911:00\\\\u202fPM', 'Friday: 6:00\\\\u2009–\\\\u200911:00\\\\u202fPM', 'Saturday: 6:00\\\\u2009–\\\\u200911:00\\\\u202fPM', 'Sunday: 6:00\\\\u2009–\\\\u200911:00\\\\u202fPM']\"}\n",
            "\n",
            "page_content='place_name=Enoteca Barcollo\\nreview=Brave!\\nplace_address=Via Alessandro Guidi, 23, 35142 Padova PD, Italy\\nplace_average_ratings=4.3\\nplace_price_level=PRICE_LEVEL_MODERATE\\nplace_primary_type=bar\\nhas_delivery=False\\nis_reservable=True' metadata={'place_phone_number': '+39 393 082 6866', 'source': 'ChIJwzs5vKLbfkcRp43hqXskPKw', 'place_website': nan, 'places_opening_hours': \"['Monday: Closed', 'Tuesday: Closed', 'Wednesday: 6:00\\\\u2009–\\\\u200911:00\\\\u202fPM', 'Thursday: 6:00\\\\u2009–\\\\u200911:00\\\\u202fPM', 'Friday: 6:00\\\\u2009–\\\\u200911:00\\\\u202fPM', 'Saturday: 6:00\\\\u2009–\\\\u200911:00\\\\u202fPM', 'Sunday: 6:00\\\\u2009–\\\\u200911:00\\\\u202fPM']\"}\n",
            "\n",
            "page_content='place_name=Ekidna Wine Bar\\nreview=top\\nplace_address=Via Padova, 200, 30030 Tombelle VE, Italy\\nplace_average_ratings=4.0\\nplace_price_level=PRICE_LEVEL_MODERATE\\nplace_primary_type=bar\\nhas_delivery=False\\nis_reservable=True' metadata={'place_phone_number': '+39 049 261 7948', 'source': 'ChIJrztZGajFfkcRzjH3MfPEWYs', 'place_website': nan, 'places_opening_hours': \"['Monday: 4:00\\\\u202fPM\\\\u2009–\\\\u20092:00\\\\u202fAM', 'Tuesday: 7:00\\\\u202fAM\\\\u2009–\\\\u20092:00\\\\u202fAM', 'Wednesday: 7:00\\\\u202fAM\\\\u2009–\\\\u20092:00\\\\u202fAM', 'Thursday: 7:00\\\\u202fAM\\\\u2009–\\\\u20092:00\\\\u202fAM', 'Friday: 7:00\\\\u202fAM\\\\u2009–\\\\u20092:00\\\\u202fAM', 'Saturday: 7:00\\\\u202fAM\\\\u2009–\\\\u20092:00\\\\u202fAM', 'Sunday: 7:00\\\\u202fAM\\\\u2009–\\\\u20092:00\\\\u202fAM']\"}\n",
            "\n",
            "page_content='place_name=Ekidna Wine Bar\\nreview=Super!\\nplace_address=Via Padova, 200, 30030 Tombelle VE, Italy\\nplace_average_ratings=4.0\\nplace_price_level=PRICE_LEVEL_MODERATE\\nplace_primary_type=bar\\nhas_delivery=False\\nis_reservable=True' metadata={'place_phone_number': '+39 049 261 7948', 'source': 'ChIJrztZGajFfkcRzjH3MfPEWYs', 'place_website': nan, 'places_opening_hours': \"['Monday: 4:00\\\\u202fPM\\\\u2009–\\\\u20092:00\\\\u202fAM', 'Tuesday: 7:00\\\\u202fAM\\\\u2009–\\\\u20092:00\\\\u202fAM', 'Wednesday: 7:00\\\\u202fAM\\\\u2009–\\\\u20092:00\\\\u202fAM', 'Thursday: 7:00\\\\u202fAM\\\\u2009–\\\\u20092:00\\\\u202fAM', 'Friday: 7:00\\\\u202fAM\\\\u2009–\\\\u20092:00\\\\u202fAM', 'Saturday: 7:00\\\\u202fAM\\\\u2009–\\\\u20092:00\\\\u202fAM', 'Sunday: 7:00\\\\u202fAM\\\\u2009–\\\\u20092:00\\\\u202fAM']\"}\n",
            "\n",
            "page_content='place_name=Ekidna Wine Bar\\nreview=sup\\nplace_address=Via Padova, 200, 30030 Tombelle VE, Italy\\nplace_average_ratings=4.0\\nplace_price_level=PRICE_LEVEL_MODERATE\\nplace_primary_type=bar\\nhas_delivery=False\\nis_reservable=True' metadata={'place_phone_number': '+39 049 261 7948', 'source': 'ChIJrztZGajFfkcRzjH3MfPEWYs', 'place_website': nan, 'places_opening_hours': \"['Monday: 4:00\\\\u202fPM\\\\u2009–\\\\u20092:00\\\\u202fAM', 'Tuesday: 7:00\\\\u202fAM\\\\u2009–\\\\u20092:00\\\\u202fAM', 'Wednesday: 7:00\\\\u202fAM\\\\u2009–\\\\u20092:00\\\\u202fAM', 'Thursday: 7:00\\\\u202fAM\\\\u2009–\\\\u20092:00\\\\u202fAM', 'Friday: 7:00\\\\u202fAM\\\\u2009–\\\\u20092:00\\\\u202fAM', 'Saturday: 7:00\\\\u202fAM\\\\u2009–\\\\u20092:00\\\\u202fAM', 'Sunday: 7:00\\\\u202fAM\\\\u2009–\\\\u20092:00\\\\u202fAM']\"}\n",
            "\n"
          ]
        }
      ],
      "source": [
        "question = \"where is the Enoteca Barcollo located? and what is its phone number?\"\n",
        "\n",
        "docs = vector_db.similarity_search(question, k = 5)\n",
        "\n",
        "for i in range(5):\n",
        "  print(docs[i], end=\"\\n\\n\")"
      ]
    },
    {
      "cell_type": "markdown",
      "metadata": {},
      "source": [
        "## Load Vector Database"
      ]
    },
    {
      "cell_type": "code",
      "execution_count": 22,
      "metadata": {},
      "outputs": [],
      "source": [
        "from langchain_google_genai import GoogleGenerativeAIEmbeddings, ChatGoogleGenerativeAI\n",
        "from langchain_community.vectorstores import FAISS\n",
        "from langchain.storage import LocalFileStore\n",
        "from langchain.embeddings import CacheBackedEmbeddings\n",
        "from os import getenv\n",
        "import dotenv\n",
        "dotenv.load_dotenv()\n",
        "\n",
        "\n",
        "# Faiss\n",
        "FAISS_REVIEWS_PATH_EUCLIDEAN = \"faiss_index_euclidean\"\n",
        "FAISS_INDEX_NAME = \"index\"\n",
        "FAISS_DISTANCE_STRATEGY='EUCLIDEAN_DISTANCE'\n",
        "EMBEDDING_MODEL_NAME = \"models/text-embedding-004\"\n",
        "EMBEDDINGS_CACHE_STORE=\"./cache/\"\n",
        "\n",
        "GOOGLE_API_KEY = getenv('GOOGLE_API_KEY')\n",
        "\n",
        "embedding_model = GoogleGenerativeAIEmbeddings(model=EMBEDDING_MODEL_NAME)\n",
        "store = LocalFileStore(EMBEDDINGS_CACHE_STORE)\n",
        "embedding_model = CacheBackedEmbeddings.from_bytes_store(embedding_model, store)\n",
        "\n",
        "vector_db = FAISS.load_local(folder_path=FAISS_REVIEWS_PATH_EUCLIDEAN,\n",
        "                             embeddings=embedding_model,\n",
        "                             index_name=FAISS_INDEX_NAME,\n",
        "                             allow_dangerous_deserialization=True)"
      ]
    },
    {
      "cell_type": "markdown",
      "metadata": {
        "id": "Rk1-sq8Voijw"
      },
      "source": [
        "## Load LLM"
      ]
    },
    {
      "cell_type": "code",
      "execution_count": null,
      "metadata": {},
      "outputs": [],
      "source": [
        "def get_hf_llm(model_name):\n",
        "  from transformers import pipeline\n",
        "  from transformers import AutoTokenizer, AutoModelForCausalLM, BitsAndBytesConfig\n",
        "  import torch\n",
        "\n",
        "  bnb_config = BitsAndBytesConfig(\n",
        "      load_in_4bit=True,\n",
        "      bnb_4bit_use_double_quant=True,\n",
        "      bnb_4bit_quant_type=\"nf4\",\n",
        "      bnb_4bit_compute_dtype=torch.bfloat16,\n",
        "  )\n",
        "  model = AutoModelForCausalLM.from_pretrained(model_name, quantization_config=bnb_config, )\n",
        "  tokenizer = AutoTokenizer.from_pretrained(model_name)\n",
        "\n",
        "  pipe = pipeline(\n",
        "      model=model,\n",
        "      tokenizer=tokenizer,\n",
        "      return_full_text=True,  # langchain expects the full text\n",
        "      task='text-generation',\n",
        "      # we pass model parameters here too\n",
        "      temperature=0.0001,  # 'randomness' of outputs, 0.0 is the min and 1.0 the max\n",
        "      max_new_tokens=512,  # mex number of tokens to generate in the output\n",
        "      repetition_penalty=1.1  # without this output begins repeating\n",
        "  )\n",
        "\n",
        "  llm = HuggingFacePipeline(pipeline=pipe,)\n",
        "  return llm"
      ]
    },
    {
      "cell_type": "code",
      "execution_count": 70,
      "metadata": {},
      "outputs": [],
      "source": [
        "llm_provider, _sep, llm_model_name = LLM_MODEL_NAME.partition('::')\n",
        "\n",
        "if _sep == \"\": # Default\n",
        "    llm_provider = \"gemini\" \n",
        "    llm_model_name = LLM_MODEL_NAME\n",
        "\n",
        "if llm_provider == \"gemini\":\n",
        "    assert GOOGLE_API_KEY, \"Please set GOOGLE_API_KEY\"\n",
        "    llm = ChatGoogleGenerativeAI(model=llm_model_name, google_api_key=GOOGLE_API_KEY)\n",
        "elif llm_provider == \"hf\":\n",
        "    llm = get_hf_llm(model_name=llm_model_name)\n",
        "else:\n",
        "    raise ValueError(f\"Unknown LLM provider: {llm_provider}\")"
      ]
    },
    {
      "cell_type": "code",
      "execution_count": 71,
      "metadata": {},
      "outputs": [
        {
          "data": {
            "text/plain": [
              "AIMessage(content='Hi! What can I do for you today? \\n')"
            ]
          },
          "execution_count": 71,
          "metadata": {},
          "output_type": "execute_result"
        }
      ],
      "source": [
        "llm.invoke(\"Hi\")"
      ]
    },
    {
      "cell_type": "markdown",
      "metadata": {
        "id": "d4SU2uzJoijz"
      },
      "source": [
        "## Create LangChain pipeline"
      ]
    },
    {
      "cell_type": "code",
      "execution_count": 72,
      "metadata": {},
      "outputs": [],
      "source": [
        "from langchain.prompts import (\n",
        "    PromptTemplate,\n",
        "    SystemMessagePromptTemplate,\n",
        "    HumanMessagePromptTemplate,\n",
        "    ChatPromptTemplate,)\n",
        "from langchain_core.output_parsers import StrOutputParser\n",
        "from langchain_community.vectorstores import FAISS\n",
        "from langchain.schema.runnable import RunnablePassthrough"
      ]
    },
    {
      "cell_type": "markdown",
      "metadata": {},
      "source": [
        "### Prompt evolution\n",
        "\n",
        "\n",
        "#### Prompt 1: \n",
        "\n",
        "```\n",
        "Use\n",
        "the following context to answer questions.\n",
        "context:\n",
        "{context}\n",
        "```\n",
        "\n",
        "**Results:**\n",
        "1. Q: \"What are the most affordable but high-quality restaurants in City?\"   A: \"The context you provided doesn't specify a city, so I can't answer the question about the most affordable high-quality restaurants in that city. \n",
        "\n",
        "However, I can tell you that based on the information provided, these restaurants seem to offer good value for money:\n",
        "\n",
        "* **Ristorante Locanda Munerato:**  This Italian restaurant is rated 4.0 stars and is considered inexpensive. The review says it's the \"Best bang for your buck.\"\n",
        "* **Circolo RIST. Giusti:** This restaurant has a fixed menu for 15€, which is considered good value for money. It's described as a good option for eating cheaply and well in an Italian atmosphere.\n",
        "* **Le Midi:** This restaurant offers a complete menu for €12.50, which is also considered good value for money. \n",
        "* **Da Pippo:** This Italian restaurant offers a full meal with wine, water, and coffee for 12€.\n",
        "* **Pizzeria Sotto Casa:** This pizzeria offers a good pizza and two drinks for 12 euros, which is considered reasonable.\n",
        "\n",
        "**To find the best restaurants in a specific city, I recommend using a search engine or a restaurant review website like Yelp or TripAdvisor.** You can then filter your results by price and rating to find the most affordable options. \n",
        "\"\n",
        "\n",
        "\n",
        "\n",
        "2. Q: \"What is RAG?\"   A: \"The provided text doesn't contain any information about RAG.  RAG is a term commonly used in the context of artificial intelligence and machine learning, and it likely refers to **Retrieval-Augmented Generation**. \n",
        "\n",
        "**Retrieval-Augmented Generation (RAG)** is a technique that combines information retrieval with language models. It allows AI systems to:\n",
        "\n",
        "1. **Retrieve relevant information** from a knowledge base or external sources.\n",
        "2. **Use that information** to generate more accurate, informative, and contextually relevant responses. \n",
        "\n",
        "For example, a RAG-powered chatbot could access a database of product information and use it to answer customer questions about specific products. \n",
        "\n",
        "If you'd like to learn more about RAG, please let me know! \"\n",
        "\n",
        "#### Prompt 2: \n",
        "```\n",
        "Your job is to use Google Map\n",
        "reviews to answer questions about their experience at a restaurant. Use\n",
        "the following context to answer questions. provide a brief answer. If you don't know\n",
        "an answer based on the context, say user to search online: {context}\n",
        "....\n",
        "```\n",
        "**Results:**\n",
        "1. Q: \"What are the most affordable but high-quality restaurants in City?\"   A: \"The provided reviews mention several affordable restaurants with high quality, but they don't specify the city. To answer your question, I need to know what city you're interested in.  \n",
        "\"\n",
        "\n",
        "\n",
        "2. Q: \"What is RAG?\"   A: \"The provided Google Map reviews don't mention anything about \"RAG\".  You'll need to search online for more information.\n",
        "\n",
        "\n",
        "#### Prompt 3: \n",
        "```\n",
        "Your job is to use Google Map restaurants and bars reviews to help people find best places to go for a meal or a drink.\n",
        "Use the following information and reviews to answer the questions. if the context is not about restaurants,\n",
        "then kindly tell the user that you can only provide assistance and answer questions related to restaurants.\n",
        "If you don't know an answer based on the context, say you don't know. Answer context:\n",
        "{context}\n",
        "```\n",
        "**Results:**\n",
        "1. Q: \"What are the most affordable but high-quality restaurants in City?\"   A: \"I can only answer questions related to restaurants. Based on the reviews, here are some affordable and highly rated restaurants in Padova:\n",
        "\n",
        "* **Ristorante Locanda Munerato:**  This Italian restaurant is known for being \"best bang for your buck\". \n",
        "* **Circolo RIST. Giusti:** This restaurant offers a fixed menu for 15€, which is considered good value for money.\n",
        "* **Da Pippo:** This Italian restaurant offers a full meal with wine, water, and coffee for 12€.\n",
        "* **Pizzeria Sotto Casa:** This pizzeria offers a good pizza and two drinks for 12 euros. \n",
        "* **Bocca della Verità:** This pizza restaurant has good food and is pretty cheap. \n",
        "\n",
        "These restaurants are all rated highly and are considered to be affordable options.  \n",
        "\"\n",
        "\n",
        "\n",
        "2. Q: \"What is RAG?\"   A: \"I'm sorry, but I don't have any information about \"RAG\" in the context of the provided restaurant reviews.  My knowledge is limited to the information in the text.\n",
        "\n",
        "\n",
        "\n",
        "\n"
      ]
    },
    {
      "cell_type": "markdown",
      "metadata": {},
      "source": [
        "### Final prompt:"
      ]
    },
    {
      "cell_type": "code",
      "execution_count": 110,
      "metadata": {},
      "outputs": [],
      "source": [
        "# review_template_str = \"\"\"\n",
        "# Your job is to use Google Map\n",
        "# reviews to answer questions about their experience at a restaurant. Use\n",
        "# the following context to answer questions. Be as detailed as possible, but\n",
        "# don't make up any information that's not from the context. If you don't know\n",
        "# an answer based on the context, say you don't know.\n",
        "# context:\n",
        "# {context}\n",
        "# \"\"\"\n",
        "\n",
        "# review_template_str = \"\"\"Your job is to use Google Map restaurants and bars reviews to help people find best places to go for a meal or a drink.\n",
        "# Use the following information and reviews to answer the questions. if the context is not about restaurants,\n",
        "# then kindly tell the user that you can only provide assistance and answer questions related to restaurants.\n",
        "# If you don't know an answer based on the context, say you don't know. Answer context:\n",
        "# {context}\n",
        "# \"\"\"\n",
        "\n",
        "\n",
        "review_template_str = \"\"\"Your job is to use Google Map\n",
        "reviews to answer questions about their experience at a restaurant. Use\n",
        "the following context to answer questions. provide a brief answer. If you don't know\n",
        "an answer based on the context, say user to search online: {context}\"\"\"\n"
      ]
    },
    {
      "cell_type": "code",
      "execution_count": 107,
      "metadata": {
        "id": "GNPL6u4EkAW3"
      },
      "outputs": [],
      "source": [
        "system_prompt = SystemMessagePromptTemplate(\n",
        "    prompt=PromptTemplate(\n",
        "        input_variables=[\"context\"], template=review_template_str\n",
        "    )\n",
        ")\n",
        "\n",
        "human_prompt = HumanMessagePromptTemplate(\n",
        "    prompt=PromptTemplate(input_variables=[\"question\"], template=\"{question}\")\n",
        ")\n",
        "messages = [system_prompt, human_prompt]\n",
        "\n",
        "review_prompt_template = ChatPromptTemplate(\n",
        "    input_variables=[\"context\", \"question\"], messages=messages\n",
        ")\n",
        "\n",
        "reviews_retriever = vector_db.as_retriever(search_kwargs={'k': 20,})\n",
        "\n",
        "review_chain = (\n",
        "    {\"context\": reviews_retriever, \"question\": RunnablePassthrough()}\n",
        "    | review_prompt_template\n",
        "    | llm\n",
        "    | StrOutputParser()\n",
        ")"
      ]
    },
    {
      "cell_type": "markdown",
      "metadata": {},
      "source": [
        "## Sample usage"
      ]
    },
    {
      "cell_type": "code",
      "execution_count": 111,
      "metadata": {},
      "outputs": [
        {
          "name": "stdout",
          "output_type": "stream",
          "text": [
            "Here are some places mentioned in the reviews that serve delicious pizzas:\n",
            "\n",
            "* **New Pizza:**  One reviewer called it their new favorite pizzeria in the area, praising the deliciousness, strong flavors, and punctuality of deliveries.\n",
            "* **Officina Della Pizza:**  Reviewers described it as exceptional, with delicious pizzas made with quality ingredients. They also mentioned the courteous and kind staff.\n",
            "* **Master Pizza:**  This pizzeria was praised for its kind staff, accurate delivery times, and delicious dough that is dry, tasty, and never hard.\n",
            "* **da Pino Padova:**  This restaurant was highlighted for its exceptional pizza with a perfectly crispy crust and rich, flavorful sauce. The reviewer recommended the pepperoni pizza.\n",
            "* **Pizzeria Al Quadrifoglio:**  Reviewers raved about the excellent pizza and quick, friendly service. One reviewer even said it sets the standard for all other pizzas they order. \n",
            "* **Pizzeria Antica Osteria Dazzo:**  This restaurant was praised for its amazing pizza with delicious ingredients and friendly, prompt service. The reviewer also mentioned the good beer selection.\n",
            "* **Crazy Pizza:**  This pizzeria was described as having a wood-burning oven, fresh products, and a wide variety of pizzas, including options for customers with allergies. They also mentioned the kindness and professionalism of the staff.\n",
            "* **Pizzalonga Away Ponte San Nicolò:**  Reviewers loved the delicate, tasty pizza with fresh ingredients and efficient service. \n",
            "* **pizzeria la poesia:**  One reviewer called it the most delicious pizza they've ever had, praising the quality of the ingredients and the humorous owner who speaks English.\n",
            "* **Pizzeria Pin Up:**  Reviewers praised the tasty and light dough, quality food, and kind staff.\n",
            "* **Pizzalonga Away Noventa Padovana:**  This pizzeria was described as having the best pizza ever, with a perfect base, delicious toppings, and excellent service.\n",
            "* **Antica Pizza:**  One reviewer said this pizzeria makes truly exceptional pizza, comparing it to biting into a €1200 iPhone. \n",
            "\n"
          ]
        }
      ],
      "source": [
        "question = \"\"\"Where can I find delicious pizzas?\"\"\"\n",
        "print(review_chain.invoke(question))"
      ]
    },
    {
      "cell_type": "code",
      "execution_count": 113,
      "metadata": {
        "colab": {
          "base_uri": "https://localhost:8080/"
        },
        "id": "32GruWzvuWnM",
        "outputId": "b53bc31b-0755-4fe6-99ce-5539fccb8b05"
      },
      "outputs": [
        {
          "name": "stdout",
          "output_type": "stream",
          "text": [
            "The reviews mention several places with delicious pizzas:\n",
            "\n",
            "* **New Pizza:**  Reviewers rave about the delicious pizza, strong flavors, and punctuality of deliveries.\n",
            "* **Officina Della Pizza:**  Reviewers highlight the exceptional pizzas with quality ingredients and the courteous staff.\n",
            "* **Master Pizza:**  Reviewers praise the delicious dough, kind staff, and hot, steaming pizzas.\n",
            "* **da Pino Padova:**  Reviewers highlight the perfectly balanced crust, flavorful sauce, and fresh toppings.\n",
            "* **Pizzeria Al Quadrifoglio:**  Reviewers mention the excellent pizza, quick service, and friendly staff.\n",
            "* **Pizzeria Antica Osteria Dazzo:**  Reviewers emphasize the amazing pizza with delicious ingredients, friendly service, and a wide selection of flavors.\n",
            "* **Crazy Pizza:**  Reviewers appreciate the woodburning oven, fresh products, variety of pizzas, and kind staff.\n",
            "* **Pizzalonga Away Ponte San Nicolò:**  Reviewers highlight the delicious and delicate pizza, fresh ingredients, and efficient service.\n",
            "* **pizzeria la poesia:**  Reviewers describe the pizza as one of the most delicious they've ever had, with a special ingredient: love.\n",
            "* **Pizzeria Pin Up:**  Reviewers mention the tasty and light dough, quality food, and kind staff.\n",
            "* **Pizzalonga Away Noventa Padovana:**  Reviewers praise the perfect base, delicious toppings, and angelic service.\n",
            "* **Antica Pizza:**  Reviewers describe the pizza as truly exceptional, comparing it to a luxurious item. \n",
            "\n",
            "Based on the reviews, all of these places seem to offer delicious pizzas. \n",
            "\n"
          ]
        }
      ],
      "source": [
        "question = \"\"\"Where can I find delicious pizzas?\"\"\"\n",
        "print(review_chain.invoke(question))"
      ]
    },
    {
      "cell_type": "code",
      "execution_count": 30,
      "metadata": {
        "colab": {
          "base_uri": "https://localhost:8080/"
        },
        "id": "LzzRDTT6tTrt",
        "outputId": "2ea12f61-646e-45fb-839c-595749536e43"
      },
      "outputs": [
        {
          "name": "stdout",
          "output_type": "stream",
          "text": [
            "Here are the pros and cons of Ristorante Napoli Centrale based on the Google Map reviews:\n",
            "\n",
            "**Pros:**\n",
            "\n",
            "* **Delicious food:** Reviews mention tasty pizza, grilled branzino fish, seafood pasta, and desserts.\n",
            "* **Good service:**  Reviewers describe the service as nice, great, and excellent. They also mention the staff is friendly and attentive.\n",
            "* **Cute atmosphere:** One reviewer found the place to be cute. \n",
            "\n",
            "**Cons:**\n",
            "\n",
            "*  The reviews don't mention any specific cons about the restaurant. \n",
            "\n"
          ]
        }
      ],
      "source": [
        "question = \"\"\"What are the pros and cons of Napoli Centrale?\"\"\"\n",
        "print(review_chain.invoke(question))"
      ]
    },
    {
      "cell_type": "code",
      "execution_count": 116,
      "metadata": {},
      "outputs": [
        {
          "name": "stdout",
          "output_type": "stream",
          "text": [
            "Here are some good steak houses based on the reviews:\n",
            "\n",
            "* **Vecchio Falconiere:**  \n",
            "    * Address: Via Umberto I, 31, 35122 Padova PD, Italy\n",
            "    * Phone: +39 049 656544 \n",
            "    * Review: \"This family run restaurant services food with passion and the owner is so friendly, and cook the steak on table size. There are a big variety of steak, from local to Wangu beef, and different sizes as well.\"\n",
            "\n",
            "* **La Fiorentina:** \n",
            "    * Address: Via G. Marconi, 123, 35020 Ponte San Nicolò PD, Italy\n",
            "    * Phone: +39 049 816 4672\n",
            "    * Review: \"I had dinner with a slice of beef cooked to perfection seasoned with parmesan rocket and balsamic vinegar and accompanied by a totally USELESS knife because that cut of meat was so tender.\"\n",
            "\n",
            "* **Osteria BocaBona:** \n",
            "    * Address: Str. Pelosa, 4, 35136 Padova PD, Italy\n",
            "    * Phone: +39 049 871 3898\n",
            "    * Review: \"Excellent choice of meats, matured and cooked very well. Excellent beef steak.\" \n",
            "\n",
            "* **Roadhouse Grill:** \n",
            "    * Address: Via Pietro Donà, 2, 35100 Padova PD, Italy\n",
            "    * Phone: +39 049 780 8353\n",
            "    * Review: \"The best steak house in Padova. Start your meal with ribs’ bucket and go for a great steak afterwards.\"\n",
            "\n",
            "* **Osteria Nonna Pina:**\n",
            "    * Address: Via Roma, 65, 35027 Noventa Padovana PD, Italy\n",
            "    * Phone: +39 049 830 6301\n",
            "    * Review: \"incredibly stylish interior, outdoor grill and the most delicious meat I have ever tasted. Meat with the right texture and every dish with good ingredients. beautiful glasses and delicious wine.\" \n",
            "\n"
          ]
        }
      ],
      "source": [
        "question = \"\"\"Give the name, address and phone number of some good steak houses for a romantic dinner.\"\"\"\n",
        "print(review_chain.invoke(question))"
      ]
    },
    {
      "cell_type": "code",
      "execution_count": 54,
      "metadata": {},
      "outputs": [
        {
          "name": "stdout",
          "output_type": "stream",
          "text": [
            "I can't definitively say which restaurant is \"best\" as that's subjective. However, based on the reviews and price level, here are some options for steak houses in Padova with a 50 euro budget:\n",
            "\n",
            "* **Roadhouse Grill:**  This steak house is highly recommended by reviewers for its delicious meat.  The price range is a little above average, but worth it for the quality.  \n",
            "    * **Address:** Via Pietro Donà, 2, 35100 Padova PD, Italy\n",
            "    * **Phone:** +39 049 780 8353\n",
            "* **Ristorante Vecchio Falconiere:** This restaurant is known for its large selection of steaks, cooked on a table-sized grill. The owner is friendly and passionate about his food.\n",
            "    * **Address:** Via Umberto I, 31, 35122 Padova PD, Italy\n",
            "    * **Phone:** +39 049 656544\n",
            "* **Osteria BocaBona:** This restaurant offers a wide variety of well-matured and cooked meats, including excellent beef steak. \n",
            "    * **Address:** Str. Pelosa, 4, 35136 Padova PD, Italy\n",
            "    * **Phone:** +39 049 871 3898\n",
            "\n",
            "Remember, prices can vary depending on the specific cuts of meat you choose. It's always a good idea to call ahead to confirm availability and pricing. \n",
            "\n"
          ]
        }
      ],
      "source": [
        "question = \"\"\"Give the name, address and phone number of the best steak houses with a 50 euro budget?\"\"\"\n",
        "\n",
        "print(review_chain.invoke(question))"
      ]
    },
    {
      "cell_type": "code",
      "execution_count": 112,
      "metadata": {},
      "outputs": [
        {
          "name": "stdout",
          "output_type": "stream",
          "text": [
            "Here are some good sandwich places based on the Google Maps reviews:\n",
            "\n",
            "* **Panini e bibite da Sandro e Eugenio**: \n",
            "    * Address: Via Cardinale Callegari, 63, 35133 Padova PD, Italy\n",
            "    * Phone: +39 339 219 7526\n",
            "* **Paninaro**:\n",
            "    * Address: Via Messico, 46/53, 35127 Padova PD, Italy\n",
            "    * Phone: User to search online (phone number not available in the context) \n",
            "* **DAL BAFFO**: \n",
            "    * Address: Corso Stati Uniti, 18, 35127 Padova PD, Italy\n",
            "    * Phone: User to search online (phone number not available in the context) \n",
            "* **Corner**:\n",
            "    * Address: Via Cattaro, 20, 35135 Padova PD, Italy\n",
            "    * Phone: +39 351 669 4354 \n",
            "\n"
          ]
        }
      ],
      "source": [
        "question = \"\"\"Give the name, address and phone number of the some good sandwich places?\"\"\"\n",
        "print(review_chain.invoke(question))"
      ]
    },
    {
      "cell_type": "code",
      "execution_count": 117,
      "metadata": {},
      "outputs": [
        {
          "name": "stdout",
          "output_type": "stream",
          "text": [
            "The provided reviews mention several affordable restaurants with high quality, but they don't specify the city. To answer your question, I need to know what city you're interested in. \n",
            "\n"
          ]
        }
      ],
      "source": [
        "question = \"\"\"What are the most affordable but high-quality restaurants in City?\"\"\"\n",
        "result = review_chain.invoke(question)\n",
        "print(result)"
      ]
    },
    {
      "cell_type": "code",
      "execution_count": 119,
      "metadata": {},
      "outputs": [
        {
          "name": "stdout",
          "output_type": "stream",
          "text": [
            "User to search online. \n",
            "\n"
          ]
        }
      ],
      "source": [
        "question = \"\"\"How can I make a roast beef sandwich at home?\"\"\"\n",
        "print(review_chain.invoke(question))"
      ]
    },
    {
      "cell_type": "code",
      "execution_count": 120,
      "metadata": {},
      "outputs": [
        {
          "name": "stdout",
          "output_type": "stream",
          "text": [
            "The provided Google Map reviews don't mention anything about \"RAG\".  You'll need to search online for more information. \n",
            "\n"
          ]
        }
      ],
      "source": [
        "question = \"\"\"What is RAG?\"\"\"\n",
        "print(review_chain.invoke(question))"
      ]
    },
    {
      "cell_type": "code",
      "execution_count": 122,
      "metadata": {},
      "outputs": [
        {
          "name": "stdout",
          "output_type": "stream",
          "text": [
            "This question is not answerable from the provided Google Maps reviews. I need more information about Natural Language Processing to answer your question. \n",
            "\n"
          ]
        }
      ],
      "source": [
        "question = \"\"\"What is Natural Language Processing?\"\"\"\n",
        "print(review_chain.invoke(question))"
      ]
    },
    {
      "cell_type": "code",
      "execution_count": 121,
      "metadata": {},
      "outputs": [
        {
          "name": "stdout",
          "output_type": "stream",
          "text": [
            "Natural Language Processing (NLP) is a field of computer science that focuses on enabling computers to understand, interpret, and generate human language. It's like teaching computers to \"speak\" and \"read\" like we do. \n",
            "\n",
            "Here's a breakdown:\n",
            "\n",
            "**What NLP Does:**\n",
            "\n",
            "* **Understanding Language:** NLP systems analyze text and speech to extract meaning, identify patterns, and understand the context. This involves tasks like:\n",
            "    * **Text Classification:** Categorizing text into different types (e.g., news, reviews, spam)\n",
            "    * **Sentiment Analysis:** Determining the emotional tone of text (e.g., positive, negative, neutral)\n",
            "    * **Named Entity Recognition:** Identifying key entities in text (e.g., people, places, organizations)\n",
            "    * **Part-of-Speech Tagging:** Identifying the grammatical role of words (e.g., noun, verb, adjective)\n",
            "* **Generating Language:** NLP systems can create natural-sounding text or speech, including:\n",
            "    * **Machine Translation:** Translating text from one language to another\n",
            "    * **Text Summarization:** Condensing large amounts of text into shorter summaries\n",
            "    * **Chatbots:** Creating conversational agents that can interact with humans\n",
            "    * **Speech Synthesis:** Generating synthetic speech from text\n",
            "\n",
            "**How NLP Works:**\n",
            "\n",
            "NLP relies on various techniques, including:\n",
            "\n",
            "* **Machine Learning:** Training algorithms on large datasets of text and speech to learn patterns and relationships.\n",
            "* **Deep Learning:** Using artificial neural networks to model complex language structures and relationships.\n",
            "* **Rule-Based Systems:** Defining specific rules and patterns for language processing.\n",
            "\n",
            "**Examples of NLP in Action:**\n",
            "\n",
            "* **Virtual assistants:** Siri, Alexa, and Google Assistant use NLP to understand your voice commands and respond accordingly.\n",
            "* **Social media monitoring:** Businesses use NLP to track brand mentions, analyze customer sentiment, and identify trends.\n",
            "* **Spam filtering:** Email providers use NLP to identify and block spam emails.\n",
            "* **Search engines:** Google and Bing use NLP to understand your search queries and deliver relevant results.\n",
            "\n",
            "**The Future of NLP:**\n",
            "\n",
            "NLP is a rapidly evolving field with immense potential. We can expect to see even more sophisticated and powerful NLP applications in the future, such as:\n",
            "\n",
            "* **Advanced machine translation:** Enabling seamless communication across language barriers.\n",
            "* **Personalized AI assistants:** Providing tailored experiences and support based on individual needs.\n",
            "* **Automated content creation:** Generating high-quality written and spoken content.\n",
            "\n",
            "In essence, NLP is bridging the gap between humans and computers, enabling machines to understand and interact with us in a more natural and intuitive way. \n",
            "\n"
          ]
        }
      ],
      "source": [
        "question = \"\"\"Explain Natural Language Processing.\"\"\"\n",
        "print(review_chain.invoke(question))"
      ]
    },
    {
      "cell_type": "markdown",
      "metadata": {},
      "source": [
        "## Evaluation on Synthetic Questions"
      ]
    },
    {
      "cell_type": "code",
      "execution_count": 39,
      "metadata": {},
      "outputs": [],
      "source": [
        "from pprint import pprint\n",
        "import random"
      ]
    },
    {
      "cell_type": "code",
      "execution_count": 40,
      "metadata": {},
      "outputs": [],
      "source": [
        "def get_question_answer_pairs(documents, generator_llm, num_pairs=30):\n",
        "  question_answer_pairs = []\n",
        "  for _ in range(num_pairs):\n",
        "    document = random.choice(documents)\n",
        "    page_content = document.page_content\n",
        "    prompt = f\"This is a factual text passage: {page_content}. Write only one question about the restaurant based on the provided text passage. only write the question and nothing else.\"\n",
        "\n",
        "    question = generator_llm.invoke(prompt).content\n",
        "    answer = generator_llm.invoke(f\"From the following passage, answer the question: {question}\\n{page_content}\").content\n",
        "    question_answer_pairs.append({\"question\": question, \"answer\": answer, \"document\": document})\n",
        "\n",
        "  return question_answer_pairs"
      ]
    },
    {
      "cell_type": "code",
      "execution_count": 41,
      "metadata": {},
      "outputs": [],
      "source": [
        "generator_llm = ChatGoogleGenerativeAI(model=LLM_MODEL_NAME)\n",
        "question_answer_pairs = get_question_answer_pairs(documents, generator_llm, num_pairs=30)\n",
        "df = pd.DataFrame(question_answer_pairs)"
      ]
    },
    {
      "cell_type": "code",
      "execution_count": 42,
      "metadata": {},
      "outputs": [],
      "source": [
        "rag_answers = []\n",
        "for question in df[\"question\"]:\n",
        "    question = question.split(\"\\n\")[0]\n",
        "    answer = review_chain.invoke(question)\n",
        "    rag_answers.append(answer)\n",
        "\n",
        "df[\"rag_answer\"] = rag_answers\n",
        "df.to_csv('question_answer_pairs.csv', index=False)"
      ]
    },
    {
      "cell_type": "code",
      "execution_count": 43,
      "metadata": {},
      "outputs": [
        {
          "data": {
            "text/html": [
              "<div>\n",
              "<style scoped>\n",
              "    .dataframe tbody tr th:only-of-type {\n",
              "        vertical-align: middle;\n",
              "    }\n",
              "\n",
              "    .dataframe tbody tr th {\n",
              "        vertical-align: top;\n",
              "    }\n",
              "\n",
              "    .dataframe thead th {\n",
              "        text-align: right;\n",
              "    }\n",
              "</style>\n",
              "<table border=\"1\" class=\"dataframe\">\n",
              "  <thead>\n",
              "    <tr style=\"text-align: right;\">\n",
              "      <th></th>\n",
              "      <th>question</th>\n",
              "      <th>answer</th>\n",
              "      <th>document</th>\n",
              "      <th>rag_answer</th>\n",
              "    </tr>\n",
              "  </thead>\n",
              "  <tbody>\n",
              "    <tr>\n",
              "      <th>0</th>\n",
              "      <td>Is Atelier del pesce Franco e Maria a large re...</td>\n",
              "      <td>The passage states that the restaurant is \"sma...</td>\n",
              "      <td>page_content='place_name=Atelier del pesce Fra...</td>\n",
              "      <td>No, Atelier del pesce Franco e Maria is a smal...</td>\n",
              "    </tr>\n",
              "    <tr>\n",
              "      <th>1</th>\n",
              "      <td>Is Fuori Di Zucca a good option for a casual p...</td>\n",
              "      <td>Based on the provided information, **Fuori Di ...</td>\n",
              "      <td>page_content='place_name=Fuori Di Zucca\\nrevie...</td>\n",
              "      <td>Yes, Fuori Di Zucca seems like a good option f...</td>\n",
              "    </tr>\n",
              "    <tr>\n",
              "      <th>2</th>\n",
              "      <td>Is Osteria Nonna Pina known for its meat dishe...</td>\n",
              "      <td>Yes, Osteria Nonna Pina is known for its meat ...</td>\n",
              "      <td>page_content='place_name=Osteria Nonna Pina\\nr...</td>\n",
              "      <td>Yes, Osteria Nonna Pina is known for its meat ...</td>\n",
              "    </tr>\n",
              "    <tr>\n",
              "      <th>3</th>\n",
              "      <td>Does Hazzard Pizza e Kebab da Ciccio offer del...</td>\n",
              "      <td>Yes, Hazzard Pizza e Kebab da Ciccio offers bo...</td>\n",
              "      <td>page_content='place_name=Hazzard Pizza e Kebab...</td>\n",
              "      <td>Yes, Hazzard Pizza e Kebab da Ciccio offers bo...</td>\n",
              "    </tr>\n",
              "    <tr>\n",
              "      <th>4</th>\n",
              "      <td>Is Brutal a popular restaurant in Padua? \\n</td>\n",
              "      <td>The passage states \"always busy but for a reas...</td>\n",
              "      <td>page_content='place_name=Brutal\\nreview=always...</td>\n",
              "      <td>Yes, Brutal is a popular restaurant in Padua. ...</td>\n",
              "    </tr>\n",
              "  </tbody>\n",
              "</table>\n",
              "</div>"
            ],
            "text/plain": [
              "                                            question  \\\n",
              "0  Is Atelier del pesce Franco e Maria a large re...   \n",
              "1  Is Fuori Di Zucca a good option for a casual p...   \n",
              "2  Is Osteria Nonna Pina known for its meat dishe...   \n",
              "3  Does Hazzard Pizza e Kebab da Ciccio offer del...   \n",
              "4        Is Brutal a popular restaurant in Padua? \\n   \n",
              "\n",
              "                                              answer  \\\n",
              "0  The passage states that the restaurant is \"sma...   \n",
              "1  Based on the provided information, **Fuori Di ...   \n",
              "2  Yes, Osteria Nonna Pina is known for its meat ...   \n",
              "3  Yes, Hazzard Pizza e Kebab da Ciccio offers bo...   \n",
              "4  The passage states \"always busy but for a reas...   \n",
              "\n",
              "                                            document  \\\n",
              "0  page_content='place_name=Atelier del pesce Fra...   \n",
              "1  page_content='place_name=Fuori Di Zucca\\nrevie...   \n",
              "2  page_content='place_name=Osteria Nonna Pina\\nr...   \n",
              "3  page_content='place_name=Hazzard Pizza e Kebab...   \n",
              "4  page_content='place_name=Brutal\\nreview=always...   \n",
              "\n",
              "                                          rag_answer  \n",
              "0  No, Atelier del pesce Franco e Maria is a smal...  \n",
              "1  Yes, Fuori Di Zucca seems like a good option f...  \n",
              "2  Yes, Osteria Nonna Pina is known for its meat ...  \n",
              "3  Yes, Hazzard Pizza e Kebab da Ciccio offers bo...  \n",
              "4  Yes, Brutal is a popular restaurant in Padua. ...  "
            ]
          },
          "execution_count": 43,
          "metadata": {},
          "output_type": "execute_result"
        }
      ],
      "source": [
        "df.to_csv('question_answer_pairs.csv', index=False)\n",
        "df.head()"
      ]
    },
    {
      "cell_type": "code",
      "execution_count": 44,
      "metadata": {},
      "outputs": [
        {
          "data": {
            "text/html": [
              "<div>\n",
              "<style scoped>\n",
              "    .dataframe tbody tr th:only-of-type {\n",
              "        vertical-align: middle;\n",
              "    }\n",
              "\n",
              "    .dataframe tbody tr th {\n",
              "        vertical-align: top;\n",
              "    }\n",
              "\n",
              "    .dataframe thead th {\n",
              "        text-align: right;\n",
              "    }\n",
              "</style>\n",
              "<table border=\"1\" class=\"dataframe\">\n",
              "  <thead>\n",
              "    <tr style=\"text-align: right;\">\n",
              "      <th></th>\n",
              "      <th>question</th>\n",
              "      <th>answer</th>\n",
              "      <th>document</th>\n",
              "      <th>rag_answer</th>\n",
              "    </tr>\n",
              "  </thead>\n",
              "  <tbody>\n",
              "    <tr>\n",
              "      <th>0</th>\n",
              "      <td>Is Atelier del pesce Franco e Maria a large re...</td>\n",
              "      <td>The passage states that the restaurant is \"sma...</td>\n",
              "      <td>page_content='place_name=Atelier del pesce Fra...</td>\n",
              "      <td>No, Atelier del pesce Franco e Maria is a smal...</td>\n",
              "    </tr>\n",
              "    <tr>\n",
              "      <th>1</th>\n",
              "      <td>Is Fuori Di Zucca a good option for a casual p...</td>\n",
              "      <td>Based on the provided information, **Fuori Di ...</td>\n",
              "      <td>page_content='place_name=Fuori Di Zucca\\nrevie...</td>\n",
              "      <td>Yes, Fuori Di Zucca seems like a good option f...</td>\n",
              "    </tr>\n",
              "    <tr>\n",
              "      <th>2</th>\n",
              "      <td>Is Osteria Nonna Pina known for its meat dishe...</td>\n",
              "      <td>Yes, Osteria Nonna Pina is known for its meat ...</td>\n",
              "      <td>page_content='place_name=Osteria Nonna Pina\\nr...</td>\n",
              "      <td>Yes, Osteria Nonna Pina is known for its meat ...</td>\n",
              "    </tr>\n",
              "    <tr>\n",
              "      <th>3</th>\n",
              "      <td>Does Hazzard Pizza e Kebab da Ciccio offer del...</td>\n",
              "      <td>Yes, Hazzard Pizza e Kebab da Ciccio offers bo...</td>\n",
              "      <td>page_content='place_name=Hazzard Pizza e Kebab...</td>\n",
              "      <td>Yes, Hazzard Pizza e Kebab da Ciccio offers bo...</td>\n",
              "    </tr>\n",
              "    <tr>\n",
              "      <th>4</th>\n",
              "      <td>Is Brutal a popular restaurant in Padua? \\n</td>\n",
              "      <td>The passage states \"always busy but for a reas...</td>\n",
              "      <td>page_content='place_name=Brutal\\nreview=always...</td>\n",
              "      <td>Yes, Brutal is a popular restaurant in Padua. ...</td>\n",
              "    </tr>\n",
              "  </tbody>\n",
              "</table>\n",
              "</div>"
            ],
            "text/plain": [
              "                                            question  \\\n",
              "0  Is Atelier del pesce Franco e Maria a large re...   \n",
              "1  Is Fuori Di Zucca a good option for a casual p...   \n",
              "2  Is Osteria Nonna Pina known for its meat dishe...   \n",
              "3  Does Hazzard Pizza e Kebab da Ciccio offer del...   \n",
              "4        Is Brutal a popular restaurant in Padua? \\n   \n",
              "\n",
              "                                              answer  \\\n",
              "0  The passage states that the restaurant is \"sma...   \n",
              "1  Based on the provided information, **Fuori Di ...   \n",
              "2  Yes, Osteria Nonna Pina is known for its meat ...   \n",
              "3  Yes, Hazzard Pizza e Kebab da Ciccio offers bo...   \n",
              "4  The passage states \"always busy but for a reas...   \n",
              "\n",
              "                                            document  \\\n",
              "0  page_content='place_name=Atelier del pesce Fra...   \n",
              "1  page_content='place_name=Fuori Di Zucca\\nrevie...   \n",
              "2  page_content='place_name=Osteria Nonna Pina\\nr...   \n",
              "3  page_content='place_name=Hazzard Pizza e Kebab...   \n",
              "4  page_content='place_name=Brutal\\nreview=always...   \n",
              "\n",
              "                                          rag_answer  \n",
              "0  No, Atelier del pesce Franco e Maria is a smal...  \n",
              "1  Yes, Fuori Di Zucca seems like a good option f...  \n",
              "2  Yes, Osteria Nonna Pina is known for its meat ...  \n",
              "3  Yes, Hazzard Pizza e Kebab da Ciccio offers bo...  \n",
              "4  Yes, Brutal is a popular restaurant in Padua. ...  "
            ]
          },
          "execution_count": 44,
          "metadata": {},
          "output_type": "execute_result"
        }
      ],
      "source": [
        "df = pd.read_csv('question_answer_pairs.csv')\n",
        "df.head()"
      ]
    },
    {
      "cell_type": "code",
      "execution_count": 45,
      "metadata": {},
      "outputs": [
        {
          "name": "stdout",
          "output_type": "stream",
          "text": [
            "Is Atelier del pesce Franco e Maria a large restaurant? \n",
            "\n",
            "Is Fuori Di Zucca a good option for a casual pizza dinner with a beer? \n",
            "\n",
            "Is Osteria Nonna Pina known for its meat dishes? \n",
            "\n",
            "Does Hazzard Pizza e Kebab da Ciccio offer delivery and reservations? \n",
            "\n",
            "Is Brutal a popular restaurant in Padua? \n",
            "\n",
            "What is the atmosphere like at Bar Tabacchi Sunny? \n",
            "\n",
            "Is Pizzeria alla Palma a good place to get pizza? \n",
            "\n",
            "What kind of drinks are available at Busa dei Briganti Pub Padova besides beer? \n",
            "\n",
            "Is Il Carro a moderately priced Italian restaurant in Padua, Italy? \n",
            "\n",
            "Does Pizzeria Orsetto offer a loyalty program with rewards for frequent customers? \n",
            "\n"
          ]
        }
      ],
      "source": [
        "for i in range(10): \n",
        "    print(df[\"question\"].loc[i])"
      ]
    },
    {
      "cell_type": "markdown",
      "metadata": {},
      "source": [
        "## Limitatoins of classic LLMs"
      ]
    },
    {
      "cell_type": "code",
      "execution_count": 46,
      "metadata": {},
      "outputs": [
        {
          "name": "stdout",
          "output_type": "stream",
          "text": [
            "'Does Bar Fortuna Sas in Padova city offer delivery services?'\n",
            "('I do not have access to real-time information, including business details '\n",
            " 'like whether a specific restaurant offers delivery services. \\n'\n",
            " '\\n'\n",
            " 'To find out if Bar Fortuna Sas in Padova offers delivery, I recommend '\n",
            " 'checking their:\\n'\n",
            " '\\n'\n",
            " '* **Website:** Many restaurants have their own website where they list their '\n",
            " 'services.\\n'\n",
            " '* **Social media pages:** Check their Facebook or Instagram for updates on '\n",
            " 'delivery options.\\n'\n",
            " '* **Online food delivery platforms:** Search for Bar Fortuna Sas on popular '\n",
            " 'delivery apps like Deliveroo, Uber Eats, or Just Eat.\\n'\n",
            " '* **Call the restaurant directly:** The most reliable way to find out is to '\n",
            " 'call them and ask. \\n'\n",
            " '\\n'\n",
            " 'Good luck finding your next delicious meal! \\n')\n"
          ]
        }
      ],
      "source": [
        "question = \"Does Bar Fortuna Sas in Padova city offer delivery services?\"\n",
        "answer = llm.invoke(question).content\n",
        "pprint(question)\n",
        "pprint(answer)"
      ]
    },
    {
      "cell_type": "code",
      "execution_count": 47,
      "metadata": {},
      "outputs": [
        {
          "name": "stdout",
          "output_type": "stream",
          "text": [
            "Does Bar Fortuna Sas in Padova city offer delivery services?\n",
            "No, Bar Fortuna Sas in Padova does not offer delivery services. \n",
            "\n"
          ]
        }
      ],
      "source": [
        "question = \"Does Bar Fortuna Sas in Padova city offer delivery services?\"\n",
        "answer = review_chain.invoke(question)\n",
        "print(question)\n",
        "print(answer)"
      ]
    },
    {
      "cell_type": "code",
      "execution_count": 48,
      "metadata": {},
      "outputs": [
        {
          "name": "stdout",
          "output_type": "stream",
          "text": [
            "'What kind of food is served at Veni Vidi Vino Enoteca?'\n",
            "('I do not have access to real-time information, including restaurant menus. '\n",
            " 'To find out what kind of food is served at Veni Vidi Vino Enoteca, I '\n",
            " 'recommend checking their website or calling the restaurant directly. \\n')\n"
          ]
        }
      ],
      "source": [
        "question = \"What kind of food is served at Veni Vidi Vino Enoteca?\"\n",
        "answer = llm.invoke(question).content\n",
        "pprint(question)\n",
        "pprint(answer)"
      ]
    },
    {
      "cell_type": "code",
      "execution_count": 49,
      "metadata": {},
      "outputs": [
        {
          "name": "stdout",
          "output_type": "stream",
          "text": [
            "'What kind of food is served at Veni Vidi Vino Enoteca?'\n",
            "('The reviews mention \"tasty food\", \"meatballs\", \"platters\", \"cicchetti\", and '\n",
            " '\"hams and cheeses\".  It seems Veni Vidi Vino Enoteca serves Italian-style '\n",
            " 'food with a focus on wine pairings. \\n')\n"
          ]
        }
      ],
      "source": [
        "question = \"What kind of food is served at Veni Vidi Vino Enoteca?\"\n",
        "answer = review_chain.invoke(question)\n",
        "pprint(question)\n",
        "pprint(answer)"
      ]
    }
  ],
  "metadata": {
    "accelerator": "GPU",
    "colab": {
      "gpuType": "T4",
      "provenance": []
    },
    "kernelspec": {
      "display_name": "Python 3 (ipykernel)",
      "language": "python",
      "name": "python3"
    },
    "language_info": {
      "codemirror_mode": {
        "name": "ipython",
        "version": 3
      },
      "file_extension": ".py",
      "mimetype": "text/x-python",
      "name": "python",
      "nbconvert_exporter": "python",
      "pygments_lexer": "ipython3",
      "version": "3.12.3"
    }
  },
  "nbformat": 4,
  "nbformat_minor": 0
}
