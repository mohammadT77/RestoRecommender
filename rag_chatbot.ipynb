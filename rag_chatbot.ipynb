{
  "cells": [
    {
      "cell_type": "code",
      "execution_count": 1,
      "metadata": {
        "id": "IVZTYMYqhEyD"
      },
      "outputs": [
        {
          "name": "stderr",
          "output_type": "stream",
          "text": [
            "c:\\Users\\mehra\\mehran\\dltorch\\RestoRecommender\\venv\\lib\\site-packages\\tqdm\\auto.py:21: TqdmWarning: IProgress not found. Please update jupyter and ipywidgets. See https://ipywidgets.readthedocs.io/en/stable/user_install.html\n",
            "  from .autonotebook import tqdm as notebook_tqdm\n"
          ]
        }
      ],
      "source": [
        "import pandas as pd\n",
        "from langchain.prompts import (\n",
        "    PromptTemplate,\n",
        "    SystemMessagePromptTemplate,\n",
        "    HumanMessagePromptTemplate,\n",
        "    ChatPromptTemplate,)\n",
        "from langchain_core.output_parsers import StrOutputParser\n",
        "from langchain_community.vectorstores import FAISS\n",
        "from langchain.schema.runnable import RunnablePassthrough\n",
        "from langchain_community.document_loaders.dataframe import DataFrameLoader\n",
        "from langchain.storage import LocalFileStore\n",
        "from langchain.embeddings import CacheBackedEmbeddings\n",
        "from langchain_google_genai import GoogleGenerativeAIEmbeddings, ChatGoogleGenerativeAI\n",
        "\n",
        "try:\n",
        "    from google.colab.userdata import get as getenv\n",
        "    print(\"Running in colab\")\n",
        "except ImportError:\n",
        "    from os import getenv\n",
        "    import dotenv\n",
        "    dotenv.load_dotenv()"
      ]
    },
    {
      "cell_type": "code",
      "execution_count": 2,
      "metadata": {},
      "outputs": [],
      "source": [
        "GOOGLE_API_KEY = getenv('GOOGLE_API_KEY')"
      ]
    },
    {
      "cell_type": "markdown",
      "metadata": {},
      "source": [
        "## Set up LangSmith"
      ]
    },
    {
      "cell_type": "code",
      "execution_count": 5,
      "metadata": {},
      "outputs": [],
      "source": [
        "LANGCHAIN_API_KEY = getenv('LANGCHAIN_API_KEY')\n",
        "LANGCHAIN_ENDPOINT = getenv('LANGCHAIN_ENDPOINT')\n",
        "assert LANGCHAIN_API_KEY, \"An API key for LangChainSmith is required to be set as <LANGCHAIN_API_KEY>.\""
      ]
    },
    {
      "cell_type": "markdown",
      "metadata": {
        "id": "1rzeDBNMoijW"
      },
      "source": [
        "## Constants"
      ]
    },
    {
      "cell_type": "code",
      "execution_count": 3,
      "metadata": {
        "id": "TeXyY2YLWqcD"
      },
      "outputs": [],
      "source": [
        "# Dataset files\n",
        "PLACES_PATH = \"data/places.csv\"\n",
        "REVIEWS_PATH = \"data/reviews.csv\"\n",
        "\n",
        "\n",
        "LLM_MODEL_NAME = \"gemini-1.5-flash\" #\"gemini-pro\"\n",
        "EMBEDDING_MODEL_NAME = \"models/text-embedding-004\"\n",
        "\n",
        "# Embeddings\n",
        "EMBEDDINGS_CACHE_STORE=\"./cache/\"\n",
        "\n",
        "# Faiss\n",
        "FAISS_REVIEWS_PATH_EUCLIDEAN = \"faiss_index_euclidean\"\n",
        "FAISS_REVIEWS_PATH_COSINE = \"faiss_index_cosine\"\n",
        "FAISS_INDEX_NAME = \"index\"\n",
        "FAISS_DISTANCE_STRATEGY_EUCLIDEAN ='EUCLIDEAN_DISTANCE'\n",
        "FAISS_DISTANCE_STRATEGY_COSINE = \"COSINE_DISTANCE\""
      ]
    },
    {
      "cell_type": "markdown",
      "metadata": {
        "id": "eUr5hUrPoijY"
      },
      "source": [
        "## Load Dataset\n",
        "\n",
        "Here we are using 2 csv files containing places (restuarants, bars, ...) info and reviews for each of them."
      ]
    },
    {
      "cell_type": "code",
      "execution_count": 4,
      "metadata": {
        "id": "aONHvzXAoijZ"
      },
      "outputs": [],
      "source": [
        "def get_documents(content_func=lambda row:row['review'],\n",
        "                  source_func=lambda row:row['place_id'],\n",
        "                  metadata_fields=[]):\n",
        "\n",
        "  # Load both data files\n",
        "  places_df = pd.read_csv(PLACES_PATH)\n",
        "  reviews_df = pd.read_csv(REVIEWS_PATH)\n",
        "  reviews_df.drop_duplicates(inplace=True)\n",
        "  places_df.drop_duplicates(inplace=True)\n",
        "\n",
        "  # merge them on 'place_id'\n",
        "  merged_df = pd.merge(places_df, reviews_df, on='place_id', how='inner')\n",
        "\n",
        "  # add page_content and source columns using their corresponing functions\n",
        "  merged_df['page_content'] = merged_df.apply(content_func, axis=1)\n",
        "  merged_df['source'] = merged_df.apply(source_func, axis=1)\n",
        "\n",
        "  # update metadata_fields with 'page_content', 'source'\n",
        "  metadata_fields = list(set(metadata_fields + ['page_content', 'source']))\n",
        "\n",
        "  loader = DataFrameLoader(merged_df[metadata_fields],page_content_column='page_content')\n",
        "  return loader.load()"
      ]
    },
    {
      "cell_type": "code",
      "execution_count": 7,
      "metadata": {
        "id": "E5jUkJ8XoijZ"
      },
      "outputs": [],
      "source": [
        "# def content_func(row) -> str:\n",
        "#   content_fields = ['place_name', 'place_types', 'place_address', 'place_average_ratings', 'review']\n",
        "#   return '\\n'.join(f\"{key}={row[key]}\" for key in content_fields)\n",
        "\n",
        "def content_func(row) -> str:\n",
        "  content_fields = [\"place_name\",\n",
        "                    \"review\",\n",
        "                    \"place_address\",\n",
        "                    \"place_average_ratings\",\n",
        "                    \"place_price_level\",\n",
        "                    \"place_primary_type\",\n",
        "                    \"has_delivery\",\n",
        "                    \"is_reservable\",\n",
        "                    ]\n",
        "  return '\\n'.join(f\"{key}={row[key]}\" for key in content_fields)\n",
        "\n",
        "metadata_fields = [\"places_opening_hours\", \"place_website\", \"place_phone_number\",]\n",
        "\n",
        "documents = get_documents(content_func, metadata_fields=metadata_fields)"
      ]
    },
    {
      "cell_type": "code",
      "execution_count": 9,
      "metadata": {
        "colab": {
          "base_uri": "https://localhost:8080/"
        },
        "id": "WH4HR9emoijZ",
        "outputId": "fa47e9ba-3bdf-4c36-c553-300479119540"
      },
      "outputs": [
        {
          "name": "stdout",
          "output_type": "stream",
          "text": [
            "place_name=Rasa multi cuisine restaurant\n",
            "review=Really gentle and humble people. On top, food’s quality is great. They are not just serving a regular Indian menu, they have items from different parts of India which makes them a unique place to try.\n",
            "place_address=Via T. Aspetti, 51, 35132 Padova PD, Italy\n",
            "place_average_ratings=4.9\n",
            "place_price_level=nan\n",
            "place_primary_type=indian_restaurant\n",
            "has_delivery=True\n",
            "is_reservable=True\n",
            "{'places_opening_hours': \"['Monday: Closed', 'Tuesday: 7:00\\\\u2009–\\\\u200911:00\\\\u202fPM', 'Wednesday: 7:00\\\\u2009–\\\\u200911:00\\\\u202fPM', 'Thursday: 12:00\\\\u2009–\\\\u20093:00\\\\u202fPM, 7:00\\\\u2009–\\\\u200911:00\\\\u202fPM', 'Friday: 12:00\\\\u2009–\\\\u20093:00\\\\u202fPM, 7:00\\\\u2009–\\\\u200911:00\\\\u202fPM', 'Saturday: 12:00\\\\u2009–\\\\u20093:00\\\\u202fPM, 7:00\\\\u2009–\\\\u200911:00\\\\u202fPM', 'Sunday: 12:00\\\\u2009–\\\\u20093:00\\\\u202fPM, 7:00\\\\u2009–\\\\u200911:00\\\\u202fPM']\", 'place_phone_number': '+39 347 360 4372', 'source': 'ChIJORN_mdnbfkcRq7g9fQtODbE', 'place_website': nan}\n"
          ]
        }
      ],
      "source": [
        "## Take a look at a sample document\n",
        "print(documents[0].page_content)\n",
        "print(documents[0].metadata)"
      ]
    },
    {
      "cell_type": "markdown",
      "metadata": {
        "id": "wLU4f9yqoija"
      },
      "source": [
        "## Load Embeddings model"
      ]
    },
    {
      "cell_type": "code",
      "execution_count": 10,
      "metadata": {},
      "outputs": [],
      "source": [
        "embedding_model = GoogleGenerativeAIEmbeddings(model=EMBEDDING_MODEL_NAME)"
      ]
    },
    {
      "cell_type": "code",
      "execution_count": 11,
      "metadata": {},
      "outputs": [],
      "source": [
        "result = embedding_model.embed_query(\"One sample query!\")"
      ]
    },
    {
      "cell_type": "code",
      "execution_count": 12,
      "metadata": {},
      "outputs": [
        {
          "name": "stdout",
          "output_type": "stream",
          "text": [
            "embedding shape: (768,)\n",
            "embedding norm: 0.9999993842289441\n"
          ]
        }
      ],
      "source": [
        "import numpy as np\n",
        "array = np.array(result)\n",
        "print(f\"embedding shape: {array.shape}\\nembedding norm: {np.linalg.norm(array, ord=2)}\")"
      ]
    },
    {
      "cell_type": "markdown",
      "metadata": {
        "id": "yZU69PxDoijg"
      },
      "source": [
        "## Create FAISS (Vector Database)"
      ]
    },
    {
      "cell_type": "code",
      "execution_count": 13,
      "metadata": {
        "id": "ClgYJkU5oijj"
      },
      "outputs": [],
      "source": [
        "def get_vector_database(documents, embedding_model, distance_strategy):\n",
        "\n",
        "  vector_database = FAISS.from_documents(\n",
        "      documents, embedding_model,\n",
        "      distance_strategy= distance_strategy\n",
        "      )\n",
        "  return vector_database"
      ]
    },
    {
      "cell_type": "code",
      "execution_count": 10,
      "metadata": {},
      "outputs": [],
      "source": [
        "import time\n",
        "doclen = len(documents)\n",
        "for batch in range(doclen//100 + 1):\n",
        "    docs = documents[batch*100:(batch+1)*100]\n",
        "    if batch ==0:\n",
        "        vector_db = get_vector_database(docs, embedding_model, FAISS_DISTANCE_STRATEGY_COSINE)\n",
        "    else:\n",
        "\n",
        "        vector_db.merge_from(get_vector_database(docs, embedding_model, FAISS_DISTANCE_STRATEGY_COSINE))\n",
        "    time.sleep(10) # Sleep for 10 seconds to avoid hitting rate limits"
      ]
    },
    {
      "cell_type": "code",
      "execution_count": 11,
      "metadata": {},
      "outputs": [],
      "source": [
        "vector_db.save_local(folder_path=FAISS_REVIEWS_PATH_COSINE, index_name=FAISS_INDEX_NAME)"
      ]
    },
    {
      "cell_type": "code",
      "execution_count": 6,
      "metadata": {},
      "outputs": [],
      "source": [
        "vector_db = FAISS.load_local(folder_path=FAISS_REVIEWS_PATH_EUCLIDEAN,\n",
        "                             embeddings=embedding_model,\n",
        "                             index_name=FAISS_INDEX_NAME)"
      ]
    },
    {
      "cell_type": "code",
      "execution_count": 11,
      "metadata": {},
      "outputs": [
        {
          "name": "stdout",
          "output_type": "stream",
          "text": [
            "page_content='place_name=Pizzeria Al Quadrifoglio\\nreview=Excellent pizza, now I consider it as the comparison for all the other pizzas I order in other places, unfortunately it is always unattainable. Congratulations to the head pizza chef even if he has few words.\\nplace_address=Via Dante Alighieri, 4/a, 35020 Ponte San Nicolò PD, Italy\\nplace_average_ratings=4.2\\nplace_price_level=PRICE_LEVEL_INEXPENSIVE\\nplace_primary_type=pizza_restaurant\\nhas_delivery=True\\nis_reservable=True' metadata={'places_opening_hours': \"['Monday: Closed', 'Tuesday: 6:00\\\\u2009–\\\\u200910:00\\\\u202fPM', 'Wednesday: 6:00\\\\u2009–\\\\u200910:00\\\\u202fPM', 'Thursday: 6:00\\\\u2009–\\\\u200910:00\\\\u202fPM', 'Friday: 6:00\\\\u2009–\\\\u200910:00\\\\u202fPM', 'Saturday: 6:00\\\\u2009–\\\\u200910:00\\\\u202fPM', 'Sunday: 6:00\\\\u2009–\\\\u200910:00\\\\u202fPM']\", 'place_website': 'https://m.facebook.com/PizzeriaAlQuadrifoglio/', 'place_phone_number': '+39 049 717742', 'source': 'ChIJnS7Ewr7EfkcRqlfUIy8hk6c'}\n",
            "\n",
            "page_content='place_name=Ristorante Pizzeria al Saraceno\\nreview=Probably one of the best Pizzeria in town. Over 30 different types of pizza. Friendly and professional staff.\\nplace_address=Via Giovanni Canestrini, 4, 35127 Padova PD, Italy\\nplace_average_ratings=4.0\\nplace_price_level=PRICE_LEVEL_INEXPENSIVE\\nplace_primary_type=restaurant\\nhas_delivery=False\\nis_reservable=True' metadata={'places_opening_hours': \"['Monday: Closed', 'Tuesday: 12:00\\\\u2009–\\\\u20092:00\\\\u202fPM, 6:30\\\\u202fPM\\\\u2009–\\\\u200912:00\\\\u202fAM', 'Wednesday: 12:00\\\\u2009–\\\\u20092:00\\\\u202fPM, 6:30\\\\u202fPM\\\\u2009–\\\\u200912:00\\\\u202fAM', 'Thursday: 12:00\\\\u2009–\\\\u20092:00\\\\u202fPM, 6:30\\\\u202fPM\\\\u2009–\\\\u200912:00\\\\u202fAM', 'Friday: 12:00\\\\u2009–\\\\u20092:00\\\\u202fPM, 6:30\\\\u202fPM\\\\u2009–\\\\u200912:00\\\\u202fAM', 'Saturday: 12:00\\\\u2009–\\\\u20092:00\\\\u202fPM, 6:30\\\\u202fPM\\\\u2009–\\\\u200912:00\\\\u202fAM', 'Sunday: 12:00\\\\u2009–\\\\u20092:00\\\\u202fPM, 6:30\\\\u202fPM\\\\u2009–\\\\u200912:00\\\\u202fAM']\", 'place_website': nan, 'place_phone_number': '+39 049 755601', 'source': 'ChIJdVJMTALbfkcReA6sL0bVQug'}\n",
            "\n",
            "page_content='place_name=Pizzeria Savonarola\\nreview=The best pizza and the best service in town! Highly recommend!\\nplace_address=Via Savonarola, 38, 35137 Padova PD, Italy\\nplace_average_ratings=4.4\\nplace_price_level=PRICE_LEVEL_INEXPENSIVE\\nplace_primary_type=pizza_restaurant\\nhas_delivery=True\\nis_reservable=True' metadata={'places_opening_hours': \"['Monday: Closed', 'Tuesday: 12:30\\\\u2009–\\\\u20092:30\\\\u202fPM, 7:30\\\\u202fPM\\\\u2009–\\\\u200912:00\\\\u202fAM', 'Wednesday: 12:30\\\\u2009–\\\\u20092:30\\\\u202fPM, 7:30\\\\u202fPM\\\\u2009–\\\\u200912:00\\\\u202fAM', 'Thursday: 12:30\\\\u2009–\\\\u20092:30\\\\u202fPM, 7:30\\\\u202fPM\\\\u2009–\\\\u200912:00\\\\u202fAM', 'Friday: 12:30\\\\u2009–\\\\u20092:30\\\\u202fPM, 7:30\\\\u202fPM\\\\u2009–\\\\u200912:00\\\\u202fAM', 'Saturday: 7:00\\\\u202fPM\\\\u2009–\\\\u200912:00\\\\u202fAM', 'Sunday: 7:00\\\\u202fPM\\\\u2009–\\\\u200912:00\\\\u202fAM']\", 'place_website': 'http://www.savonarola-pizzeria-trattoria.it/', 'place_phone_number': '+39 049 875 9128', 'source': 'ChIJizyZQUTafkcRJmcdbJCiBlY'}\n",
            "\n",
            "page_content='place_name=New Pizza\\nreview=Really delicious pizza, not too thin, with strong flavours. Absolute punctuality in deliveries, even tonight despite the storm and the friendliness of the delivery boy, scores 101 points. New favorite Pizzeria in the area\\nplace_address=Piazzetta Giovanelli, 56, 35027 Noventana PD, Italy\\nplace_average_ratings=4.0\\nplace_price_level=PRICE_LEVEL_INEXPENSIVE\\nplace_primary_type=meal_takeaway\\nhas_delivery=True\\nis_reservable=True' metadata={'places_opening_hours': \"['Monday: 6:00\\\\u2009–\\\\u200910:00\\\\u202fPM', 'Tuesday: Closed', 'Wednesday: 6:00\\\\u2009–\\\\u200910:00\\\\u202fPM', 'Thursday: 6:00\\\\u2009–\\\\u200910:00\\\\u202fPM', 'Friday: 6:00\\\\u2009–\\\\u200910:00\\\\u202fPM', 'Saturday: 6:00\\\\u2009–\\\\u200910:00\\\\u202fPM', 'Sunday: 6:00\\\\u2009–\\\\u200910:00\\\\u202fPM']\", 'place_website': nan, 'place_phone_number': '+39 049 893 4153', 'source': 'ChIJMV_ibEjFfkcRI468Woetuaw'}\n",
            "\n",
            "page_content='place_name=Crazy Pizza\\nreview=Best pizza ever\\nplace_address=Via Jacopo Filiasi, 2F, 35128 Padova PD, Italy\\nplace_average_ratings=4.5\\nplace_price_level=PRICE_LEVEL_INEXPENSIVE\\nplace_primary_type=meal_takeaway\\nhas_delivery=True\\nis_reservable=True' metadata={'places_opening_hours': \"['Monday: 6:30\\\\u2009–\\\\u200910:30\\\\u202fPM', 'Tuesday: Closed', 'Wednesday: 6:30\\\\u2009–\\\\u200910:30\\\\u202fPM', 'Thursday: 6:30\\\\u2009–\\\\u200910:30\\\\u202fPM', 'Friday: 6:30\\\\u2009–\\\\u200910:30\\\\u202fPM', 'Saturday: 6:30\\\\u2009–\\\\u200910:30\\\\u202fPM', 'Sunday: 6:30\\\\u2009–\\\\u200910:30\\\\u202fPM']\", 'place_website': 'https://www.crazypizza.info/listino/', 'place_phone_number': '+39 049 751472', 'source': 'ChIJ46l-Px7bfkcR4E_2pyKzHvY'}\n",
            "\n"
          ]
        }
      ],
      "source": [
        "docs = vector_db.similarity_search(\"Give me information about some of the best pizza restaurant in the city?\", k = 5)\n",
        "for doc in docs:\n",
        "    print(doc, end=\"\\n\\n\")"
      ]
    },
    {
      "cell_type": "code",
      "execution_count": 4,
      "metadata": {},
      "outputs": [
        {
          "name": "stdout",
          "output_type": "stream",
          "text": [
            "page_content='place_name=Enoteca Barcollo\\nreview=The only positive thing is the location. For the rest, exorbitant prices, very small doses in microscopic wine glasses, 20cc Coca-Cola, supermarket Ichnusa beers, bread to be paid for separately and no appetizers. The two owners brought their rudeness with them from the winter headquarters. Over the years we have sometimes decided to go to the place, even knowing that there was always the risk of being mistreated, because they had good wine. Now the wine is no longer good and they are so arrogant with customers that it is offensive. Anyone who pays hard cash has the right to at least respect; wanting to be subtle, he would also be entitled to suitable portions, pleasant flavors and proportionate prices.\\nplace_address=Via Alessandro Guidi, 23, 35142 Padova PD, Italy\\nplace_average_ratings=4.3\\nplace_price_level=PRICE_LEVEL_MODERATE\\nplace_primary_type=bar\\nhas_delivery=False\\nis_reservable=True' metadata={'places_opening_hours': \"['Monday: Closed', 'Tuesday: Closed', 'Wednesday: 6:00\\\\u2009–\\\\u200911:00\\\\u202fPM', 'Thursday: 6:00\\\\u2009–\\\\u200911:00\\\\u202fPM', 'Friday: 6:00\\\\u2009–\\\\u200911:00\\\\u202fPM', 'Saturday: 6:00\\\\u2009–\\\\u200911:00\\\\u202fPM', 'Sunday: 6:00\\\\u2009–\\\\u200911:00\\\\u202fPM']\", 'place_website': nan, 'place_phone_number': '+39 393 082 6866', 'source': 'ChIJwzs5vKLbfkcRp43hqXskPKw'}\n",
            "\n",
            "page_content='place_name=Enoteca Barcollo\\nreview=Top\\nplace_address=Via Alessandro Guidi, 23, 35142 Padova PD, Italy\\nplace_average_ratings=4.3\\nplace_price_level=PRICE_LEVEL_MODERATE\\nplace_primary_type=bar\\nhas_delivery=False\\nis_reservable=True' metadata={'places_opening_hours': \"['Monday: Closed', 'Tuesday: Closed', 'Wednesday: 6:00\\\\u2009–\\\\u200911:00\\\\u202fPM', 'Thursday: 6:00\\\\u2009–\\\\u200911:00\\\\u202fPM', 'Friday: 6:00\\\\u2009–\\\\u200911:00\\\\u202fPM', 'Saturday: 6:00\\\\u2009–\\\\u200911:00\\\\u202fPM', 'Sunday: 6:00\\\\u2009–\\\\u200911:00\\\\u202fPM']\", 'place_website': nan, 'place_phone_number': '+39 393 082 6866', 'source': 'ChIJwzs5vKLbfkcRp43hqXskPKw'}\n",
            "\n",
            "page_content='place_name=Enoteca Barcollo\\nreview=Brave!\\nplace_address=Via Alessandro Guidi, 23, 35142 Padova PD, Italy\\nplace_average_ratings=4.3\\nplace_price_level=PRICE_LEVEL_MODERATE\\nplace_primary_type=bar\\nhas_delivery=False\\nis_reservable=True' metadata={'places_opening_hours': \"['Monday: Closed', 'Tuesday: Closed', 'Wednesday: 6:00\\\\u2009–\\\\u200911:00\\\\u202fPM', 'Thursday: 6:00\\\\u2009–\\\\u200911:00\\\\u202fPM', 'Friday: 6:00\\\\u2009–\\\\u200911:00\\\\u202fPM', 'Saturday: 6:00\\\\u2009–\\\\u200911:00\\\\u202fPM', 'Sunday: 6:00\\\\u2009–\\\\u200911:00\\\\u202fPM']\", 'place_website': nan, 'place_phone_number': '+39 393 082 6866', 'source': 'ChIJwzs5vKLbfkcRp43hqXskPKw'}\n",
            "\n",
            "page_content='place_name=Enoteca Barcollo\\nreview=The environment is very nice, suitable for all ages. Free parking on site.\\r\\nThe quantity of wine in the glasses seemed a little low to me, but at least they bring some accompanying tarallini.\\r\\nIn total for 5 glasses of white wine and a platter of cold cuts and cheeses we paid 41 euros.\\nplace_address=Via Alessandro Guidi, 23, 35142 Padova PD, Italy\\nplace_average_ratings=4.3\\nplace_price_level=PRICE_LEVEL_MODERATE\\nplace_primary_type=bar\\nhas_delivery=False\\nis_reservable=True' metadata={'places_opening_hours': \"['Monday: Closed', 'Tuesday: Closed', 'Wednesday: 6:00\\\\u2009–\\\\u200911:00\\\\u202fPM', 'Thursday: 6:00\\\\u2009–\\\\u200911:00\\\\u202fPM', 'Friday: 6:00\\\\u2009–\\\\u200911:00\\\\u202fPM', 'Saturday: 6:00\\\\u2009–\\\\u200911:00\\\\u202fPM', 'Sunday: 6:00\\\\u2009–\\\\u200911:00\\\\u202fPM']\", 'place_website': nan, 'place_phone_number': '+39 393 082 6866', 'source': 'ChIJwzs5vKLbfkcRp43hqXskPKw'}\n",
            "\n",
            "page_content='place_name=Enoteca Barcollo\\nreview=Super cicchetti, equally super cold cuts platter! Wide choice of wines. Very welcoming environment and super friendly staff. Both the boy and the girl made themselves available to serve us as best as possible and guarantee us an excellent aperitif! 💪✨💯💯💯💯\\nplace_address=Via Alessandro Guidi, 23, 35142 Padova PD, Italy\\nplace_average_ratings=4.3\\nplace_price_level=PRICE_LEVEL_MODERATE\\nplace_primary_type=bar\\nhas_delivery=False\\nis_reservable=True' metadata={'places_opening_hours': \"['Monday: Closed', 'Tuesday: Closed', 'Wednesday: 6:00\\\\u2009–\\\\u200911:00\\\\u202fPM', 'Thursday: 6:00\\\\u2009–\\\\u200911:00\\\\u202fPM', 'Friday: 6:00\\\\u2009–\\\\u200911:00\\\\u202fPM', 'Saturday: 6:00\\\\u2009–\\\\u200911:00\\\\u202fPM', 'Sunday: 6:00\\\\u2009–\\\\u200911:00\\\\u202fPM']\", 'place_website': nan, 'place_phone_number': '+39 393 082 6866', 'source': 'ChIJwzs5vKLbfkcRp43hqXskPKw'}\n",
            "\n"
          ]
        }
      ],
      "source": [
        "question = \"where is the Enoteca Barcollo located? and what is its phone number?\"\n",
        "\n",
        "docs = vector_db.similarity_search(question, k = 5)\n",
        "\n",
        "for i in range(5):\n",
        "  print(docs[i], end=\"\\n\\n\")"
      ]
    },
    {
      "cell_type": "markdown",
      "metadata": {},
      "source": [
        "## Load Vector Database"
      ]
    },
    {
      "cell_type": "code",
      "execution_count": 15,
      "metadata": {},
      "outputs": [],
      "source": [
        "from langchain_google_genai import GoogleGenerativeAIEmbeddings, ChatGoogleGenerativeAI\n",
        "from langchain_community.vectorstores import FAISS\n",
        "from langchain.storage import LocalFileStore\n",
        "from langchain.embeddings import CacheBackedEmbeddings\n",
        "from os import getenv\n",
        "import dotenv\n",
        "dotenv.load_dotenv()\n",
        "\n",
        "\n",
        "# Faiss\n",
        "FAISS_REVIEWS_PATH_EUCLIDEAN = \"faiss_index_euclidean\"\n",
        "FAISS_INDEX_NAME = \"index\"\n",
        "FAISS_DISTANCE_STRATEGY='EUCLIDEAN_DISTANCE'\n",
        "EMBEDDING_MODEL_NAME = \"models/text-embedding-004\"\n",
        "EMBEDDINGS_CACHE_STORE=\"./cache/\"\n",
        "\n",
        "GOOGLE_API_KEY = getenv('GOOGLE_API_KEY')\n",
        "\n",
        "embedding_model = GoogleGenerativeAIEmbeddings(model=EMBEDDING_MODEL_NAME)\n",
        "store = LocalFileStore(EMBEDDINGS_CACHE_STORE)\n",
        "embedding_model = CacheBackedEmbeddings.from_bytes_store(embedding_model, store)\n",
        "\n",
        "vector_db = FAISS.load_local(folder_path=FAISS_REVIEWS_PATH_EUCLIDEAN,\n",
        "                             embeddings=embedding_model,\n",
        "                             index_name=FAISS_INDEX_NAME,\n",
        "                             allow_dangerous_deserialization=True)"
      ]
    },
    {
      "cell_type": "markdown",
      "metadata": {
        "id": "Rk1-sq8Voijw"
      },
      "source": [
        "## Load LLM"
      ]
    },
    {
      "cell_type": "code",
      "execution_count": 16,
      "metadata": {},
      "outputs": [],
      "source": [
        "llm = ChatGoogleGenerativeAI(model=LLM_MODEL_NAME)"
      ]
    },
    {
      "cell_type": "code",
      "execution_count": 12,
      "metadata": {},
      "outputs": [
        {
          "data": {
            "text/plain": [
              "AIMessage(content='Hi there! What can I do for you today? \\n', response_metadata={'prompt_feedback': {'block_reason': 0, 'safety_ratings': []}, 'finish_reason': 'STOP', 'safety_ratings': [{'category': 'HARM_CATEGORY_SEXUALLY_EXPLICIT', 'probability': 'NEGLIGIBLE', 'blocked': False}, {'category': 'HARM_CATEGORY_HATE_SPEECH', 'probability': 'NEGLIGIBLE', 'blocked': False}, {'category': 'HARM_CATEGORY_HARASSMENT', 'probability': 'NEGLIGIBLE', 'blocked': False}, {'category': 'HARM_CATEGORY_DANGEROUS_CONTENT', 'probability': 'NEGLIGIBLE', 'blocked': False}]}, id='run-f9431d22-33f0-4d71-a28a-4b313e45d1aa-0')"
            ]
          },
          "execution_count": 12,
          "metadata": {},
          "output_type": "execute_result"
        }
      ],
      "source": [
        "llm.invoke(\"Hi\")"
      ]
    },
    {
      "cell_type": "markdown",
      "metadata": {
        "id": "d4SU2uzJoijz"
      },
      "source": [
        "## Create LangChain pipeline"
      ]
    },
    {
      "cell_type": "code",
      "execution_count": 14,
      "metadata": {},
      "outputs": [],
      "source": [
        "from langchain.prompts import (\n",
        "    PromptTemplate,\n",
        "    SystemMessagePromptTemplate,\n",
        "    HumanMessagePromptTemplate,\n",
        "    ChatPromptTemplate,)\n",
        "from langchain_core.output_parsers import StrOutputParser\n",
        "from langchain_community.vectorstores import FAISS\n",
        "from langchain.schema.runnable import RunnablePassthrough"
      ]
    },
    {
      "cell_type": "code",
      "execution_count": 17,
      "metadata": {
        "id": "GNPL6u4EkAW3"
      },
      "outputs": [],
      "source": [
        "review_template_str = \"\"\"\n",
        "Your job is to use Google Map restaurants and bars reviews to help people find best places to go for a meal or a drink.\n",
        "Use the following information and reviews to answer the questions. if the context is not about restaurants,\n",
        "then kindly tell the user that you can only provide assistance and answer questions related to restaurants.\n",
        "If you don't know an answer based on the context, say you don't know. Answer context:\n",
        "{context}\n",
        "\"\"\"\n",
        "\n",
        "system_prompt = SystemMessagePromptTemplate(\n",
        "    prompt=PromptTemplate(\n",
        "        input_variables=[\"context\"], template=review_template_str\n",
        "    )\n",
        ")\n",
        "\n",
        "human_prompt = HumanMessagePromptTemplate(\n",
        "    prompt=PromptTemplate(input_variables=[\"question\"], template=\"{question}\")\n",
        ")\n",
        "messages = [system_prompt, human_prompt]\n",
        "\n",
        "review_prompt_template = ChatPromptTemplate(\n",
        "    input_variables=[\"context\", \"question\"], messages=messages\n",
        ")\n",
        "\n",
        "reviews_retriever = vector_db.as_retriever(search_kwargs={'k': 20,})\n",
        "\n",
        "review_chain = (\n",
        "    {\"context\": reviews_retriever, \"question\": RunnablePassthrough()}\n",
        "    | review_prompt_template\n",
        "    | llm\n",
        "    | StrOutputParser()\n",
        ")"
      ]
    },
    {
      "cell_type": "markdown",
      "metadata": {},
      "source": [
        "## Sample usage"
      ]
    },
    {
      "cell_type": "code",
      "execution_count": 24,
      "metadata": {},
      "outputs": [
        {
          "name": "stdout",
          "output_type": "stream",
          "text": [
            "Here are some highly rated pizza places based on Google Maps reviews:\n",
            "\n",
            "* **Officina Della Pizza:**  Reviewers rave about the delicious pizzas with quality ingredients and the super courteous staff. \n",
            "* **Pizzeria Al Quadrifoglio:**  Known for its excellent pizza, quick service, and friendly staff. \n",
            "* **da Pino Padova:**  This pizza restaurant offers a delightful dining experience with a perfect balance of crispy crust and flavorful toppings. \n",
            "* **Crazy Pizza:**  This pizzeria uses a wood-burning oven, fresh products, and offers a variety of dough options to cater to allergies. \n",
            "* **pizzeria la poesia:**  Reviewers describe the pizza as \"one of the most delicious\" they've ever had, with a taste of love in every bite. \n",
            "* **Pizzalonga Away Ponte San Nicolò:**  Offers delicious and delicate pizzas with fresh ingredients, quick service, and a wide selection of pizzas. \n",
            "* **Pizzeria Pin Up:**  Known for its tasty and light dough, quality food, and very kind staff. \n",
            "* **Pizzalonga Away Noventa Padovana:**  Reviewers say this place has the best pizza they've ever had, with a perfect base and amazing toppings.\n",
            "* **Antica Pizza:**  This pizzeria is praised for its exceptional pizzas, so good they feel like biting into a €1200 iPhone! \n",
            "\n",
            "Let me know if you have any other preferences, like specific areas or price ranges, and I can help you narrow down your choices. \n",
            "\n"
          ]
        }
      ],
      "source": [
        "question = \"\"\"Where can I find delicious pizzas?\"\"\"\n",
        "print(review_chain.invoke(question))"
      ]
    },
    {
      "cell_type": "code",
      "execution_count": 19,
      "metadata": {
        "colab": {
          "base_uri": "https://localhost:8080/"
        },
        "id": "32GruWzvuWnM",
        "outputId": "b53bc31b-0755-4fe6-99ce-5539fccb8b05"
      },
      "outputs": [
        {
          "name": "stdout",
          "output_type": "stream",
          "text": [
            "Based on the reviews, several places in Padua, Italy are mentioned as having great pizza:\n",
            "\n",
            "1. Enoteca Barcollo - The review says they have \"THE BEST PIZZA I HAVE TASTED IN RECENT YEARS\" with quality ingredients and perfectly balanced crust. \n",
            "\n",
            "2. Fastdrink24 - One review says \"If you are looking for a place to eat good pizza, search no more. This is the right place to be.\" However, another calls it \"The worst pizza worldwide\", so opinions seem mixed.\n",
            "\n",
            "3. iDon Padova - A review states it has \"One of the best pizza I had\" and another recommends to \"Go for a pizza\".\n",
            "\n",
            "4. Ristorante Napoli Centrale - The pizza here is described as \"Magnificent\" and the review mentions the meal was very tasty.\n",
            "\n",
            "5. Villa Italia - A review claims they had dinner here and \"it is the best pizza I've had in 5 years.\"\n",
            "\n",
            "So in summary, Enoteca Barcollo, iDon Padova, Ristorante Napoli Centrale and Villa Italia seem to be top choices for delicious pizza in Padua based on these reviews, with Fastdrink24 getting mixed opinions.\n"
          ]
        }
      ],
      "source": [
        "question = \"\"\"Where can I find delicious pizzas?\"\"\"\n",
        "print(review_chain.invoke(question))"
      ]
    },
    {
      "cell_type": "code",
      "execution_count": 18,
      "metadata": {
        "colab": {
          "base_uri": "https://localhost:8080/"
        },
        "id": "LzzRDTT6tTrt",
        "outputId": "2ea12f61-646e-45fb-839c-595749536e43"
      },
      "outputs": [
        {
          "name": "stdout",
          "output_type": "stream",
          "text": [
            "Here are the pros and cons of Ristorante Napoli Centrale based on the reviews:\n",
            "\n",
            "**Pros:**\n",
            "\n",
            "* **Delicious food:**  Multiple reviews highlight the tasty pizza, as well as other dishes like grilled branzino, seafood pasta, and desserts. \n",
            "* **Great service:**  Reviewers consistently mention friendly and attentive service. \n",
            "* **Good value:** The price level is considered moderate, indicating a good balance between quality and price.\n",
            "\n",
            "**Cons:**\n",
            "\n",
            "* **No cocktail menu:** One review mentions the lack of a cocktail menu, but does praise the Aperol Spritz.\n",
            "* **Pizza fritti portion size:**  One reviewer found the pizza fritti a bit too large for them to finish, but still worth trying.\n",
            "\n",
            "Overall, Ristorante Napoli Centrale seems like a great choice for a tasty meal with good service. \n",
            "\n"
          ]
        }
      ],
      "source": [
        "question = \"\"\"What are the pros and cons of Napoli Centrale?\"\"\"\n",
        "print(review_chain.invoke(question))"
      ]
    },
    {
      "cell_type": "code",
      "execution_count": 19,
      "metadata": {},
      "outputs": [
        {
          "name": "stdout",
          "output_type": "stream",
          "text": [
            "Here are some steak houses that might be good for a romantic dinner:\n",
            "\n",
            "* **Ristorante Vecchio Falconiere:**\n",
            "    * Address: Via Umberto I, 31, 35122 Padova PD, Italy\n",
            "    * Phone: +39 049 656544\n",
            "    * Review: \"It's our first visit to this restaurant, this family eun restaurant services food with passion and the owner is so friendly, and cook the steak on table size. There are a big variety of steak, from local to Wangu beef, and different sizes as well.\"\n",
            "\n",
            "* **Osteria BocaBona:**\n",
            "    * Address: Str. Pelosa, 4, 35136 Padova PD, Italy\n",
            "    * Phone: +39 049 871 3898\n",
            "    * Review: \"Very welcoming restaurant, in a rustic and family style. Excellent choice of meats, matured and cooked very well. Excellent beef steak. It's nice to choose the meat at the outside counter where the grill is located, even if it forces the entire table out of the room, which is impractical in winter.\"\n",
            "\n",
            "* **La Fiorentina:**\n",
            "    * Address: Via G. Marconi, 123, 35020 Ponte San Nicolò PD, Italy\n",
            "    * Phone: +39 049 816 4672\n",
            "    * Review: \"I had dinner with a slice of beef cooked to perfection seasoned with parmesan rocket and balsamic vinegar and accompanied by a totally USELESS knife because that cut of meat was so tender. Delicious potatoes on the side and an excellent Montepulciano of which I won't deny having made an encore closed the meal.\"\n",
            "\n",
            "* **Al Tizzone Ardente:**\n",
            "    * Address: Via Risorgimento, 19/a, 35027 Noventa Padovana PD, Italy\n",
            "    * Phone: +39 049 622 6042\n",
            "    * Review: \"The best: the meat. Definitely a restaurant to enjoy good quality meat. Cute inside, even for a date. Prices are a bit high depending on the meat you choose.\" \n",
            "\n",
            "Remember that \"romantic\" is subjective, so consider the ambiance described in the reviews and the price level when making your choice. \n",
            "\n"
          ]
        }
      ],
      "source": [
        "question = \"\"\"Give the name, address and phone number of some good steak houses for a romantic dinner.\"\"\"\n",
        "print(review_chain.invoke(question))"
      ]
    },
    {
      "cell_type": "code",
      "execution_count": 67,
      "metadata": {},
      "outputs": [
        {
          "name": "stdout",
          "output_type": "stream",
          "text": [
            "Based on the reviews provided, the best steak house option with a 50 euro budget seems to be Ristorante Vecchio Falconiere. Here are the details:\n",
            "\n",
            "Ristorante Vecchio Falconiere\n",
            "Address: Via Umberto I, 31, 35122 Padova PD, Italy \n",
            "Phone: +39 049 656544\n",
            "\n",
            "The review mentions they have a large variety of steaks in different sizes, from local to Wagyu beef. It's described as a \"gem for meat and wine lovers\". However, the review doesn't specify prices, so I can't say for certain if it would fit a 50 euro per person budget. The other restaurants reviewed don't appear to specialize in steak.\n"
          ]
        }
      ],
      "source": [
        "question = \"\"\"Give the name, address and phone number of the best steak houses with a 50 euro budget?\"\"\"\n",
        "\n",
        "print(review_chain.invoke(question))"
      ]
    },
    {
      "cell_type": "code",
      "execution_count": 26,
      "metadata": {},
      "outputs": [
        {
          "name": "stdout",
          "output_type": "stream",
          "text": [
            "Based on the reviews, a couple good sandwich places are:\n",
            "\n",
            "Soul Kitchen\n",
            "Via del Santo, 23, 35123 Padova PD, Italy\n",
            "+39 049 664818\n",
            "\n",
            "The reviews mention they have great burgers, including an Angus beef burger with excellent onion rings. One review wasn't as impressed with their carbonara burger though.\n",
            "\n",
            "Spiller | Padova \n",
            "Via Fornace Morandi, 24/B, 35133 Padova PD, Italy\n",
            "+39 049 864 4822\n",
            "\n",
            "A review recommends their club sandwich and says the location is nice with outdoor seating available. They suggest booking in advance as it can get busy.\n",
            "\n",
            "The other places focus more on burgers rather than a variety of sandwiches. I don't have enough information to confidently recommend additional sandwich spots beyond those two based on the reviews provided.\n"
          ]
        }
      ],
      "source": [
        "question = \"\"\"Give the name, address and phone number of the some good sandwich places?\"\"\"\n",
        "print(review_chain.invoke(question))"
      ]
    },
    {
      "cell_type": "code",
      "execution_count": 37,
      "metadata": {},
      "outputs": [
        {
          "name": "stdout",
          "output_type": "stream",
          "text": [
            "Based on the reviews provided, the most affordable yet high-quality restaurant in Padova seems to be Peace 'n' Spice. A few key points from the reviews:\n",
            "\n",
            "- It offers a variety of delicious Middle Eastern dishes at an inexpensive price level. One reviewer said \"Food was amazing. Very delicious, every dish we took was very tasty.\"\n",
            "\n",
            "- The ambiance and decor are described as fantastic. One review mentioned \"The ambiance is fantastic and even music in background brings nostalgia.\"\n",
            "\n",
            "- Service is friendly and accommodating. A reviewer said \"Staffs are very friendly and polite.\"\n",
            "\n",
            "- It has an average rating of 4.5 stars, higher than the McDonald's and KFC locations mentioned which are in the 3-4 star range.\n",
            "\n",
            "The McDonald's and KFC have mixed reviews, with some praising the taste/quality but others feeling it has declined. They are also inexpensive options.\n",
            "\n",
            "So in summary, for an affordable restaurant in Padova with high quality food, friendly service and nice atmosphere, Peace 'n' Spice stands out based on these reviews as the best option provided. The fast food chains are even cheaper but the quality seems more variable.\n"
          ]
        }
      ],
      "source": [
        "question = \"\"\"What are the most affordable but high-quality restaurants in City?\"\"\"\n",
        "result = review_chain.invoke(question)\n",
        "print(result)"
      ]
    },
    {
      "cell_type": "code",
      "execution_count": 72,
      "metadata": {},
      "outputs": [
        {
          "name": "stdout",
          "output_type": "stream",
          "text": [
            "I apologize, but I did not find information about how to make a roast beef sandwich at home in the provided reviews. The reviews are about various restaurants in Padova, Italy, including Hamerica's, Autogrill Limenella, Old England Pub, Ristorante Vecchio Falconiere, Brunch Republic Padova, Bar Nazionale, and McDonald's Padova Ovest. They mention dishes like burgers, chicken burrito, vegan pulled pork sandwich, steak, and tramezzino sandwiches, but do not provide instructions for making a roast beef sandwich at home.\n"
          ]
        }
      ],
      "source": [
        "question = \"\"\"How can I make a roast beef sandwich at home?\"\"\"\n",
        "print(review_chain.invoke(question))"
      ]
    },
    {
      "cell_type": "code",
      "execution_count": null,
      "metadata": {},
      "outputs": [
        {
          "name": "stdout",
          "output_type": "stream",
          "text": [
            "I'm sorry, I can only answer questions related to restaurants and bars based on the provided reviews. The context doesn't contain information about RAG. \n",
            "\n"
          ]
        }
      ],
      "source": [
        "question = \"\"\"What is RAG?\"\"\"\n",
        "print(review_chain.invoke(question))"
      ]
    },
    {
      "cell_type": "code",
      "execution_count": null,
      "metadata": {},
      "outputs": [
        {
          "name": "stdout",
          "output_type": "stream",
          "text": [
            "I can only provide assistance and answer questions related to restaurants. \n",
            "\n"
          ]
        }
      ],
      "source": [
        "question = \"\"\"What is Natural Language Processing?\"\"\"\n",
        "print(review_chain.invoke(question))"
      ]
    },
    {
      "cell_type": "code",
      "execution_count": null,
      "metadata": {},
      "outputs": [
        {
          "name": "stdout",
          "output_type": "stream",
          "text": [
            "I can only provide assistance and answer questions related to restaurants. I don't know anything about Natural Language Processing. \n",
            "\n"
          ]
        }
      ],
      "source": [
        "question = \"\"\"Explain Natural Language Processing.\"\"\"\n",
        "print(review_chain.invoke(question))"
      ]
    },
    {
      "cell_type": "markdown",
      "metadata": {},
      "source": [
        "## Evaluation on Synthetic Questions"
      ]
    },
    {
      "cell_type": "code",
      "execution_count": 34,
      "metadata": {},
      "outputs": [],
      "source": [
        "from pprint import pprint\n",
        "import random"
      ]
    },
    {
      "cell_type": "code",
      "execution_count": 76,
      "metadata": {},
      "outputs": [],
      "source": [
        "def get_question_answer_pairs(documents, generator_llm, num_pairs=30):\n",
        "  question_answer_pairs = []\n",
        "  for _ in range(num_pairs):\n",
        "    document = random.choice(documents)\n",
        "    page_content = document.page_content\n",
        "    prompt = f\"This is a factual text passage: {page_content}. Write only one question about the restaurant based on the provided text passage. only write the quesion and noting else.\"\n",
        "\n",
        "    question = generator_llm.invoke(prompt).content\n",
        "    answer = generator_llm.invoke(f\"From the following passage, answer the question: {question}\\n{page_content}\").content\n",
        "    question_answer_pairs.append({\"question\": question, \"answer\": answer, \"document\": document})\n",
        "\n",
        "  return question_answer_pairs"
      ]
    },
    {
      "cell_type": "code",
      "execution_count": 77,
      "metadata": {},
      "outputs": [],
      "source": [
        "generator_llm = ChatGoogleGenerativeAI(model=LLM_MODEL_NAME)\n",
        "question_answer_pairs = get_question_answer_pairs(documents, generator_llm, num_pairs=30)\n",
        "df = pd.DataFrame(question_answer_pairs)"
      ]
    },
    {
      "cell_type": "code",
      "execution_count": 16,
      "metadata": {},
      "outputs": [],
      "source": [
        "rag_answers = []\n",
        "for question in df[\"question\"]:\n",
        "    question = question.split(\"\\n\")[0]\n",
        "    answer = review_chain.invoke(question)\n",
        "    rag_answers.append(answer)\n",
        "\n",
        "df[\"rag_answer\"] = rag_answers\n",
        "df.to_csv('question_answer_pairs.csv', index=False)"
      ]
    },
    {
      "cell_type": "code",
      "execution_count": 21,
      "metadata": {},
      "outputs": [
        {
          "data": {
            "text/html": [
              "<div>\n",
              "<style scoped>\n",
              "    .dataframe tbody tr th:only-of-type {\n",
              "        vertical-align: middle;\n",
              "    }\n",
              "\n",
              "    .dataframe tbody tr th {\n",
              "        vertical-align: top;\n",
              "    }\n",
              "\n",
              "    .dataframe thead th {\n",
              "        text-align: right;\n",
              "    }\n",
              "</style>\n",
              "<table border=\"1\" class=\"dataframe\">\n",
              "  <thead>\n",
              "    <tr style=\"text-align: right;\">\n",
              "      <th></th>\n",
              "      <th>question</th>\n",
              "      <th>answer</th>\n",
              "      <th>document</th>\n",
              "      <th>rag_answer</th>\n",
              "    </tr>\n",
              "  </thead>\n",
              "  <tbody>\n",
              "    <tr>\n",
              "      <th>0</th>\n",
              "      <td>Does Bar Fortuna Sas offer delivery services? \\n</td>\n",
              "      <td>The passage states that `has_delivery=False`. ...</td>\n",
              "      <td>page_content='place_name=Bar Fortuna Sas\\nrevi...</td>\n",
              "      <td>No, Bar Fortuna Sas does not offer delivery se...</td>\n",
              "    </tr>\n",
              "    <tr>\n",
              "      <th>1</th>\n",
              "      <td>Is Crazy Pizza a good option for a budget-frie...</td>\n",
              "      <td>Yes, based on the information provided, Crazy ...</td>\n",
              "      <td>page_content='place_name=Crazy Pizza\\nreview=B...</td>\n",
              "      <td>Yes, Crazy Pizza is a good option for a budget...</td>\n",
              "    </tr>\n",
              "    <tr>\n",
              "      <th>2</th>\n",
              "      <td>What are the standout dishes at Ristorante da ...</td>\n",
              "      <td>The standout dishes at Ristorante da Giovanni ...</td>\n",
              "      <td>page_content=\"place_name=Ristorante da Giovann...</td>\n",
              "      <td>Ristorante da Giovanni is known for its authen...</td>\n",
              "    </tr>\n",
              "    <tr>\n",
              "      <th>3</th>\n",
              "      <td>Is Anima Underground a good place to find drag...</td>\n",
              "      <td>Based on the provided information, **yes**, An...</td>\n",
              "      <td>page_content='place_name=Anima Underground\\nre...</td>\n",
              "      <td>Yes, Anima Underground is a good place to find...</td>\n",
              "    </tr>\n",
              "    <tr>\n",
              "      <th>4</th>\n",
              "      <td>What kind of food is served at Veni Vidi Vino ...</td>\n",
              "      <td>The passage mentions \"substantial and spectacu...</td>\n",
              "      <td>page_content=\"place_name=Veni Vidi Vino Enotec...</td>\n",
              "      <td>Veni Vidi Vino Enoteca serves tasty food, incl...</td>\n",
              "    </tr>\n",
              "  </tbody>\n",
              "</table>\n",
              "</div>"
            ],
            "text/plain": [
              "                                            question  \\\n",
              "0   Does Bar Fortuna Sas offer delivery services? \\n   \n",
              "1  Is Crazy Pizza a good option for a budget-frie...   \n",
              "2  What are the standout dishes at Ristorante da ...   \n",
              "3  Is Anima Underground a good place to find drag...   \n",
              "4  What kind of food is served at Veni Vidi Vino ...   \n",
              "\n",
              "                                              answer  \\\n",
              "0  The passage states that `has_delivery=False`. ...   \n",
              "1  Yes, based on the information provided, Crazy ...   \n",
              "2  The standout dishes at Ristorante da Giovanni ...   \n",
              "3  Based on the provided information, **yes**, An...   \n",
              "4  The passage mentions \"substantial and spectacu...   \n",
              "\n",
              "                                            document  \\\n",
              "0  page_content='place_name=Bar Fortuna Sas\\nrevi...   \n",
              "1  page_content='place_name=Crazy Pizza\\nreview=B...   \n",
              "2  page_content=\"place_name=Ristorante da Giovann...   \n",
              "3  page_content='place_name=Anima Underground\\nre...   \n",
              "4  page_content=\"place_name=Veni Vidi Vino Enotec...   \n",
              "\n",
              "                                          rag_answer  \n",
              "0  No, Bar Fortuna Sas does not offer delivery se...  \n",
              "1  Yes, Crazy Pizza is a good option for a budget...  \n",
              "2  Ristorante da Giovanni is known for its authen...  \n",
              "3  Yes, Anima Underground is a good place to find...  \n",
              "4  Veni Vidi Vino Enoteca serves tasty food, incl...  "
            ]
          },
          "execution_count": 21,
          "metadata": {},
          "output_type": "execute_result"
        }
      ],
      "source": [
        "df.to_csv('question_answer_pairs.csv', index=False)\n",
        "df.head()"
      ]
    },
    {
      "cell_type": "code",
      "execution_count": 20,
      "metadata": {},
      "outputs": [
        {
          "data": {
            "text/html": [
              "<div>\n",
              "<style scoped>\n",
              "    .dataframe tbody tr th:only-of-type {\n",
              "        vertical-align: middle;\n",
              "    }\n",
              "\n",
              "    .dataframe tbody tr th {\n",
              "        vertical-align: top;\n",
              "    }\n",
              "\n",
              "    .dataframe thead th {\n",
              "        text-align: right;\n",
              "    }\n",
              "</style>\n",
              "<table border=\"1\" class=\"dataframe\">\n",
              "  <thead>\n",
              "    <tr style=\"text-align: right;\">\n",
              "      <th></th>\n",
              "      <th>question</th>\n",
              "      <th>answer</th>\n",
              "      <th>document</th>\n",
              "      <th>rag_answer</th>\n",
              "    </tr>\n",
              "  </thead>\n",
              "  <tbody>\n",
              "    <tr>\n",
              "      <th>0</th>\n",
              "      <td>Does Bar Fortuna Sas offer delivery services? \\n</td>\n",
              "      <td>The passage states that `has_delivery=False`. ...</td>\n",
              "      <td>page_content='place_name=Bar Fortuna Sas\\nrevi...</td>\n",
              "      <td>No, Bar Fortuna Sas does not offer delivery se...</td>\n",
              "    </tr>\n",
              "    <tr>\n",
              "      <th>1</th>\n",
              "      <td>Is Crazy Pizza a good option for a budget-frie...</td>\n",
              "      <td>Yes, based on the information provided, Crazy ...</td>\n",
              "      <td>page_content='place_name=Crazy Pizza\\nreview=B...</td>\n",
              "      <td>Yes, Crazy Pizza is a good option for a budget...</td>\n",
              "    </tr>\n",
              "    <tr>\n",
              "      <th>2</th>\n",
              "      <td>What are the standout dishes at Ristorante da ...</td>\n",
              "      <td>The standout dishes at Ristorante da Giovanni ...</td>\n",
              "      <td>page_content=\"place_name=Ristorante da Giovann...</td>\n",
              "      <td>Ristorante da Giovanni is known for its authen...</td>\n",
              "    </tr>\n",
              "    <tr>\n",
              "      <th>3</th>\n",
              "      <td>Is Anima Underground a good place to find drag...</td>\n",
              "      <td>Based on the provided information, **yes**, An...</td>\n",
              "      <td>page_content='place_name=Anima Underground\\nre...</td>\n",
              "      <td>Yes, Anima Underground is a good place to find...</td>\n",
              "    </tr>\n",
              "    <tr>\n",
              "      <th>4</th>\n",
              "      <td>What kind of food is served at Veni Vidi Vino ...</td>\n",
              "      <td>The passage mentions \"substantial and spectacu...</td>\n",
              "      <td>page_content=\"place_name=Veni Vidi Vino Enotec...</td>\n",
              "      <td>Veni Vidi Vino Enoteca serves tasty food, incl...</td>\n",
              "    </tr>\n",
              "  </tbody>\n",
              "</table>\n",
              "</div>"
            ],
            "text/plain": [
              "                                            question  \\\n",
              "0   Does Bar Fortuna Sas offer delivery services? \\n   \n",
              "1  Is Crazy Pizza a good option for a budget-frie...   \n",
              "2  What are the standout dishes at Ristorante da ...   \n",
              "3  Is Anima Underground a good place to find drag...   \n",
              "4  What kind of food is served at Veni Vidi Vino ...   \n",
              "\n",
              "                                              answer  \\\n",
              "0  The passage states that `has_delivery=False`. ...   \n",
              "1  Yes, based on the information provided, Crazy ...   \n",
              "2  The standout dishes at Ristorante da Giovanni ...   \n",
              "3  Based on the provided information, **yes**, An...   \n",
              "4  The passage mentions \"substantial and spectacu...   \n",
              "\n",
              "                                            document  \\\n",
              "0  page_content='place_name=Bar Fortuna Sas\\nrevi...   \n",
              "1  page_content='place_name=Crazy Pizza\\nreview=B...   \n",
              "2  page_content=\"place_name=Ristorante da Giovann...   \n",
              "3  page_content='place_name=Anima Underground\\nre...   \n",
              "4  page_content=\"place_name=Veni Vidi Vino Enotec...   \n",
              "\n",
              "                                          rag_answer  \n",
              "0  No, Bar Fortuna Sas does not offer delivery se...  \n",
              "1  Yes, Crazy Pizza is a good option for a budget...  \n",
              "2  Ristorante da Giovanni is known for its authen...  \n",
              "3  Yes, Anima Underground is a good place to find...  \n",
              "4  Veni Vidi Vino Enoteca serves tasty food, incl...  "
            ]
          },
          "execution_count": 20,
          "metadata": {},
          "output_type": "execute_result"
        }
      ],
      "source": [
        "df = pd.read_csv('question_answer_pairs.csv')\n",
        "df.head()"
      ]
    },
    {
      "cell_type": "code",
      "execution_count": 40,
      "metadata": {},
      "outputs": [
        {
          "name": "stdout",
          "output_type": "stream",
          "text": [
            "Does Bar Fortuna Sas offer delivery services? \n",
            "\n",
            "Is Crazy Pizza a good option for a budget-friendly meal? \n",
            "\n",
            "What are the standout dishes at Ristorante da Giovanni? \n",
            "\n",
            "Is Anima Underground a good place to find drag performances? \n",
            "\n",
            "What kind of food is served at Veni Vidi Vino Enoteca? \n",
            "\n",
            "Does Crazy Pizza offer dine-in options? \n",
            "\n",
            "Does Osteria Di Fuori Porta offer delivery? \n",
            "\n",
            "Is Bar La Mandria in Padova, Italy, reservable? \n",
            "\n",
            "Is Osteria Enoteca L'Indeciso a moderately priced restaurant in Padua, Italy? \n",
            "\n",
            "Is San Sushi a popular choice for sushi in Padova? \n",
            "\n"
          ]
        }
      ],
      "source": [
        "for i in range(10): \n",
        "    print(df[\"question\"].loc[i])"
      ]
    },
    {
      "cell_type": "markdown",
      "metadata": {},
      "source": [
        "## Limitatoins of classic LLMs"
      ]
    },
    {
      "cell_type": "code",
      "execution_count": null,
      "metadata": {},
      "outputs": [
        {
          "name": "stdout",
          "output_type": "stream",
          "text": [
            "'Does Bar Fortuna Sas in Padova city offer delivery services?'\n",
            "('I do not have access to real-time information, including business details '\n",
            " 'like delivery services. To find out if Bar Fortuna Sas in Padova city offers '\n",
            " 'delivery, I recommend checking their:\\n'\n",
            " '\\n'\n",
            " '* **Website:** Many businesses have websites that list their services.\\n'\n",
            " '* **Social Media:** Look for their Facebook or Instagram page, as they may '\n",
            " 'advertise delivery options there.\\n'\n",
            " '* **Online Food Delivery Apps:** Check apps like Deliveroo, Uber Eats, or '\n",
            " 'Glovo to see if Bar Fortuna Sas is listed.\\n'\n",
            " '* **Phone Call:** Call the restaurant directly to inquire about their '\n",
            " 'delivery options. \\n'\n",
            " '\\n'\n",
            " 'I hope this helps! \\n')\n"
          ]
        }
      ],
      "source": [
        "question = \"Does Bar Fortuna Sas in Padova city offer delivery services?\"\n",
        "answer = llm.invoke(question).content\n",
        "pprint(question)\n",
        "pprint(answer)"
      ]
    },
    {
      "cell_type": "code",
      "execution_count": 24,
      "metadata": {},
      "outputs": [
        {
          "name": "stdout",
          "output_type": "stream",
          "text": [
            "Does Bar Fortuna Sas offer delivery services? \n",
            "\n",
            "The passage states that `has_delivery=False`. Therefore, Bar Fortuna Sas **does not** offer delivery services. \n",
            "\n",
            "page_content='place_name=Bar Fortuna Sas\\nreview=Excellent breakfast.....\\nplace_address=Via Adriatica, 21, 35125 Padova PD, Italy\\nplace_average_ratings=3.9\\nplace_price_level=PRICE_LEVEL_INEXPENSIVE\\nplace_primary_type=bar\\nhas_delivery=False\\nis_reservable=False' metadata={'place_phone_number': '+39 049 673 2077', 'place_website': nan, 'source': 'ChIJscwimbzbfkcRAcJSXrAFVns', 'places_opening_hours': \"['Monday: 6:30\\\\u202fAM\\\\u2009–\\\\u20092:00\\\\u202fAM', 'Tuesday: 3:00\\\\u202fPM\\\\u2009–\\\\u20092:00\\\\u202fAM', 'Wednesday: 6:30\\\\u202fAM\\\\u2009–\\\\u20092:00\\\\u202fAM', 'Thursday: 6:30\\\\u202fAM\\\\u2009–\\\\u20092:00\\\\u202fAM', 'Friday: 6:30\\\\u202fAM\\\\u2009–\\\\u20092:00\\\\u202fAM', 'Saturday: 6:30\\\\u202fAM\\\\u2009–\\\\u20092:00\\\\u202fAM', 'Sunday: 6:30\\\\u202fAM\\\\u2009–\\\\u20092:00\\\\u202fAM']\", 'filename': 'ChIJscwimbzbfkcRAcJSXrAFVns'}\n",
            "No, Bar Fortuna Sas does not offer delivery services. \n",
            "\n"
          ]
        }
      ],
      "source": [
        "question = \"Does Bar Fortuna Sas in Padova city offer delivery services?\"\n",
        "answer = review_chain.invoke(question)\n",
        "print(question)\n",
        "print(answer)"
      ]
    },
    {
      "cell_type": "code",
      "execution_count": 41,
      "metadata": {},
      "outputs": [
        {
          "name": "stdout",
          "output_type": "stream",
          "text": [
            "'What kind of food is served at Veni Vidi Vino Enoteca?'\n",
            "('I do not have access to real-time information, including menus for '\n",
            " 'restaurants. To find out what kind of food is served at Veni Vidi Vino '\n",
            " 'Enoteca, I recommend checking their website or calling the restaurant '\n",
            " 'directly. \\n')\n"
          ]
        }
      ],
      "source": [
        "question = \"What kind of food is served at Veni Vidi Vino Enoteca?\"\n",
        "answer = llm.invoke(question).content\n",
        "pprint(question)\n",
        "pprint(answer)"
      ]
    },
    {
      "cell_type": "code",
      "execution_count": 43,
      "metadata": {},
      "outputs": [
        {
          "name": "stdout",
          "output_type": "stream",
          "text": [
            "'What kind of food is served at Veni Vidi Vino Enoteca?'\n",
            "('Veni Vidi Vino Enoteca serves very tasty food, according to one review.  '\n",
            " 'It\\'s described as \"too much for us to eat.\"  The review also mentions \"top '\n",
            " 'level wine\" and describes the owner as a \"very polite person.\" \\n')\n"
          ]
        }
      ],
      "source": [
        "question = \"What kind of food is served at Veni Vidi Vino Enoteca?\"\n",
        "answer = review_chain.invoke(question)\n",
        "pprint(question)\n",
        "pprint(answer)"
      ]
    }
  ],
  "metadata": {
    "accelerator": "GPU",
    "colab": {
      "gpuType": "T4",
      "provenance": []
    },
    "kernelspec": {
      "display_name": "Python 3 (ipykernel)",
      "language": "python",
      "name": "python3"
    },
    "language_info": {
      "codemirror_mode": {
        "name": "ipython",
        "version": 3
      },
      "file_extension": ".py",
      "mimetype": "text/x-python",
      "name": "python",
      "nbconvert_exporter": "python",
      "pygments_lexer": "ipython3",
      "version": "3.10.8"
    }
  },
  "nbformat": 4,
  "nbformat_minor": 0
}
